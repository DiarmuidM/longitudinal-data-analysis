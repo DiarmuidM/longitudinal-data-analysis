{
 "cells": [
  {
   "cell_type": "markdown",
   "metadata": {
    "slideshow": {
     "slide_type": "slide"
    }
   },
   "source": [
    "# Panel Data Analysis III"
   ]
  },
  {
   "cell_type": "markdown",
   "metadata": {
    "slideshow": {
     "slide_type": "subslide"
    }
   },
   "source": [
    "In this section we estimate a statistical model that leverages some of the main advantages of using panel data: **Fixed Effects**. We show some examples of how to estimate and interpret this model, and reflect on the conditions under which the model is appropriate."
   ]
  },
  {
   "cell_type": "markdown",
   "metadata": {
    "slideshow": {
     "slide_type": "slide"
    }
   },
   "source": [
    "## Quick reminder"
   ]
  },
  {
   "cell_type": "markdown",
   "metadata": {
    "slideshow": {
     "slide_type": "subslide"
    }
   },
   "source": [
    "Let's briefly recap some essential concepts regarding panel data:"
   ]
  },
  {
   "cell_type": "markdown",
   "metadata": {
    "slideshow": {
     "slide_type": "fragment"
    }
   },
   "source": [
    "Two sources of variation ([Gould, n.d.](https://www.stata.com/support/faqs/statistics/between-estimator/)): \n",
    "1. Cross-section information on differences between units\n",
    "2. Time series information on differences over time within units"
   ]
  },
  {
   "cell_type": "markdown",
   "metadata": {
    "slideshow": {
     "slide_type": "notes"
    }
   },
   "source": [
    "So far our panel data models &mdash; Pooled OLS and Between Effects &mdash; only allow us to examine differences between units."
   ]
  },
  {
   "cell_type": "markdown",
   "metadata": {
    "slideshow": {
     "slide_type": "subslide"
    }
   },
   "source": [
    "Two main issues with estimating statistical models:\n",
    "1. Interdependence of errors\n",
    "2. Improper model specification"
   ]
  },
  {
   "cell_type": "markdown",
   "metadata": {
    "slideshow": {
     "slide_type": "notes"
    }
   },
   "source": [
    "The first can lead to inefficient estimates: under-estimated standard errors and false positive tests of statistical significance.\n",
    "\n",
    "The second to biased coefficients and incorrect inferences regarding magnitude and direction of effect of explanatory variables."
   ]
  },
  {
   "cell_type": "markdown",
   "metadata": {
    "slideshow": {
     "slide_type": "subslide"
    }
   },
   "source": [
    "Therefore we need a statistical model that allows us to **examine change over time** and/or **control for omitted variable bias**."
   ]
  },
  {
   "cell_type": "markdown",
   "metadata": {
    "slideshow": {
     "slide_type": "slide"
    }
   },
   "source": [
    "## Defining our statistical model"
   ]
  },
  {
   "cell_type": "markdown",
   "metadata": {
    "slideshow": {
     "slide_type": "subslide"
    }
   },
   "source": [
    "Before estimating Fixed Effects and Random Effects models separately, it is worth identifying the key commonality between their respective statistical models.\n",
    "\n",
    "Let's take a simplified version of our charity income statistical model, this time with only one explanatory variable (*age*) - typically it looks as follows:"
   ]
  },
  {
   "cell_type": "markdown",
   "metadata": {
    "slideshow": {
     "slide_type": "fragment"
    }
   },
   "source": [
    "$$ \\text{y}_{it} = \\beta_0 + \\beta_1x_{1it} + \\epsilon_{it} \\tag{1.7} $$"
   ]
  },
  {
   "cell_type": "markdown",
   "metadata": {
    "slideshow": {
     "slide_type": "subslide"
    }
   },
   "source": [
    "However it is possible to **decompose** the residual variation (error term) into two separate terms:"
   ]
  },
  {
   "cell_type": "markdown",
   "metadata": {
    "slideshow": {
     "slide_type": "fragment"
    }
   },
   "source": [
    "$$ \\text{y}_{it} = \\beta_0 + \\beta_1x_{1it} + \\mu_{i} + \\text{e}_{it} \\tag{1.8} $$"
   ]
  },
  {
   "cell_type": "markdown",
   "metadata": {
    "slideshow": {
     "slide_type": "fragment"
    }
   },
   "source": [
    "In equation 1.8. we have introduced a **unit-specific** term to represent some of the residual variation in the outcome that is unexplained by the explanatory variables."
   ]
  },
  {
   "cell_type": "markdown",
   "metadata": {
    "slideshow": {
     "slide_type": "slide"
    }
   },
   "source": [
    "### Decomposition implications"
   ]
  },
  {
   "cell_type": "markdown",
   "metadata": {
    "slideshow": {
     "slide_type": "fragment"
    }
   },
   "source": [
    "This term ($\\mu_{i}$) captures the effect of *residual heterogeneity* on the outcome i.e., unobserved or immeasurable characteristics of the units that are associated with the outcome (and possibly the explanatory variables), and vary across units."
   ]
  },
  {
   "cell_type": "markdown",
   "metadata": {
    "slideshow": {
     "slide_type": "notes"
    }
   },
   "source": [
    "In our charity data example, these charity-specific effects could be organisational culture, informal connections to government etc. In theory these characteristics could be measured but it's often wildly impractical."
   ]
  },
  {
   "cell_type": "markdown",
   "metadata": {
    "slideshow": {
     "slide_type": "fragment"
    }
   },
   "source": [
    "The unit-specific effect also controls for the effect of other omitted variables on the outcome (and possibly the explanatory variables)."
   ]
  },
  {
   "cell_type": "markdown",
   "metadata": {
    "slideshow": {
     "slide_type": "notes"
    }
   },
   "source": [
    "In our charity data example, we do not include explanatory variables capturing the amount a charity spends on fundraising, how well known it is etc. "
   ]
  },
  {
   "cell_type": "markdown",
   "metadata": {
    "slideshow": {
     "slide_type": "slide"
    }
   },
   "source": [
    "### A word of caution"
   ]
  },
  {
   "cell_type": "markdown",
   "metadata": {
    "slideshow": {
     "slide_type": "fragment"
    }
   },
   "source": [
    "Note the lack of a time subscript *t* in the new term $\\mu_{i}$. The implication is that the unobserved unit-specific effect is **constant** over time (i.e., within units).\n",
    "\n",
    "Therefore Fixed Effects and Random Effects models only control for omitted variables that do not change within units (e.g., race, sex at birth, natural ability)."
   ]
  },
  {
   "cell_type": "markdown",
   "metadata": {
    "slideshow": {
     "slide_type": "slide"
    }
   },
   "source": [
    "## Fixed Effects Model"
   ]
  },
  {
   "cell_type": "markdown",
   "metadata": {
    "slideshow": {
     "slide_type": "subslide"
    }
   },
   "source": [
    "### Conceptualising the Fixed Effects model"
   ]
  },
  {
   "cell_type": "markdown",
   "metadata": {
    "slideshow": {
     "slide_type": "fragment"
    }
   },
   "source": [
    "1. The Fixed Effects model focuses on how changes in explanatory variables are associated with changes in the outcome **within units**.\n",
    "2. It assumes the observed explanatory variables and unobserved unit-specific effect are correlated (i.e., omitted variable bias is an issue)."
   ]
  },
  {
   "cell_type": "markdown",
   "metadata": {
    "slideshow": {
     "slide_type": "subslide"
    }
   },
   "source": [
    "Mehmetoglu and Jakobsen (2016, p. 241):\n",
    "> \"In other words, we use fixed effects whenever we are only interested in the impact of variables that vary over time. This estimator helps us explore the relationship between the dependent and the explanatory variables within a unit (person, company, country, etc.) Each unit has its own individual characteristics that may or may not influence the predictor variables.\""
   ]
  },
  {
   "cell_type": "markdown",
   "metadata": {
    "slideshow": {
     "slide_type": "subslide"
    }
   },
   "source": [
    "The Fixed Effects model is specified as follows:"
   ]
  },
  {
   "cell_type": "markdown",
   "metadata": {
    "slideshow": {
     "slide_type": "fragment"
    }
   },
   "source": [
    "$$ \\text{y}_{it} = \\beta_0 + \\lambda_{i} + \\beta_1x_{1it} +...+ \\beta_kx_{kit} + \\text{e}_{it} \\tag{1.9} $$"
   ]
  },
  {
   "cell_type": "markdown",
   "metadata": {
    "slideshow": {
     "slide_type": "fragment"
    }
   },
   "source": [
    "Where:\n",
    "\n",
    "$\\lambda_{i}$ represents the unit-specific effect on the outcome."
   ]
  },
  {
   "cell_type": "markdown",
   "metadata": {
    "slideshow": {
     "slide_type": "subslide"
    }
   },
   "source": [
    "The value of $\\lambda_{i}$ captures the effect of **all** of the unobserved time-invariant explanatory variables that are missing from the model. As a result, while the value of $\\lambda_{i}$ is calculated, it is not of much interest in and of itself. It's main role is to allow for a more robust (i.e., unbiased) estimation of the effects of the explanatory variables in the model."
   ]
  },
  {
   "cell_type": "markdown",
   "metadata": {
    "slideshow": {
     "slide_type": "notes"
    }
   },
   "source": [
    "In essence the Fixed Effects model produces a unit-specific intercept, which is the sum of the overall constant and the unit-specific effect:\n",
    "\n",
    "$$ \\text{y}_{it} = \\alpha_{i} + \\beta_1x_{1it} +...+ \\beta_kx_{kit} + \\text{e}_{it} \\tag{1.10} $$"
   ]
  },
  {
   "cell_type": "markdown",
   "metadata": {
    "slideshow": {
     "slide_type": "fragment"
    }
   },
   "source": [
    "Where:\n",
    "\n",
    "$\\alpha_{i} = \\beta_0 + \\lambda_{i}$"
   ]
  },
  {
   "cell_type": "markdown",
   "metadata": {
    "slideshow": {
     "slide_type": "notes"
    }
   },
   "source": [
    "The unit-specific effect shifts the overall intercept up or down the y axis by the value of $\\lambda$."
   ]
  },
  {
   "cell_type": "markdown",
   "metadata": {
    "slideshow": {
     "slide_type": "subslide"
    }
   },
   "source": [
    "#### Final thoughts on conceptualisation"
   ]
  },
  {
   "cell_type": "markdown",
   "metadata": {
    "slideshow": {
     "slide_type": "fragment"
    }
   },
   "source": [
    "Consider the Fixed Effects model a standard cross-sectional regression model with the addition of a dummy variable being for every unit in the panel except for one (i.e., *n - 1* dummy variables are added as explanatory variables)."
   ]
  },
  {
   "cell_type": "markdown",
   "metadata": {
    "slideshow": {
     "slide_type": "slide"
    }
   },
   "source": [
    "### Estimation"
   ]
  },
  {
   "cell_type": "code",
   "execution_count": 1,
   "metadata": {
    "slideshow": {
     "slide_type": "subslide"
    }
   },
   "outputs": [
    {
     "name": "stdout",
     "output_type": "stream",
     "text": [
      "(Contains annual accounts of charities in E&W for financial years 2006-2017)\n"
     ]
    }
   ],
   "source": [
    "use \"../data/charity-panel-analysis-2020-09-10.dta\", clear"
   ]
  },
  {
   "cell_type": "code",
   "execution_count": 2,
   "metadata": {
    "slideshow": {
     "slide_type": "subslide"
    }
   },
   "outputs": [
    {
     "name": "stdout",
     "output_type": "stream",
     "text": [
      "note: localc omitted because of collinearity\n",
      "note: west omitted because of collinearity\n",
      "note: genchar omitted because of collinearity\n",
      "\n",
      "Fixed-effects (within) regression               Number of obs     =     23,826\n",
      "Group variable: regno                           Number of groups  =      2,166\n",
      "\n",
      "R-sq:                                           Obs per group:\n",
      "     within  = 0.0140                                         min =         11\n",
      "     between = 0.0425                                         avg =       11.0\n",
      "     overall = 0.0403                                         max =         11\n",
      "\n",
      "                                                F(3,21657)        =     102.28\n",
      "corr(u_i, Xb)  = -0.1002                        Prob > F          =     0.0000\n",
      "\n",
      "------------------------------------------------------------------------------\n",
      "        linc |      Coef.   Std. Err.      t    P>|t|     [95% Conf. Interval]\n",
      "-------------+----------------------------------------------------------------\n",
      "      orgage |   .0069072   .0005802    11.90   0.000       .00577    .0080444\n",
      "      localc |          0  (omitted)\n",
      "        west |          0  (omitted)\n",
      "     genchar |          0  (omitted)\n",
      "    nsources |   .0289886   .0027931    10.38   0.000     .0235139    .0344633\n",
      "govern_share |   .0010325   .0001225     8.43   0.000     .0007923    .0012727\n",
      "       _cons |   14.71504    .026082   564.18   0.000     14.66392    14.76616\n",
      "-------------+----------------------------------------------------------------\n",
      "     sigma_u |  .94534636\n",
      "     sigma_e |   .2821005\n",
      "         rho |  .91823289   (fraction of variance due to u_i)\n",
      "------------------------------------------------------------------------------\n",
      "F test that all u_i=0: F(2165, 21657) = 120.80               Prob > F = 0.0000\n"
     ]
    }
   ],
   "source": [
    "xtreg linc orgage localc west genchar nsources govern_share, fe"
   ]
  },
  {
   "cell_type": "markdown",
   "metadata": {
    "slideshow": {
     "slide_type": "subslide"
    }
   },
   "source": [
    "**QUESTION TIME**\n",
    "\n",
    "1. How much of the variation in the outcome is accounted for by the model? Is this a lot?\n",
    "2. Why were three of the observed explanatory variables excluded in the estimation of the model?\n",
    "3. What does the $\\text{rho}$ statistic tell us?\n",
    "4. Is there evidence of correlation between the unit-specific effects and observed explanatory variables?"
   ]
  },
  {
   "cell_type": "markdown",
   "metadata": {
    "slideshow": {
     "slide_type": "subslide"
    }
   },
   "source": [
    "### Interpretation"
   ]
  },
  {
   "cell_type": "markdown",
   "metadata": {
    "slideshow": {
     "slide_type": "fragment"
    }
   },
   "source": [
    "The effect of the observed explanatory variables is **net of** the effect of the unit-specific term. That is, we've controlled for the correlation between *X* and $\\mu_{i}$."
   ]
  },
  {
   "cell_type": "markdown",
   "metadata": {
    "slideshow": {
     "slide_type": "notes"
    }
   },
   "source": [
    "$\\text{_cons}$ is the intercept and represents the average value of the fixed effects + the overall constant."
   ]
  },
  {
   "cell_type": "markdown",
   "metadata": {
    "slideshow": {
     "slide_type": "fragment"
    }
   },
   "source": [
    "$\\text{orgage}$ is the predicted change in the outcome for a one-unit increase in organisational age."
   ]
  },
  {
   "cell_type": "markdown",
   "metadata": {
    "slideshow": {
     "slide_type": "fragment"
    }
   },
   "source": [
    "$\\text{rho}$ is the proportion of unexplained variance in the outcome explained by unobserved differences between charities (the unit-specific effects), rather than changes within them."
   ]
  },
  {
   "cell_type": "markdown",
   "metadata": {
    "slideshow": {
     "slide_type": "notes"
    }
   },
   "source": [
    "If $\\text{rho}$ > .5 then most of the residual variation in the outcome is due to differences between units, if $\\text{rho}$ < .5 then most of the residual variation is accounted for by differences within units (i.e., the effects of the explanatory variables)."
   ]
  },
  {
   "cell_type": "markdown",
   "metadata": {
    "slideshow": {
     "slide_type": "notes"
    }
   },
   "source": [
    "$\\text{corr(u_i, Xb)}$ is the correlation between the unit-specific effect and the observed explanatory variables in the model."
   ]
  },
  {
   "cell_type": "markdown",
   "metadata": {
    "slideshow": {
     "slide_type": "notes"
    }
   },
   "source": [
    "* $\\text{sigma_u}$ (or $\\sigma_u$) is the standard deviation of the fixed effects (i.e., the residuals within units.\n",
    "* $\\text{sigma_e}$ (or $\\sigma_e$) is the standard deviation of residuals ei.\n",
    "* $\\text{R-sq: within}$ is the proportion of variance explained by the observed explanatory variables (i.e., excluding the unit-specific effect)."
   ]
  },
  {
   "cell_type": "markdown",
   "metadata": {
    "slideshow": {
     "slide_type": "subslide"
    }
   },
   "source": [
    "### Post-estimation"
   ]
  },
  {
   "cell_type": "markdown",
   "metadata": {
    "slideshow": {
     "slide_type": "fragment"
    }
   },
   "source": [
    "Though it's very rarely of substantive interest, we can recover the unit-specific effects (and other parameter estimates) after estimating a Fixed Effects model:"
   ]
  },
  {
   "cell_type": "code",
   "execution_count": 3,
   "metadata": {
    "slideshow": {
     "slide_type": "subslide"
    }
   },
   "outputs": [],
   "source": [
    "capture predict fixed, u\n",
    "capture predict y_hat, xb\n",
    "capture predict ei, e\n",
    "capture predict residuals, ue\n",
    "capture egen pickone = tag(regno)"
   ]
  },
  {
   "cell_type": "code",
   "execution_count": 4,
   "metadata": {
    "slideshow": {
     "slide_type": "subslide"
    }
   },
   "outputs": [
    {
     "name": "stdout",
     "output_type": "stream",
     "text": [
      "\n",
      "     +-------------------------------+\n",
      "     |  regno   fin_year       fixed |\n",
      "     |-------------------------------|\n",
      "  1. | 200048    2006-07   -.9911593 |\n",
      " 12. | 200051    2006-07    1.341765 |\n",
      " 23. | 200069    2006-07   -.4608771 |\n",
      " 34. | 200222    2006-07   -.1173254 |\n",
      " 45. | 200424    2006-07   -.4077182 |\n",
      "     |-------------------------------|\n",
      " 56. | 200431    2006-07   -.5248324 |\n",
      " 67. | 200500    2006-07   -.0236679 |\n",
      " 78. | 201081    2006-07    .0432656 |\n",
      " 89. | 201321    2006-07   -1.400211 |\n",
      "100. | 201911    2006-07   -.7076412 |\n",
      "     +-------------------------------+\n"
     ]
    }
   ],
   "source": [
    "l regno fin_year fixed if pickone in 1/100"
   ]
  },
  {
   "cell_type": "code",
   "execution_count": 5,
   "metadata": {
    "scrolled": false,
    "slideshow": {
     "slide_type": "subslide"
    }
   },
   "outputs": [
    {
     "name": "stdout",
     "output_type": "stream",
     "text": [
      "\n",
      "     +-----------------------------------------------------------------+\n",
      "  1. |  regno | fin_year |     linc |    y_hat | residuals |     fixed |\n",
      "     | 200048 |  2006-07 | 14.00189 | 15.17772 | -1.175828 | -.9911593 |\n",
      "     |-----------------------------------------------------------------|\n",
      "     |                                   ei                            |\n",
      "     |                            -.1846687                            |\n",
      "     +-----------------------------------------------------------------+\n",
      "\n",
      "     +-----------------------------------------------------------------+\n",
      "  2. |  regno | fin_year |     linc |    y_hat | residuals |     fixed |\n",
      "     | 200048 |  2007-08 | 14.17788 | 15.18462 | -1.006747 | -.9911593 |\n",
      "     |-----------------------------------------------------------------|\n",
      "     |                                   ei                            |\n",
      "     |                            -.0155877                            |\n",
      "     +-----------------------------------------------------------------+\n",
      "\n",
      "     +-----------------------------------------------------------------+\n",
      "  3. |  regno | fin_year |     linc |    y_hat | residuals |     fixed |\n",
      "     | 200048 |  2008-09 |  14.1851 | 15.22075 |  -1.03565 | -.9911593 |\n",
      "     |-----------------------------------------------------------------|\n",
      "     |                                   ei                            |\n",
      "     |                            -.0444904                            |\n",
      "     +-----------------------------------------------------------------+\n",
      "\n",
      "     +-----------------------------------------------------------------+\n",
      "  4. |  regno | fin_year |     linc |    y_hat | residuals |     fixed |\n",
      "     | 200048 |  2009-10 |  14.2326 | 15.19844 | -.9658405 | -.9911593 |\n",
      "     |-----------------------------------------------------------------|\n",
      "     |                                   ei                            |\n",
      "     |                             .0253188                            |\n",
      "     +-----------------------------------------------------------------+\n",
      "\n",
      "     +-----------------------------------------------------------------+\n",
      "  5. |  regno | fin_year |     linc |    y_hat | residuals |     fixed |\n",
      "     | 200048 |  2010-11 |  14.1709 | 15.20695 | -1.036052 | -.9911593 |\n",
      "     |-----------------------------------------------------------------|\n",
      "     |                                   ei                            |\n",
      "     |                            -.0448926                            |\n",
      "     +-----------------------------------------------------------------+\n",
      "\n",
      "     +-----------------------------------------------------------------+\n",
      "  6. |  regno | fin_year |     linc |    y_hat | residuals |     fixed |\n",
      "     | 200048 |  2011-12 | 14.14801 | 15.21225 |  -1.06424 | -.9911593 |\n",
      "     |-----------------------------------------------------------------|\n",
      "     |                                   ei                            |\n",
      "     |                            -.0730808                            |\n",
      "     +-----------------------------------------------------------------+\n",
      "\n",
      "     +-----------------------------------------------------------------+\n",
      "  7. |  regno | fin_year |     linc |    y_hat | residuals |     fixed |\n",
      "     | 200048 |  2012-13 |   14.376 | 15.25097 | -.8749701 | -.9911593 |\n",
      "     |-----------------------------------------------------------------|\n",
      "     |                                   ei                            |\n",
      "     |                             .1161892                            |\n",
      "     +-----------------------------------------------------------------+\n",
      "\n",
      "     +-----------------------------------------------------------------+\n",
      "  8. |  regno | fin_year |     linc |    y_hat | residuals |     fixed |\n",
      "     | 200048 |  2013-14 | 14.29996 | 15.22607 | -.9261075 | -.9911593 |\n",
      "     |-----------------------------------------------------------------|\n",
      "     |                                   ei                            |\n",
      "     |                             .0650518                            |\n",
      "     +-----------------------------------------------------------------+\n",
      "\n",
      "     +-----------------------------------------------------------------+\n",
      "  9. |  regno | fin_year |     linc |    y_hat | residuals |     fixed |\n",
      "     | 200048 |  2014-15 | 14.26031 |  15.2623 | -1.001989 | -.9911593 |\n",
      "     |-----------------------------------------------------------------|\n",
      "     |                                   ei                            |\n",
      "     |                            -.0108296                            |\n",
      "     +-----------------------------------------------------------------+\n",
      "\n",
      "     +-----------------------------------------------------------------+\n",
      " 10. |  regno | fin_year |     linc |    y_hat | residuals |     fixed |\n",
      "     | 200048 |  2015-16 | 14.30113 | 15.23988 | -.9387508 | -.9911593 |\n",
      "     |-----------------------------------------------------------------|\n",
      "     |                                   ei                            |\n",
      "     |                             .0524085                            |\n",
      "     +-----------------------------------------------------------------+\n",
      "\n",
      "     +-----------------------------------------------------------------+\n",
      " 11. |  regno | fin_year |     linc |    y_hat | residuals |     fixed |\n",
      "     | 200048 |  2016-17 | 14.37021 | 15.24679 | -.8765777 | -.9911593 |\n",
      "     |-----------------------------------------------------------------|\n",
      "     |                                   ei                            |\n",
      "     |                             .1145816                            |\n",
      "     +-----------------------------------------------------------------+\n"
     ]
    }
   ],
   "source": [
    "l regno fin_year linc y_hat residuals fixed ei in 1/11"
   ]
  },
  {
   "cell_type": "code",
   "execution_count": 6,
   "metadata": {
    "slideshow": {
     "slide_type": "subslide"
    }
   },
   "outputs": [
    {
     "name": "stdout",
     "output_type": "stream",
     "text": [
      "-1.175828\n"
     ]
    }
   ],
   "source": [
    "di -.9911593 + -.1846687"
   ]
  },
  {
   "cell_type": "code",
   "execution_count": 7,
   "metadata": {
    "slideshow": {
     "slide_type": "subslide"
    }
   },
   "outputs": [
    {
     "name": "stdout",
     "output_type": "stream",
     "text": [
      "\n",
      "   stats |     fixed        ei\n",
      "---------+--------------------\n",
      "    mean |   -0.0000   -0.0000\n",
      "      sd |    0.9451    0.2690\n",
      "------------------------------\n"
     ]
    }
   ],
   "source": [
    "tabstat fixed ei, s(mean sd) format(%5.4f)"
   ]
  },
  {
   "cell_type": "markdown",
   "metadata": {
    "slideshow": {
     "slide_type": "subslide"
    }
   },
   "source": [
    "### Benefits of Fixed Effects"
   ]
  },
  {
   "cell_type": "markdown",
   "metadata": {
    "slideshow": {
     "slide_type": "fragment"
    }
   },
   "source": [
    "* Analyse change over time.\n",
    "* Control for residual heterogeneity.\n",
    "* Coefficient estimates are **consistent** if the key assumption is true. That is, because we have controlled for the effect of unobserved time-invariant explanatory variables, our coefficients are more robust, which means increasing the sample size increases the likelihood the estimates are converging on their true values.\n",
    "\n",
    "(Mehmetoglu and Jakobsen, 2016)"
   ]
  },
  {
   "cell_type": "markdown",
   "metadata": {
    "slideshow": {
     "slide_type": "subslide"
    }
   },
   "source": [
    "### Limitations of Fixed Effects"
   ]
  },
  {
   "cell_type": "markdown",
   "metadata": {
    "slideshow": {
     "slide_type": "fragment"
    }
   },
   "source": [
    "* Ignores differences between units.\n",
    "* Coefficient estimates are **inefficient**, especially when compared to those from a Random Effects model. As a result, standard errors tend to be larger. Put simply, the estimates of the coefficients are based on only one source of variation (within) and thus are more uncertain.\n",
    "* Cannot include observed time-invariant explanatory variables. This is due to a very simple reason: if a value does not vary, how can it be associated with variation in the value of another variable?\n",
    "* Cannot control for unobserved residual heterogeneity that varies over time e.g., educational ability? Natural resilience?\n",
    "* It is not well suited for variables that rarely change within units."
   ]
  },
  {
   "cell_type": "markdown",
   "metadata": {
    "slideshow": {
     "slide_type": "notes"
    }
   },
   "source": [
    "Think carefully about variables that change little over time - how might these influence the outcome? For example, few individuals in your panel might switch from non-graduate to graduate (let's say you have a sample of older individuals). In a fixed effects model, your estimation of the effect of switching between non-graduate and graduate will be based on a small number of occurrences and care is due in interpreting the coefficient."
   ]
  },
  {
   "cell_type": "markdown",
   "metadata": {
    "slideshow": {
     "slide_type": "subslide"
    }
   },
   "source": [
    "### Summarising the Fixed Effects model"
   ]
  },
  {
   "cell_type": "markdown",
   "metadata": {
    "slideshow": {
     "slide_type": "fragment"
    }
   },
   "source": [
    "Focuses on change over time within a unit of analysis."
   ]
  },
  {
   "cell_type": "markdown",
   "metadata": {
    "slideshow": {
     "slide_type": "fragment"
    }
   },
   "source": [
    "Can control for the effect of unobserved time-invariant explanatory variables (residual heterogeneity)."
   ]
  },
  {
   "cell_type": "markdown",
   "metadata": {
    "slideshow": {
     "slide_type": "fragment"
    }
   },
   "source": [
    "Provides robust estimates of observed explanatory variables when said variables are correlated with unobserved effects."
   ]
  },
  {
   "cell_type": "markdown",
   "metadata": {
    "slideshow": {
     "slide_type": "fragment"
    }
   },
   "source": [
    "However cannot include observed explanatory variables that do not vary within units."
   ]
  },
  {
   "cell_type": "markdown",
   "metadata": {
    "slideshow": {
     "slide_type": "slide"
    }
   },
   "source": [
    "## Summary"
   ]
  },
  {
   "cell_type": "markdown",
   "metadata": {
    "slideshow": {
     "slide_type": "fragment"
    }
   },
   "source": [
    "Both the Pooled OLS and Between Effects models provide useful information on the association between an outcome *Y* and a set of explanatory variables *X*."
   ]
  },
  {
   "cell_type": "markdown",
   "metadata": {
    "slideshow": {
     "slide_type": "fragment"
    }
   },
   "source": [
    "Fixed Effects provide potentially different information on the association between an outcome *Y* and a set of explanatory variables *X."
   ]
  },
  {
   "cell_type": "markdown",
   "metadata": {
    "slideshow": {
     "slide_type": "fragment"
    }
   },
   "source": [
    "Is there a way to combine the *within* and *between* perspectives?"
   ]
  }
 ],
 "metadata": {
  "kernelspec": {
   "display_name": "Stata",
   "language": "stata",
   "name": "stata"
  },
  "language_info": {
   "codemirror_mode": "stata",
   "file_extension": ".do",
   "mimetype": "text/x-stata",
   "name": "stata",
   "version": "15.1"
  },
  "toc": {
   "base_numbering": 1,
   "nav_menu": {},
   "number_sections": true,
   "sideBar": false,
   "skip_h1_title": true,
   "title_cell": "Table of Contents",
   "title_sidebar": "Contents",
   "toc_cell": true,
   "toc_position": {},
   "toc_section_display": true,
   "toc_window_display": false
  }
 },
 "nbformat": 4,
 "nbformat_minor": 4
}
