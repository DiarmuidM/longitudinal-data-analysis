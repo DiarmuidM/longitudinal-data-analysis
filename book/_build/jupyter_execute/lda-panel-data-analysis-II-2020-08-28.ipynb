{
 "cells": [
  {
   "cell_type": "markdown",
   "metadata": {
    "slideshow": {
     "slide_type": "slide"
    }
   },
   "source": [
    "# Panel Data Analysis II"
   ]
  },
  {
   "cell_type": "markdown",
   "metadata": {
    "slideshow": {
     "slide_type": "subslide"
    }
   },
   "source": [
    "In this section we estimate our first set of statistical models using panel data: **Pooled OLS** and **Between Effects**. We show some examples of how to estimate and interpret these models, and reflect on the conditions under which the models are appropriate."
   ]
  },
  {
   "cell_type": "markdown",
   "metadata": {
    "slideshow": {
     "slide_type": "slide"
    }
   },
   "source": [
    "## What we can relax about"
   ]
  },
  {
   "cell_type": "markdown",
   "metadata": {
    "slideshow": {
     "slide_type": "subslide"
    }
   },
   "source": [
    "In the sessions demonstrating how to quantitatively analyse panel data, we will cast aside the following concerns:\n",
    "* Missing data\n",
    "* Weights\n",
    "* Attrition\n",
    "* Multicollinearity"
   ]
  },
  {
   "cell_type": "markdown",
   "metadata": {
    "slideshow": {
     "slide_type": "notes"
    }
   },
   "source": [
    "All of these issues impinge on the estimation of panel data models but are not necessary to address for the purposes of learning about said models. We encourage you to consult the [reading list](https://github.com/DiarmuidM/longitudinal-data-analysis/blob/master/reading-list) for suggestions of resources that cover these topics."
   ]
  },
  {
   "cell_type": "markdown",
   "metadata": {
    "slideshow": {
     "slide_type": "slide"
    }
   },
   "source": [
    "## Defining our statistical model"
   ]
  },
  {
   "cell_type": "markdown",
   "metadata": {
    "slideshow": {
     "slide_type": "subslide"
    }
   },
   "source": [
    "Now we arrive at the interesting bit: estimating statistical models.\n",
    "\n",
    "Let's return to our panel data on charities and define a statistical model for predicting a charity's annual gross income as a function of its age, the scale of its charitable activities, where it is located, what type of charity it is, and the number of sources of income it has, and the share of its income provided by government."
   ]
  },
  {
   "cell_type": "markdown",
   "metadata": {
    "slideshow": {
     "slide_type": "subslide"
    }
   },
   "source": [
    "$$ \\text{y}_{it} = \\beta_0 + \\beta_1x_{1it} + \\beta_2x_{2i} + \\beta_3x_{3i} + \\beta_4x_{4i} + \\beta_5x_{5it} + \\beta_6x_{6it} + \\epsilon_{it} \\tag{1.6} $$"
   ]
  },
  {
   "cell_type": "markdown",
   "metadata": {
    "slideshow": {
     "slide_type": "subslide"
    }
   },
   "source": [
    "Where:\n",
    "\n",
    "$\\text{y}_{it}$ is log income for charity *i* at time *t*"
   ]
  },
  {
   "cell_type": "markdown",
   "metadata": {
    "slideshow": {
     "slide_type": "fragment"
    }
   },
   "source": [
    "$\\beta_0$ is the constant term, which is our prediction for log income when the values of all other variables in the model are set to 0"
   ]
  },
  {
   "cell_type": "markdown",
   "metadata": {
    "slideshow": {
     "slide_type": "fragment"
    }
   },
   "source": [
    "$\\text{x}_{1it}$ captures the age of charity *i* at time *t*, and $\\beta_1$ is the effect of this variable on the outcome"
   ]
  },
  {
   "cell_type": "markdown",
   "metadata": {
    "slideshow": {
     "slide_type": "fragment"
    }
   },
   "source": [
    "$\\text{x}_{2i}$ is a dummy variable identifying charities that operate at a local level"
   ]
  },
  {
   "cell_type": "markdown",
   "metadata": {
    "slideshow": {
     "slide_type": "fragment"
    }
   },
   "source": [
    "$\\text{x}_{3i}$ is a dummy variable identifying charities registered in Westminster"
   ]
  },
  {
   "cell_type": "markdown",
   "metadata": {
    "slideshow": {
     "slide_type": "subslide"
    }
   },
   "source": [
    "$\\text{x}_{4i}$ is a dummy variable identifying general charities"
   ]
  },
  {
   "cell_type": "markdown",
   "metadata": {
    "slideshow": {
     "slide_type": "fragment"
    }
   },
   "source": [
    "$\\text{x}_{5it}$ captures the number of sources of income for charity *i* at time *t*"
   ]
  },
  {
   "cell_type": "markdown",
   "metadata": {
    "slideshow": {
     "slide_type": "fragment"
    }
   },
   "source": [
    "$\\text{x}_{6it}$ captures the share its income charity *i* derives from government sources at time *t*"
   ]
  },
  {
   "cell_type": "markdown",
   "metadata": {
    "slideshow": {
     "slide_type": "fragment"
    }
   },
   "source": [
    "$\\epsilon_{it}$ captures the residual for charity *i* at time *t* ($\\text{y}_{it} - \\hat{y}_{it}$)"
   ]
  },
  {
   "cell_type": "markdown",
   "metadata": {
    "slideshow": {
     "slide_type": "slide"
    }
   },
   "source": [
    "## Understanding sources of variation"
   ]
  },
  {
   "cell_type": "markdown",
   "metadata": {
    "slideshow": {
     "slide_type": "subslide"
    }
   },
   "source": [
    "Remember to keep in mind the two sources of variation that exist in panel data ([Gould, n.d.](https://www.stata.com/support/faqs/statistics/between-estimator/)): \n",
    "1. Cross-section information on differences between units\n",
    "2. Time series information on differences over time within units"
   ]
  },
  {
   "cell_type": "markdown",
   "metadata": {
    "slideshow": {
     "slide_type": "slide"
    }
   },
   "source": [
    "## Data exploration"
   ]
  },
  {
   "cell_type": "markdown",
   "metadata": {
    "slideshow": {
     "slide_type": "fragment"
    }
   },
   "source": [
    "Let's spend a little bit of time exploring the key variables in our statistical model."
   ]
  },
  {
   "cell_type": "code",
   "execution_count": 1,
   "metadata": {
    "slideshow": {
     "slide_type": "subslide"
    }
   },
   "outputs": [
    {
     "name": "stdout",
     "output_type": "stream",
     "text": [
      "(Contains annual accounts of charities in E&W for financial years 2006-2017)\n"
     ]
    }
   ],
   "source": [
    "use \"../data/charity-panel-analysis-2020-09-10.dta\", clear"
   ]
  },
  {
   "cell_type": "markdown",
   "metadata": {
    "slideshow": {
     "slide_type": "subslide"
    }
   },
   "source": [
    "![Histogram of Log Income](./images/linc-histogram.png)"
   ]
  },
  {
   "cell_type": "markdown",
   "metadata": {
    "slideshow": {
     "slide_type": "subslide"
    }
   },
   "source": [
    "![Histogram of Government Funding Share](./images/govern-histogram.png)"
   ]
  },
  {
   "cell_type": "code",
   "execution_count": 2,
   "metadata": {
    "slideshow": {
     "slide_type": "subslide"
    }
   },
   "outputs": [
    {
     "name": "stdout",
     "output_type": "stream",
     "text": [
      "\n",
      "                  Age of charity - in years\n",
      "-------------------------------------------------------------\n",
      "      Percentiles      Smallest\n",
      " 1%            4              0\n",
      " 5%            7              1\n",
      "10%           10              1       Obs              23,826\n",
      "25%           16              1       Sum of Wgt.      23,826\n",
      "\n",
      "50%           27                      Mean           39.20129\n",
      "                        Largest       Std. Dev.       42.4661\n",
      "75%           48            496\n",
      "90%           82            497       Variance       1803.369\n",
      "95%          112            498       Skewness       4.595531\n",
      "99%          180            499       Kurtosis       37.17673\n"
     ]
    }
   ],
   "source": [
    "sum orgage, detail"
   ]
  },
  {
   "cell_type": "code",
   "execution_count": 3,
   "metadata": {},
   "outputs": [
    {
     "name": "stdout",
     "output_type": "stream",
     "text": [
      "\n",
      "      Number of income sources where income >= £1,000\n",
      "-------------------------------------------------------------\n",
      "      Percentiles      Smallest\n",
      " 1%            1              0\n",
      " 5%            2              0\n",
      "10%            2              1       Obs              23,826\n",
      "25%            3              1       Sum of Wgt.      23,826\n",
      "\n",
      "50%            4                      Mean           3.806724\n",
      "                        Largest       Std. Dev.       1.24789\n",
      "75%            5              6\n",
      "90%            5              6       Variance       1.557228\n",
      "95%            6              6       Skewness      -.1130695\n",
      "99%            6              6       Kurtosis       2.425233\n"
     ]
    }
   ],
   "source": [
    "sum nsources, detail"
   ]
  },
  {
   "cell_type": "code",
   "execution_count": 4,
   "metadata": {
    "slideshow": {
     "slide_type": "subslide"
    }
   },
   "outputs": [
    {
     "name": "stdout",
     "output_type": "stream",
     "text": [
      "\n",
      "-> tabulation of localc  \n",
      "\n",
      "      Local |\n",
      "    charity |      Freq.     Percent        Cum.\n",
      "------------+-----------------------------------\n",
      "          0 |      8,756       36.75       36.75\n",
      "          1 |     15,070       63.25      100.00\n",
      "------------+-----------------------------------\n",
      "      Total |     23,826      100.00\n",
      "\n",
      "-> tabulation of socser  \n",
      "\n",
      "     Social |\n",
      "    service |\n",
      "    charity |      Freq.     Percent        Cum.\n",
      "------------+-----------------------------------\n",
      "          0 |     20,449       85.83       85.83\n",
      "          1 |      3,377       14.17      100.00\n",
      "------------+-----------------------------------\n",
      "      Total |     23,826      100.00\n"
     ]
    }
   ],
   "source": [
    "tab1 localc socser"
   ]
  },
  {
   "cell_type": "markdown",
   "metadata": {
    "slideshow": {
     "slide_type": "slide"
    }
   },
   "source": [
    "## Pooled OLS Model"
   ]
  },
  {
   "cell_type": "markdown",
   "metadata": {
    "slideshow": {
     "slide_type": "subslide"
    }
   },
   "source": [
    "The starting point for any statistical modelling of panel data is to estimate a *Pooled OLS* model (fancy way of saying linear regression).\n",
    "\n",
    "The observations are \"pooled\", which just means we ignore the nested nature of panel data. In other words we assume that each observation (i.e., row within a long format data set) is independent of other observations (Gayle and Lambert, 2018)."
   ]
  },
  {
   "cell_type": "markdown",
   "metadata": {
    "slideshow": {
     "slide_type": "subslide"
    }
   },
   "source": [
    "Fundamental problem of pooling observations (Gayle & Lambert, 2018, p. 58):\n",
    "> The model does not recognise that there are multiple contributions of data from the same individuals, and therefore, it estimates results as if there are many individuals who shared the same characteristics. This impacts upon the estimate of measures such as variances and standard errors."
   ]
  },
  {
   "cell_type": "code",
   "execution_count": 2,
   "metadata": {
    "slideshow": {
     "slide_type": "subslide"
    }
   },
   "outputs": [
    {
     "name": "stdout",
     "output_type": "stream",
     "text": [
      "\n",
      "\n",
      "      Source |       SS           df       MS      Number of obs   =    23,826\n",
      "-------------+----------------------------------   F(6, 23819)     =    410.54\n",
      "       Model |   2225.8864         6  370.981066   Prob > F        =    0.0000\n",
      "    Residual |  21523.6961    23,819  .903635591   R-squared       =    0.0937\n",
      "-------------+----------------------------------   Adj R-squared   =    0.0935\n",
      "       Total |  23749.5825    23,825  .996834524   Root MSE        =     .9506\n",
      "\n",
      "------------------------------------------------------------------------------\n",
      "        linc |      Coef.   Std. Err.      t    P>|t|     [95% Conf. Interval]\n",
      "-------------+----------------------------------------------------------------\n",
      "      orgage |   .0036028     .00015    24.01   0.000     .0033087    .0038969\n",
      "      localc |  -.3302434   .0130224   -25.36   0.000    -.3557682   -.3047187\n",
      "        west |   .1121865   .0253139     4.43   0.000     .0625697    .1618033\n",
      "     genchar |  -.3170303   .0139082   -22.79   0.000    -.3442913   -.2897693\n",
      "    nsources |   .1053884   .0050963    20.68   0.000     .0953993    .1153774\n",
      "govern_share |    .000644   .0002035     3.16   0.002     .0002451    .0010429\n",
      "       _cons |   14.96317   .0236406   632.94   0.000     14.91683    15.00951\n",
      "------------------------------------------------------------------------------\n",
      "\n"
     ]
    }
   ],
   "source": [
    "regress linc orgage localc west genchar nsources govern_share\n",
    "est store pols"
   ]
  },
  {
   "cell_type": "markdown",
   "metadata": {
    "slideshow": {
     "slide_type": "slide"
    }
   },
   "source": [
    "### Conditions where Pooled OLS is suitable"
   ]
  },
  {
   "cell_type": "markdown",
   "metadata": {
    "slideshow": {
     "slide_type": "subslide"
    }
   },
   "source": [
    "Pooled OLS can produce consistent estimates of the explanatory variables if:\n",
    "* The model is correctly specified\n",
    "* The explanatory variables are uncorrelated with the error term (Cameron and Trivedi, 2010)"
   ]
  },
  {
   "cell_type": "markdown",
   "metadata": {
    "slideshow": {
     "slide_type": "notes"
    }
   },
   "source": [
    "**TASK:** Do you think our statistical model is correctly specified, and there is no correlation between error term and explanatory variables?"
   ]
  },
  {
   "cell_type": "markdown",
   "metadata": {
    "slideshow": {
     "slide_type": "notes"
    }
   },
   "source": [
    "In our statistical model of charity income, it is unlikely that the interpretation of the coefficients would change drastically if we addressed the under-estimation of the standard errors (the sample size is very large).\n",
    "\n",
    "We'll cover the various tests and checks we can perform to examine whether Pooled OLS model violates the *independence of errors* assumption in a later section."
   ]
  },
  {
   "cell_type": "markdown",
   "metadata": {
    "slideshow": {
     "slide_type": "slide"
    }
   },
   "source": [
    "## Between Effects Model"
   ]
  },
  {
   "cell_type": "markdown",
   "metadata": {
    "slideshow": {
     "slide_type": "subslide"
    }
   },
   "source": [
    "Once again estimate a cross-sectional model (Pooled OLS). However this time we transform the data so that there is one observation per unit. As a result we end up modelling the mean of Y on the mean of our X variables."
   ]
  },
  {
   "cell_type": "code",
   "execution_count": 6,
   "metadata": {
    "slideshow": {
     "slide_type": "subslide"
    }
   },
   "outputs": [
    {
     "name": "stdout",
     "output_type": "stream",
     "text": [
      "\n",
      "\n",
      "Between regression (regression on group means)  Number of obs     =     23,826\n",
      "Group variable: regno                           Number of groups  =      2,166\n",
      "\n",
      "R-sq:                                           Obs per group:\n",
      "     within  = 0.0063                                         min =         11\n",
      "     between = 0.1042                                         avg =       11.0\n",
      "     overall = 0.0925                                         max =         11\n",
      "\n",
      "                                                F(6,2159)         =      41.86\n",
      "sd(u_i + avg(e_i.))=  .9109813                  Prob > F          =     0.0000\n",
      "\n",
      "------------------------------------------------------------------------------\n",
      "        linc |      Coef.   Std. Err.      t    P>|t|     [95% Conf. Interval]\n",
      "-------------+----------------------------------------------------------------\n",
      "      orgage |   .0035048   .0004791     7.32   0.000     .0025652    .0044443\n",
      "      localc |  -.3282906   .0414364    -7.92   0.000      -.40955   -.2470312\n",
      "        west |   .1167392   .0805284     1.45   0.147     -.041182    .2746604\n",
      "     genchar |  -.3210918   .0449127    -7.15   0.000    -.4091685    -.233015\n",
      "    nsources |   .1384596   .0193749     7.15   0.000     .1004643    .1764549\n",
      "govern_share |   .0002749   .0007478     0.37   0.713    -.0011916    .0017415\n",
      "       _cons |   14.85058   .0835091   177.83   0.000     14.68681    15.01435\n",
      "------------------------------------------------------------------------------\n",
      "\n"
     ]
    }
   ],
   "source": [
    "xtreg linc orgage localc west genchar nsources govern_share, be\n",
    "est store beff"
   ]
  },
  {
   "cell_type": "markdown",
   "metadata": {
    "slideshow": {
     "slide_type": "notes"
    }
   },
   "source": [
    "Estimating a Between Effects model is equivalent to collapsing the data and estimating your regression model on the resulting observations:"
   ]
  },
  {
   "cell_type": "code",
   "execution_count": 3,
   "metadata": {
    "scrolled": false,
    "slideshow": {
     "slide_type": "subslide"
    }
   },
   "outputs": [
    {
     "name": "stdout",
     "output_type": "stream",
     "text": [
      "\n",
      "\n",
      "\n",
      "\n",
      "      Source |       SS           df       MS      Number of obs   =     2,166\n",
      "-------------+----------------------------------   F(6, 2159)      =     41.86\n",
      "       Model |  208.427331         6  34.7378885   Prob > F        =    0.0000\n",
      "    Residual |  1791.72593     2,159  .829886952   R-squared       =    0.1042\n",
      "-------------+----------------------------------   Adj R-squared   =    0.1017\n",
      "       Total |  2000.15326     2,165  .923858319   Root MSE        =    .91098\n",
      "\n",
      "------------------------------------------------------------------------------\n",
      "        linc |      Coef.   Std. Err.      t    P>|t|     [95% Conf. Interval]\n",
      "-------------+----------------------------------------------------------------\n",
      "      orgage |   .0035048   .0004791     7.32   0.000     .0025652    .0044443\n",
      "      localc |  -.3282906   .0414364    -7.92   0.000      -.40955   -.2470313\n",
      "        west |   .1167393   .0805284     1.45   0.147    -.0411819    .2746605\n",
      "     genchar |  -.3210918   .0449127    -7.15   0.000    -.4091685    -.233015\n",
      "    nsources |   .1384596   .0193749     7.15   0.000     .1004643     .176455\n",
      "govern_share |   .0002749   .0007478     0.37   0.713    -.0011916    .0017415\n",
      "       _cons |   14.85058   .0835091   177.83   0.000     14.68681    15.01435\n",
      "------------------------------------------------------------------------------\n",
      "\n",
      "\n"
     ]
    }
   ],
   "source": [
    "preserve\n",
    "    collapse (mean) linc orgage localc west genchar nsources govern_share, by(regno)\n",
    "    regress linc orgage localc west genchar nsources govern_share\n",
    "    est store coll\n",
    "restore"
   ]
  },
  {
   "cell_type": "code",
   "execution_count": 8,
   "metadata": {
    "slideshow": {
     "slide_type": "notes"
    }
   },
   "outputs": [
    {
     "name": "stdout",
     "output_type": "stream",
     "text": [
      "\n",
      "-----------------------------------------------------\n",
      "    Variable |    pols         beff         coll     \n",
      "-------------+---------------------------------------\n",
      "      orgage |  .00360282    .00350476    .00350476  \n",
      "      localc | -.33024344    -.3282906   -.32829062  \n",
      "        west |  .11218649    .11673923    .11673928  \n",
      "     genchar | -.31703032   -.32109178   -.32109176  \n",
      "    nsources |  .10538836     .1384596    .13845961  \n",
      "govern_share |  .00064402    .00027494    .00027494  \n",
      "       _cons |  14.963168    14.850581    14.850581  \n",
      "-----------------------------------------------------\n"
     ]
    }
   ],
   "source": [
    "est table pols beff coll"
   ]
  },
  {
   "cell_type": "markdown",
   "metadata": {
    "slideshow": {
     "slide_type": "subslide"
    }
   },
   "source": [
    "### Benefits of Between Effects"
   ]
  },
  {
   "cell_type": "markdown",
   "metadata": {
    "slideshow": {
     "slide_type": "fragment"
    }
   },
   "source": [
    "* Sidesteps the problem of interdependence of observations in the original panel data.\n",
    "* Smooths the effect of anomalous time periods (e.g., excess deaths calculation).\n",
    "* Controls for omitted variables that change over time but are constant between units (e.g., national policies)."
   ]
  },
  {
   "cell_type": "markdown",
   "metadata": {
    "slideshow": {
     "slide_type": "subslide"
    }
   },
   "source": [
    "### Limitations of Between Effects"
   ]
  },
  {
   "cell_type": "markdown",
   "metadata": {
    "slideshow": {
     "slide_type": "notes"
    }
   },
   "source": [
    "What might the limitations of this approach be?\n",
    "* Cannot estimate observed variables that change over time but are constant between units (e.g., national policies).\n",
    "* Discard a lot of information by examining mean outcomes and inputs e.g., change over time.\n",
    "* Cannot control for unobserved explanatory variables that are constant within but vary between units e.g., organisational culture."
   ]
  },
  {
   "cell_type": "markdown",
   "metadata": {
    "slideshow": {
     "slide_type": "subslide"
    }
   },
   "source": [
    "The limitations of the Between Effects model far outweigh the benefits in most cases, and thus it is not widely used in practice (Mehmetoglu and Jakobsen, 2016). However it plays a crucial role in the estimation of another panel data model &mdash; Random Effects model &mdash; and thus it is important to understand how it works and what it offers."
   ]
  },
  {
   "cell_type": "markdown",
   "metadata": {
    "slideshow": {
     "slide_type": "slide"
    }
   },
   "source": [
    "## Summary"
   ]
  },
  {
   "cell_type": "markdown",
   "metadata": {
    "slideshow": {
     "slide_type": "fragment"
    }
   },
   "source": [
    "Both the Pooled OLS and Between Effects models provide useful information on the association between an outcome *Y* and a set of explanatory variables *X*."
   ]
  },
  {
   "cell_type": "markdown",
   "metadata": {
    "slideshow": {
     "slide_type": "fragment"
    }
   },
   "source": [
    "However both can be suboptimal from a substantive perspective (no change over time)."
   ]
  },
  {
   "cell_type": "markdown",
   "metadata": {
    "slideshow": {
     "slide_type": "fragment"
    }
   },
   "source": [
    "More concerningly, they offer no ability to control for residual heterogeniety in the form of *unobserved time-invariant* explanatory variables."
   ]
  }
 ],
 "metadata": {
  "kernelspec": {
   "display_name": "Stata",
   "language": "stata",
   "name": "stata"
  },
  "language_info": {
   "codemirror_mode": "stata",
   "file_extension": ".do",
   "mimetype": "text/x-stata",
   "name": "stata",
   "version": "15.1"
  },
  "toc": {
   "base_numbering": 1,
   "nav_menu": {},
   "number_sections": true,
   "sideBar": false,
   "skip_h1_title": true,
   "title_cell": "Table of Contents",
   "title_sidebar": "Contents",
   "toc_cell": true,
   "toc_position": {},
   "toc_section_display": true,
   "toc_window_display": false
  }
 },
 "nbformat": 4,
 "nbformat_minor": 4
}