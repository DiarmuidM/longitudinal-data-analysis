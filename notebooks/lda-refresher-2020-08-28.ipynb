{
 "cells": [
  {
   "cell_type": "markdown",
   "metadata": {
    "slideshow": {
     "slide_type": "notes"
    }
   },
   "source": [
    "# Longitudinal Data Analysis"
   ]
  },
  {
   "cell_type": "markdown",
   "metadata": {
    "slideshow": {
     "slide_type": "slide"
    }
   },
   "source": [
    "# Essential Concepts"
   ]
  },
  {
   "cell_type": "markdown",
   "metadata": {
    "slideshow": {
     "slide_type": "subslide"
    }
   },
   "source": [
    "This section provides a concise overview of some important terms, concepts and analytcial approaches that are central to quantitative analyses of longitudinal data. It is aimed at people needing a quick refresher of key topics; the aim is **not** to teach you these topics for the first time."
   ]
  },
  {
   "cell_type": "markdown",
   "metadata": {
    "slideshow": {
     "slide_type": "skip"
    },
    "toc": true
   },
   "source": [
    "<h1>Table of Contents<span class=\"tocSkip\"></span></h1>\n",
    "<div class=\"toc\"><ul class=\"toc-item\"><li><span><a href=\"#Statistical-modelling\" data-toc-modified-id=\"Statistical-modelling-1\"><span class=\"toc-item-num\">1&nbsp;&nbsp;</span>Statistical modelling</a></span></li><li><span><a href=\"#Linear-models\" data-toc-modified-id=\"Linear-models-2\"><span class=\"toc-item-num\">2&nbsp;&nbsp;</span>Linear models</a></span></li><li><span><a href=\"#Linear-regression-models\" data-toc-modified-id=\"Linear-regression-models-3\"><span class=\"toc-item-num\">3&nbsp;&nbsp;</span>Linear regression models</a></span><ul class=\"toc-item\"><li><span><a href=\"#Estimating-and-interpreting-linear-regression-models\" data-toc-modified-id=\"Estimating-and-interpreting-linear-regression-models-3.1\"><span class=\"toc-item-num\">3.1&nbsp;&nbsp;</span>Estimating and interpreting linear regression models</a></span></li><li><span><a href=\"#How-does-linear-regression-work?\" data-toc-modified-id=\"How-does-linear-regression-work?-3.2\"><span class=\"toc-item-num\">3.2&nbsp;&nbsp;</span>How does linear regression work?</a></span></li><li><span><a href=\"#Assumptions-underpinning-regression\" data-toc-modified-id=\"Assumptions-underpinning-regression-3.3\"><span class=\"toc-item-num\">3.3&nbsp;&nbsp;</span>Assumptions underpinning regression</a></span></li></ul></li><li><span><a href=\"#Properties-of-estimators\" data-toc-modified-id=\"Properties-of-estimators-4\"><span class=\"toc-item-num\">4&nbsp;&nbsp;</span>Properties of estimators</a></span><ul class=\"toc-item\"><li><span><a href=\"#Unbiased\" data-toc-modified-id=\"Unbiased-4.1\"><span class=\"toc-item-num\">4.1&nbsp;&nbsp;</span>Unbiased</a></span></li><li><span><a href=\"#Consistent\" data-toc-modified-id=\"Consistent-4.2\"><span class=\"toc-item-num\">4.2&nbsp;&nbsp;</span>Consistent</a></span></li><li><span><a href=\"#Efficient\" data-toc-modified-id=\"Efficient-4.3\"><span class=\"toc-item-num\">4.3&nbsp;&nbsp;</span>Efficient</a></span></li></ul></li></ul></div>"
   ]
  },
  {
   "cell_type": "markdown",
   "metadata": {
    "slideshow": {
     "slide_type": "slide"
    }
   },
   "source": [
    "## Statistical modelling"
   ]
  },
  {
   "cell_type": "markdown",
   "metadata": {
    "slideshow": {
     "slide_type": "subslide"
    }
   },
   "source": [
    "Models help us make sense of the world and are more commonplace than you might think:"
   ]
  },
  {
   "cell_type": "markdown",
   "metadata": {
    "slideshow": {
     "slide_type": "subslide"
    }
   },
   "source": [
    "![Model Airplance](./images/pexels-andrea-piacquadio-3769120.jpg)"
   ]
  },
  {
   "cell_type": "markdown",
   "metadata": {
    "slideshow": {
     "slide_type": "subslide"
    }
   },
   "source": [
    "![London Tube Map](./images/tube-map.gif)"
   ]
  },
  {
   "cell_type": "markdown",
   "metadata": {
    "slideshow": {
     "slide_type": "subslide"
    }
   },
   "source": [
    "MacInnes (2017, p, 26) describes a model in more formal terms:\n",
    "> A model is a simplified, often smaller-scale, version of reality; a summary statement that includes the essential aspects we are interested in and leaves out the extraneous detail...A good model focuses on what we want to investigate , and discards other features that are not relevant."
   ]
  },
  {
   "cell_type": "markdown",
   "metadata": {
    "slideshow": {
     "slide_type": "subslide"
    }
   },
   "source": [
    "Statistical models are formal, numeric representations of a phenomenon and its explanatory factors, and are used both to understand and make predictions about said phenomenon."
   ]
  },
  {
   "cell_type": "markdown",
   "metadata": {
    "slideshow": {
     "slide_type": "subslide"
    }
   },
   "source": [
    "For example, we can define a statistical model to predict whether somebody will finish their PhD as follows:\n",
    "\n",
    "$$\\text{Complete PhD} = \\text{Receive funding} + \\text{Good supervisors} + \\text{Settled personal life} \\tag{1.1}$$"
   ]
  },
  {
   "cell_type": "markdown",
   "metadata": {
    "slideshow": {
     "slide_type": "notes"
    }
   },
   "source": [
    "Each of these factors contributes to the overall likelihood or chance of experiencing the outcome (completed PhD). Obviously this model ignores lots of other factors that are relevant to completing a PhD, but it's not a bad approximation and can be added to if we are in possession of more/better information on a PhD student."
   ]
  },
  {
   "cell_type": "markdown",
   "metadata": {
    "slideshow": {
     "slide_type": "slide"
    }
   },
   "source": [
    "## Linear models"
   ]
  },
  {
   "cell_type": "markdown",
   "metadata": {
    "slideshow": {
     "slide_type": "subslide"
    }
   },
   "source": [
    "Equation 1.1 above is an example of a linear model whereby the outcome (completing a PhD) is a **linear** function of a set of explanatory factors. \n",
    "\n",
    "Each explanatory factor has a distinct, linear effect on the outcome, and our prediction for the outcome is arrived at by adding together each of these effects."
   ]
  },
  {
   "cell_type": "markdown",
   "metadata": {
    "slideshow": {
     "slide_type": "subslide"
    }
   },
   "source": [
    "Using equation 1.1, let's predict the probability of completing a PhD:\n",
    "\n",
    "$$\\text{.8} = \\text{.4} + \\text{.2} + \\text{.2} $$"
   ]
  },
  {
   "cell_type": "markdown",
   "metadata": {
    "slideshow": {
     "slide_type": "notes"
    }
   },
   "source": [
    "In this fictional example, there is an 80% chance of completing a PhD if you receive funding (40%), have good supervisors (20%), and have a settled personal life (20%). Each factor contributes to the prediction but it is clear receiving funding is the most important factor."
   ]
  },
  {
   "cell_type": "markdown",
   "metadata": {
    "slideshow": {
     "slide_type": "slide"
    }
   },
   "source": [
    "## Linear regression models"
   ]
  },
  {
   "cell_type": "markdown",
   "metadata": {
    "slideshow": {
     "slide_type": "notes"
    }
   },
   "source": [
    "How do we assign values to the explanatory factors in a linear model? That's where linear regression comes in. *Linear regression* is known as the \"workhorse\" of quantitative social science (MacInnes, 2017) and for very good reason: many social phenomena can be modelled as a linear function of explanatory factors."
   ]
  },
  {
   "cell_type": "markdown",
   "metadata": {
    "slideshow": {
     "slide_type": "subslide"
    }
   },
   "source": [
    "The linear regression equation (model) looks very similar to equation 1.1, just with some additional terms (parameters):\n",
    "\n",
    "$$ \\text{Y} = \\alpha + \\beta{X} + \\epsilon \\tag{1.2}$$\n",
    "\n",
    "Where:"
   ]
  },
  {
   "cell_type": "markdown",
   "metadata": {
    "slideshow": {
     "slide_type": "fragment"
    }
   },
   "source": [
    "$\\text{Y}$ is a numeric outcome"
   ]
  },
  {
   "cell_type": "markdown",
   "metadata": {
    "slideshow": {
     "slide_type": "fragment"
    }
   },
   "source": [
    "$\\alpha$ is a constant effect (think of this like an initial / baseline prediction of *Y* before we consider the effects of the explanatory factors)"
   ]
  },
  {
   "cell_type": "markdown",
   "metadata": {
    "slideshow": {
     "slide_type": "fragment"
    }
   },
   "source": [
    "$\\text{X}$ is a set of explanatory variables (factors that are included in the model)"
   ]
  },
  {
   "cell_type": "markdown",
   "metadata": {
    "slideshow": {
     "slide_type": "fragment"
    }
   },
   "source": [
    "$\\beta$ is the numeric estimate of the effect of the explanatory variables on the outcome"
   ]
  },
  {
   "cell_type": "markdown",
   "metadata": {
    "slideshow": {
     "slide_type": "fragment"
    }
   },
   "source": [
    "$\\epsilon$ is an error term (residual), which captures the part of the outcome we cannot explain / predict using our explanatory variables and the constant term"
   ]
  },
  {
   "cell_type": "markdown",
   "metadata": {
    "slideshow": {
     "slide_type": "subslide"
    }
   },
   "source": [
    "### Estimating and interpreting linear regression models"
   ]
  },
  {
   "cell_type": "markdown",
   "metadata": {
    "slideshow": {
     "slide_type": "notes"
    }
   },
   "source": [
    "Regression is best understood by digging into some examples, so let's do that using the (in)famous `auto.dta` data set in Stata."
   ]
  },
  {
   "cell_type": "code",
   "execution_count": 1,
   "metadata": {
    "slideshow": {
     "slide_type": "subslide"
    }
   },
   "outputs": [
    {
     "name": "stdout",
     "output_type": "stream",
     "text": [
      "\n",
      "(1978 Automobile Data)\n",
      "\n",
      "\n",
      "Contains data from C:\\Program Files (x86)\\Stata14\\ado\\base/a/auto.dta\n",
      "  obs:            74                          1978 Automobile Data\n",
      " vars:            12                          13 Apr 2014 17:45\n",
      " size:         3,182                          (_dta has notes)\n",
      "--------------------------------------------------------------------------------\n",
      "              storage   display    value\n",
      "variable name   type    format     label      variable label\n",
      "--------------------------------------------------------------------------------\n",
      "make            str18   %-18s                 Make and Model\n",
      "price           int     %8.0gc                Price\n",
      "mpg             int     %8.0g                 Mileage (mpg)\n",
      "rep78           int     %8.0g                 Repair Record 1978\n",
      "headroom        float   %6.1f                 Headroom (in.)\n",
      "trunk           int     %8.0g                 Trunk space (cu. ft.)\n",
      "weight          int     %8.0gc                Weight (lbs.)\n",
      "length          int     %8.0g                 Length (in.)\n",
      "turn            int     %8.0g                 Turn Circle (ft.)\n",
      "displacement    int     %8.0g                 Displacement (cu. in.)\n",
      "gear_ratio      float   %6.2f                 Gear Ratio\n",
      "foreign         byte    %8.0g      origin     Car type\n",
      "--------------------------------------------------------------------------------\n",
      "Sorted by: foreign\n"
     ]
    }
   ],
   "source": [
    "sysuse auto, clear\n",
    "desc, f"
   ]
  },
  {
   "cell_type": "markdown",
   "metadata": {
    "slideshow": {
     "slide_type": "notes"
    }
   },
   "source": [
    "We have 74 observations and 12 variables relating to the auto repair records for a set of cars. Let's say we want to understand the relationship between the price of a car (`price`) and its fuel efficiency (`mpg`) and mass (`weight`). We can state this statistical model using a slightly altered version of the general regression equation (1.2):"
   ]
  },
  {
   "cell_type": "markdown",
   "metadata": {
    "slideshow": {
     "slide_type": "subslide"
    }
   },
   "source": [
    "$$ \\text{y}_{i} = \\alpha + \\beta1{x}_{1i} + \\beta2{x}_{2i} + \\epsilon_{i} \\tag{1.3}$$"
   ]
  },
  {
   "cell_type": "markdown",
   "metadata": {
    "slideshow": {
     "slide_type": "fragment"
    }
   },
   "source": [
    "$$ \\epsilon_{i} = \\text{y}_{i} - \\hat{y}_{i} \\tag{1.4} $$"
   ]
  },
  {
   "cell_type": "markdown",
   "metadata": {
    "slideshow": {
     "slide_type": "fragment"
    }
   },
   "source": [
    "$$ \\hat{y}_{i} = \\alpha + \\hat{\\beta_1}{x}_{1i} + \\hat{\\beta_2}{x}_{2i} \\tag{1.5} $$"
   ]
  },
  {
   "cell_type": "markdown",
   "metadata": {
    "slideshow": {
     "slide_type": "notes"
    }
   },
   "source": [
    "Now let's estimate this statistical model using linear regression:"
   ]
  },
  {
   "cell_type": "code",
   "execution_count": 2,
   "metadata": {
    "slideshow": {
     "slide_type": "subslide"
    }
   },
   "outputs": [
    {
     "name": "stdout",
     "output_type": "stream",
     "text": [
      "\n",
      "      Source |       SS           df       MS      Number of obs   =        74\n",
      "-------------+----------------------------------   F(2, 71)        =     14.74\n",
      "       Model |   186321280         2  93160639.9   Prob > F        =    0.0000\n",
      "    Residual |   448744116        71  6320339.67   R-squared       =    0.2934\n",
      "-------------+----------------------------------   Adj R-squared   =    0.2735\n",
      "       Total |   635065396        73  8699525.97   Root MSE        =      2514\n",
      "\n",
      "------------------------------------------------------------------------------\n",
      "       price |      Coef.   Std. Err.      t    P>|t|     [95% Conf. Interval]\n",
      "-------------+----------------------------------------------------------------\n",
      "         mpg |  -49.51222   86.15604    -0.57   0.567    -221.3025     122.278\n",
      "      weight |   1.746559   .6413538     2.72   0.008      .467736    3.025382\n",
      "       _cons |   1946.069    3597.05     0.54   0.590    -5226.245    9118.382\n",
      "------------------------------------------------------------------------------\n"
     ]
    }
   ],
   "source": [
    "regress price mpg weight"
   ]
  },
  {
   "cell_type": "markdown",
   "metadata": {
    "slideshow": {
     "slide_type": "fragment"
    }
   },
   "source": [
    "How do we interpret the results produced by the linear regression model?"
   ]
  },
  {
   "cell_type": "markdown",
   "metadata": {
    "slideshow": {
     "slide_type": "subslide"
    }
   },
   "source": [
    "Let's start with the *coefficients* (effects) of the explanatory variables:\n",
    "* For every one-unit increase in the fuel efficiency of a car, we predict the price of a car to decline by 50 dollars on average.\n",
    "* For every one-unit increase in the weight of a car, we predict the price of a car to increase by 2 dollars on average.\n",
    "\n",
    "The constant (`_cons`) represents our estimate of the price of a car if both `mpg` and `weight` are zero (obviously a nonsensical scenario)."
   ]
  },
  {
   "cell_type": "markdown",
   "metadata": {
    "slideshow": {
     "slide_type": "subslide"
    }
   },
   "source": [
    "How confident are we in the estimates of these effects?\n",
    "* We fail to reject the null hypothesis that the coefficient of `mpg` is equal to zero (*statistically insignificant* as `P>|t| > .05`).\n",
    "* We reject the null hypothesis that the coefficient of `weight` is equal to zero (*statistically significant* as `P>|t| < .05`)."
   ]
  },
  {
   "cell_type": "markdown",
   "metadata": {
    "slideshow": {
     "slide_type": "subslide"
    }
   },
   "source": [
    "How good is the model overall at predicting the outcome?\n",
    "* The explanatory variables are highly likely to have a non-zero effect on the outcome (`Prob > F = 0.0000`).\n",
    "* The proportion of variance explained (`R-squared`) is 30%, suggesting that this model accounts for about one third of the variation in the price of a car. That is, price varies across cars and we can explain some degree of variation using this statistical model."
   ]
  },
  {
   "cell_type": "markdown",
   "metadata": {
    "slideshow": {
     "slide_type": "subslide"
    }
   },
   "source": [
    "### How does linear regression work?"
   ]
  },
  {
   "cell_type": "markdown",
   "metadata": {
    "slideshow": {
     "slide_type": "fragment"
    }
   },
   "source": [
    "Linear regression estimates coefficients for each of the explanatory variables using the **ordinary least squares (OLS)** estimator."
   ]
  },
  {
   "cell_type": "markdown",
   "metadata": {
    "slideshow": {
     "slide_type": "fragment"
    }
   },
   "source": [
    "OLS selects the estimates ($\\hat{\\beta_1}$, $\\hat{\\beta_2}$ etc) that minimise the sum of the squared residuals."
   ]
  },
  {
   "cell_type": "markdown",
   "metadata": {
    "slideshow": {
     "slide_type": "subslide"
    }
   },
   "source": [
    "![Line of Best Fit](./images/line-of-best-fit.png)"
   ]
  },
  {
   "cell_type": "markdown",
   "metadata": {
    "slideshow": {
     "slide_type": "subslide"
    }
   },
   "source": [
    "### Assumptions underpinning regression"
   ]
  },
  {
   "cell_type": "markdown",
   "metadata": {
    "slideshow": {
     "slide_type": "fragment"
    }
   },
   "source": [
    "1. **Validity**: data map to the research question."
   ]
  },
  {
   "cell_type": "markdown",
   "metadata": {
    "slideshow": {
     "slide_type": "notes"
    }
   },
   "source": [
    "Another way of putting this is that the model is properly specified: only and all relevant explanatory variables are included."
   ]
  },
  {
   "cell_type": "markdown",
   "metadata": {
    "slideshow": {
     "slide_type": "fragment"
    }
   },
   "source": [
    "2. **Additivity and linearity**: the deterministic component of the model should be a linear function of the explanatory variables."
   ]
  },
  {
   "cell_type": "markdown",
   "metadata": {
    "slideshow": {
     "slide_type": "notes"
    }
   },
   "source": [
    "The relationship between each explanatory variable and the outcome should be modelled in linear terms.\n",
    "\n",
    "The predicted value of the outcome should be the sum of the coefficients for the explanatory variables (and constant)."
   ]
  },
  {
   "cell_type": "markdown",
   "metadata": {
    "slideshow": {
     "slide_type": "fragment"
    }
   },
   "source": [
    "3. **Independence of errors**: no correlation between the error term and the explanatory variables."
   ]
  },
  {
   "cell_type": "markdown",
   "metadata": {
    "slideshow": {
     "slide_type": "notes"
    }
   },
   "source": [
    "If there is a correlation, it can lead to biased estimates."
   ]
  },
  {
   "cell_type": "markdown",
   "metadata": {
    "slideshow": {
     "slide_type": "fragment"
    }
   },
   "source": [
    "4. **Equal variance of errors**: homoscedastic distribution of the errors."
   ]
  },
  {
   "cell_type": "markdown",
   "metadata": {
    "slideshow": {
     "slide_type": "notes"
    }
   },
   "source": [
    "This means the degree to which your model is wrong is constant across values of your explanatory variables."
   ]
  },
  {
   "cell_type": "markdown",
   "metadata": {
    "slideshow": {
     "slide_type": "fragment"
    }
   },
   "source": [
    "5. **Normality of errors**: the errors follow a normal distribution.\n",
    "\n",
    "(Gelman and Hill, 2007)"
   ]
  },
  {
   "cell_type": "markdown",
   "metadata": {
    "slideshow": {
     "slide_type": "subslide"
    }
   },
   "source": [
    "![Normality of errors](./images/normality-of-errors.png)"
   ]
  },
  {
   "cell_type": "markdown",
   "metadata": {
    "slideshow": {
     "slide_type": "subslide"
    }
   },
   "source": [
    "If these assumptions are met, linear regression is considered **BLUE**:"
   ]
  },
  {
   "cell_type": "markdown",
   "metadata": {
    "slideshow": {
     "slide_type": "fragment"
    }
   },
   "source": [
    "* Best"
   ]
  },
  {
   "cell_type": "markdown",
   "metadata": {
    "slideshow": {
     "slide_type": "fragment"
    }
   },
   "source": [
    "* Linear"
   ]
  },
  {
   "cell_type": "markdown",
   "metadata": {
    "slideshow": {
     "slide_type": "fragment"
    }
   },
   "source": [
    "* Unbiased"
   ]
  },
  {
   "cell_type": "markdown",
   "metadata": {
    "slideshow": {
     "slide_type": "fragment"
    }
   },
   "source": [
    "* Estimator"
   ]
  },
  {
   "cell_type": "markdown",
   "metadata": {
    "slideshow": {
     "slide_type": "slide"
    }
   },
   "source": [
    "## Properties of estimators"
   ]
  },
  {
   "cell_type": "markdown",
   "metadata": {
    "slideshow": {
     "slide_type": "subslide"
    }
   },
   "source": [
    "### Unbiased"
   ]
  },
  {
   "cell_type": "markdown",
   "metadata": {
    "slideshow": {
     "slide_type": "fragment"
    }
   },
   "source": [
    "We want our estimator to give the correct answer on average; that is, it can be wrong for individual applications of the estimator, but the average answer of these applications is correct (King et al., 1994)."
   ]
  },
  {
   "cell_type": "markdown",
   "metadata": {
    "slideshow": {
     "slide_type": "fragment"
    }
   },
   "source": [
    "$\\text{E}[\\hat{\\beta}] = \\beta$"
   ]
  },
  {
   "cell_type": "markdown",
   "metadata": {
    "slideshow": {
     "slide_type": "subslide"
    }
   },
   "source": [
    "### Consistent"
   ]
  },
  {
   "cell_type": "markdown",
   "metadata": {
    "slideshow": {
     "slide_type": "fragment"
    }
   },
   "source": [
    "We want our estimator to produce coefficients that converge to the true value as our sample size increases."
   ]
  },
  {
   "cell_type": "markdown",
   "metadata": {
    "slideshow": {
     "slide_type": "fragment"
    }
   },
   "source": [
    "$\\hat{\\beta} \\rightarrow \\beta$ as $\\text{n} \\rightarrow \\text{N}$."
   ]
  },
  {
   "cell_type": "markdown",
   "metadata": {
    "slideshow": {
     "slide_type": "fragment"
    }
   },
   "source": [
    "> A consistent estimator has the statistical property that as the number of data points increases it converges on the true value. (Gayle and Lambert, 2018, p. 89)"
   ]
  },
  {
   "cell_type": "markdown",
   "metadata": {
    "slideshow": {
     "slide_type": "subslide"
    }
   },
   "source": [
    "### Efficient"
   ]
  },
  {
   "cell_type": "markdown",
   "metadata": {
    "slideshow": {
     "slide_type": "fragment"
    }
   },
   "source": [
    "We want our estimator to be as precise as possible; that is, it minimises the variance of the estimate. An estimate, by definition, is uncertain and we would like to reduce that uncertainty to a minimum."
   ]
  },
  {
   "cell_type": "markdown",
   "metadata": {
    "slideshow": {
     "slide_type": "fragment"
    }
   },
   "source": [
    "$\\text{Var}[\\hat{\\beta}]$ is minimised."
   ]
  },
  {
   "cell_type": "markdown",
   "metadata": {
    "slideshow": {
     "slide_type": "notes"
    }
   },
   "source": [
    "Efficiency provides a way of distinguishing between unbiased estimators: An estimator that utilises more observations will be more efficient as it reduces the variance (King et al., 1994)."
   ]
  }
 ],
 "metadata": {
  "kernelspec": {
   "display_name": "Stata",
   "language": "stata",
   "name": "stata"
  },
  "language_info": {
   "codemirror_mode": "stata",
   "file_extension": ".do",
   "mimetype": "text/x-stata",
   "name": "stata",
   "version": "15.1"
  },
  "toc": {
   "base_numbering": 1,
   "nav_menu": {},
   "number_sections": true,
   "sideBar": false,
   "skip_h1_title": true,
   "title_cell": "Table of Contents",
   "title_sidebar": "Contents",
   "toc_cell": true,
   "toc_position": {},
   "toc_section_display": true,
   "toc_window_display": false
  }
 },
 "nbformat": 4,
 "nbformat_minor": 4
}
