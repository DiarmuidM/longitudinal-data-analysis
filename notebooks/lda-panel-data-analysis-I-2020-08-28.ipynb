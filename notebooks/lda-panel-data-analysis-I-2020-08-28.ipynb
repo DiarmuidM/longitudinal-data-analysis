{
 "cells": [
  {
   "cell_type": "markdown",
   "metadata": {
    "slideshow": {
     "slide_type": "notes"
    }
   },
   "source": [
    "# Longitudinal Data Analysis"
   ]
  },
  {
   "cell_type": "markdown",
   "metadata": {
    "slideshow": {
     "slide_type": "slide"
    }
   },
   "source": [
    "# Panel Data Analysis I"
   ]
  },
  {
   "cell_type": "markdown",
   "metadata": {
    "slideshow": {
     "slide_type": "subslide"
    }
   },
   "source": [
    "In this section we define the general methodological and substantive issues associated with panel data.\n",
    "\n",
    "We conclude with a consideration of the key questions a researcher should ask before undertaking analysis of panel data. "
   ]
  },
  {
   "cell_type": "markdown",
   "metadata": {
    "slideshow": {
     "slide_type": "notes"
    },
    "toc": true
   },
   "source": [
    "<h1>Table of Contents<span class=\"tocSkip\"></span></h1>\n",
    "<div class=\"toc\"><ul class=\"toc-item\"><li><span><a href=\"#Introduction\" data-toc-modified-id=\"Introduction-1\"><span class=\"toc-item-num\">1&nbsp;&nbsp;</span>Introduction</a></span></li><li><span><a href=\"#Methodological-implications-of-panel-data\" data-toc-modified-id=\"Methodological-implications-of-panel-data-2\"><span class=\"toc-item-num\">2&nbsp;&nbsp;</span>Methodological implications of panel data</a></span><ul class=\"toc-item\"><li><span><a href=\"#Independence-of-error-term\" data-toc-modified-id=\"Independence-of-error-term-2.1\"><span class=\"toc-item-num\">2.1&nbsp;&nbsp;</span>Independence of error term</a></span></li><li><span><a href=\"#Summary-of-issues\" data-toc-modified-id=\"Summary-of-issues-2.2\"><span class=\"toc-item-num\">2.2&nbsp;&nbsp;</span>Summary of issues</a></span></li></ul></li><li><span><a href=\"#Methodological-benefits-of-panel-data\" data-toc-modified-id=\"Methodological-benefits-of-panel-data-3\"><span class=\"toc-item-num\">3&nbsp;&nbsp;</span>Methodological benefits of panel data</a></span><ul class=\"toc-item\"><li><span><a href=\"#So-why-panel-data?\" data-toc-modified-id=\"So-why-panel-data?-3.1\"><span class=\"toc-item-num\">3.1&nbsp;&nbsp;</span>So why panel data?</a></span></li></ul></li><li><span><a href=\"#Substantive-benefits-of-panel-data\" data-toc-modified-id=\"Substantive-benefits-of-panel-data-4\"><span class=\"toc-item-num\">4&nbsp;&nbsp;</span>Substantive benefits of panel data</a></span></li><li><span><a href=\"#Panel-data-analysis:-key-considerations\" data-toc-modified-id=\"Panel-data-analysis:-key-considerations-5\"><span class=\"toc-item-num\">5&nbsp;&nbsp;</span>Panel data analysis: key considerations</a></span><ul class=\"toc-item\"><li><span><a href=\"#How-do-your-explanatory-variables-influence-the-outcome?\" data-toc-modified-id=\"How-do-your-explanatory-variables-influence-the-outcome?-5.1\"><span class=\"toc-item-num\">5.1&nbsp;&nbsp;</span>How do your explanatory variables influence the outcome?</a></span></li><li><span><a href=\"#Is-your-statistical-model-specified-correctly?\" data-toc-modified-id=\"Is-your-statistical-model-specified-correctly?-5.2\"><span class=\"toc-item-num\">5.2&nbsp;&nbsp;</span>Is your statistical model specified correctly?</a></span></li></ul></li><li><span><a href=\"#Task\" data-toc-modified-id=\"Task-6\"><span class=\"toc-item-num\">6&nbsp;&nbsp;</span>Task</a></span></li></ul></div>"
   ]
  },
  {
   "cell_type": "markdown",
   "metadata": {
    "slideshow": {
     "slide_type": "slide"
    }
   },
   "source": [
    "## Introduction"
   ]
  },
  {
   "cell_type": "markdown",
   "metadata": {
    "slideshow": {
     "slide_type": "subslide"
    }
   },
   "source": [
    "The analysis of repeated contacts data is known as **panel data analysis**. \n",
    "\n",
    "Recall that repeated contacts data captures information on your units of analysis more than once. As a result, observations are *nested* or *clustered* within units e.g., observations of pupils' exam results are nested within schools."
   ]
  },
  {
   "cell_type": "markdown",
   "metadata": {
    "slideshow": {
     "slide_type": "slide"
    }
   },
   "source": [
    "## Methodological implications of panel data"
   ]
  },
  {
   "cell_type": "markdown",
   "metadata": {
    "slideshow": {
     "slide_type": "subslide"
    }
   },
   "source": [
    "The use of panel data implies the potential for the violation of an important regression assumption: error terms are independent of each other (Mehmetoglu & Jakobsen, 2016)\n",
    "\n",
    "In panel data a unit's own observations are often *interdependent*, meaning they are more likely to be similar to each other than the observations for other units in the panel."
   ]
  },
  {
   "cell_type": "markdown",
   "metadata": {
    "slideshow": {
     "slide_type": "subslide"
    }
   },
   "source": [
    "### Independence of error term\n",
    "\n",
    "Recall one of the core assumptions of linear regression:"
   ]
  },
  {
   "cell_type": "markdown",
   "metadata": {
    "slideshow": {
     "slide_type": "fragment"
    }
   },
   "source": [
    "$$\\text{cov(}\\epsilon{, X)=0}$$"
   ]
  },
  {
   "cell_type": "markdown",
   "metadata": {
    "slideshow": {
     "slide_type": "notes"
    }
   },
   "source": [
    "The variation in our outcome that is left unexplained ($\\epsilon$) should not be correlated with any of the explanatory variables in the model."
   ]
  },
  {
   "cell_type": "markdown",
   "metadata": {
    "slideshow": {
     "slide_type": "subslide"
    }
   },
   "source": [
    "If the covariance is **not equal** to zero, then the observations for each unit *i* are *serially correlated*, a circumstance also known as *autocorrelation*. "
   ]
  },
  {
   "cell_type": "markdown",
   "metadata": {
    "slideshow": {
     "slide_type": "notes"
    }
   },
   "source": [
    "What this means in practice is the value of a variable at time *t* predicts the value of the same variable at time *t + k* for a given unit *i* (where *k* represents another time period in which unit *i* is observed)."
   ]
  },
  {
   "cell_type": "markdown",
   "metadata": {
    "slideshow": {
     "slide_type": "subslide"
    }
   },
   "source": [
    "Autocorrelation can give rise to *heteroscedasticity*, which very often results in the under-estimation of standard errors in regression models.\n",
    "\n",
    "It can also lead to the much more serious issue of biased coefficients."
   ]
  },
  {
   "cell_type": "markdown",
   "metadata": {
    "slideshow": {
     "slide_type": "subslide"
    }
   },
   "source": [
    "### Summary of issues"
   ]
  },
  {
   "cell_type": "markdown",
   "metadata": {
    "slideshow": {
     "slide_type": "subslide"
    }
   },
   "source": [
    "Panel data contain observations nested within units."
   ]
  },
  {
   "cell_type": "markdown",
   "metadata": {
    "slideshow": {
     "slide_type": "subslide"
    }
   },
   "source": [
    "The interdependence of observations often violates a key assumption of linear regression (*independence of errors*)."
   ]
  },
  {
   "cell_type": "markdown",
   "metadata": {
    "slideshow": {
     "slide_type": "subslide"
    }
   },
   "source": [
    "Ignoring this interdependence when estimating your statistical model can lead to two problems:\n",
    "1. Under-estimation of the uncertainty surrounding the coefficients (*inefficiency*).\n",
    "2. Incorrect estimates of the coefficients (*bias*)."
   ]
  },
  {
   "cell_type": "markdown",
   "metadata": {
    "slideshow": {
     "slide_type": "subslide"
    }
   },
   "source": [
    "Inefficiency leads to under-estimated standard errors and potential false positive tests of statistical significance.\n",
    "\n",
    "Bias leads to incorrect inferences about the magnitude and direction of the effects of the explanatory variables in your model."
   ]
  },
  {
   "cell_type": "markdown",
   "metadata": {
    "slideshow": {
     "slide_type": "slide"
    }
   },
   "source": [
    "## Methodological benefits of panel data"
   ]
  },
  {
   "cell_type": "markdown",
   "metadata": {
    "slideshow": {
     "slide_type": "subslide"
    }
   },
   "source": [
    "Hold on, this entire training course is predicated on there being some advantage to using panel data over cross-sectional data!\n",
    "\n",
    "Correct, and here it is..."
   ]
  },
  {
   "cell_type": "markdown",
   "metadata": {
    "slideshow": {
     "slide_type": "subslide"
    }
   },
   "source": [
    "The problem of **inefficient estimates** can at least be ameliorated when using cross-sectional data (e.g., robust or clustered standard errors).\n",
    "\n",
    "The problem of **biased coefficients** is very difficult to solve when using cross-sectional data."
   ]
  },
  {
   "cell_type": "markdown",
   "metadata": {
    "slideshow": {
     "slide_type": "notes"
    }
   },
   "source": [
    "This because it is very difficult to find a data set that contains all of the explanatory variables you need for your model --> omitted variable bias.\n",
    "\n",
    "Let's see what happens when omitted variable bias is present; that is, we have not specified the model correctly:"
   ]
  },
  {
   "cell_type": "code",
   "execution_count": 1,
   "metadata": {
    "slideshow": {
     "slide_type": "subslide"
    }
   },
   "outputs": [
    {
     "name": "stdout",
     "output_type": "stream",
     "text": [
      "\n",
      "\n",
      "\n",
      "\n",
      "\n",
      "\n",
      "\n",
      "\n",
      "\n",
      "     +-----------------------------------+\n",
      "     |         y          x1          x2 |\n",
      "     |-----------------------------------|\n",
      "  1. |  33.65662    19.14529    13.26858 |\n",
      "  2. | -49.57088   -27.96305     -23.022 |\n",
      "  3. |  13.81728     5.44816    4.905838 |\n",
      "  4. | -18.24858   -4.415646    -16.3728 |\n",
      "  5. |   25.3734    7.114079    16.31598 |\n",
      "     |-----------------------------------|\n",
      "  6. |  41.18281     11.9115    26.35516 |\n",
      "  7. | -45.91599   -18.31569   -28.86481 |\n",
      "  8. | -17.55372   -6.058764   -11.95182 |\n",
      "  9. |  47.78559    19.07098    27.25243 |\n",
      " 10. |  11.26871    8.339461    1.703953 |\n",
      "     +-----------------------------------+\n"
     ]
    }
   ],
   "source": [
    "clear\n",
    "capture set seed 1010\n",
    "quietly set obs 10000\n",
    "\n",
    "gen x1 = rnormal(1, 20)\n",
    "gen x2 = x1 + rnormal(1, 10)\n",
    "gen eterm = rnormal()\n",
    "gen y = 2 + x1 + x2 + eterm\n",
    "l y x1 x2 in 1/10"
   ]
  },
  {
   "cell_type": "markdown",
   "metadata": {
    "slideshow": {
     "slide_type": "notes"
    }
   },
   "source": [
    "First, we estimate a properly specified model:"
   ]
  },
  {
   "cell_type": "code",
   "execution_count": 2,
   "metadata": {
    "slideshow": {
     "slide_type": "subslide"
    }
   },
   "outputs": [
    {
     "name": "stdout",
     "output_type": "stream",
     "text": [
      "\n",
      "      Source |       SS           df       MS      Number of obs   =    10,000\n",
      "-------------+----------------------------------   F(2, 9997)      >  99999.00\n",
      "       Model |  16796126.4         2  8398063.21   Prob > F        =    0.0000\n",
      "    Residual |  10024.3942     9,997  1.00274025   R-squared       =    0.9994\n",
      "-------------+----------------------------------   Adj R-squared   =    0.9994\n",
      "       Total |  16806150.8     9,999  1680.78316   Root MSE        =    1.0014\n",
      "\n",
      "------------------------------------------------------------------------------\n",
      "           y |      Coef.   Std. Err.      t    P>|t|     [95% Conf. Interval]\n",
      "-------------+----------------------------------------------------------------\n",
      "          x1 |    1.00037   .0011332   882.78   0.000     .9981488    1.002591\n",
      "          x2 |   .9994168   .0010176   982.18   0.000     .9974221    1.001411\n",
      "       _cons |   1.989778   .0100956   197.09   0.000     1.969989    2.009568\n",
      "------------------------------------------------------------------------------\n"
     ]
    }
   ],
   "source": [
    "regress y x1 x2"
   ]
  },
  {
   "cell_type": "markdown",
   "metadata": {
    "slideshow": {
     "slide_type": "notes"
    }
   },
   "source": [
    "Now let's estimate a model that excludes one of the explanatory variables:"
   ]
  },
  {
   "cell_type": "code",
   "execution_count": 3,
   "metadata": {
    "slideshow": {
     "slide_type": "subslide"
    }
   },
   "outputs": [
    {
     "name": "stdout",
     "output_type": "stream",
     "text": [
      "\n",
      "      Source |       SS           df       MS      Number of obs   =    10,000\n",
      "-------------+----------------------------------   F(1, 9998)      >  99999.00\n",
      "       Model |  15828807.8         1  15828807.8   Prob > F        =    0.0000\n",
      "    Residual |  977343.026     9,998  97.7538533   R-squared       =    0.9418\n",
      "-------------+----------------------------------   Adj R-squared   =    0.9418\n",
      "       Total |  16806150.8     9,999  1680.78316   Root MSE        =    9.8871\n",
      "\n",
      "------------------------------------------------------------------------------\n",
      "           y |      Coef.   Std. Err.      t    P>|t|     [95% Conf. Interval]\n",
      "-------------+----------------------------------------------------------------\n",
      "          x1 |   1.997809   .0049647   402.40   0.000     1.988077    2.007541\n",
      "       _cons |   3.076904   .0990786    31.06   0.000      2.88269    3.271118\n",
      "------------------------------------------------------------------------------\n"
     ]
    }
   ],
   "source": [
    "regress y x1"
   ]
  },
  {
   "cell_type": "markdown",
   "metadata": {
    "slideshow": {
     "slide_type": "notes"
    }
   },
   "source": [
    "Notice how the coefficient for `x1` has been inflated? This is because `x1` and `x2` are correlated (by definition), and therefore `x1` \"soaks up\" some of the variation in `y` that is explained by `x2` (Gelman and Hill, 2007)."
   ]
  },
  {
   "cell_type": "code",
   "execution_count": 4,
   "metadata": {
    "slideshow": {
     "slide_type": "subslide"
    }
   },
   "outputs": [
    {
     "name": "stdout",
     "output_type": "stream",
     "text": [
      "\n",
      "(obs=10,000)\n",
      "\n",
      "             |       x1       x2\n",
      "-------------+------------------\n",
      "          x1 |   1.0000\n",
      "          x2 |   0.8962   1.0000\n",
      "\n",
      "\n",
      "(obs=10,000)\n",
      "\n",
      "             |        y       x2\n",
      "-------------+------------------\n",
      "           y |   1.0000\n",
      "          x2 |   0.9762   1.0000\n",
      "\n"
     ]
    }
   ],
   "source": [
    "corr x1 x2\n",
    "corr y x2"
   ]
  },
  {
   "cell_type": "markdown",
   "metadata": {
    "slideshow": {
     "slide_type": "subslide"
    }
   },
   "source": [
    "### So why panel data?"
   ]
  },
  {
   "cell_type": "markdown",
   "metadata": {
    "slideshow": {
     "slide_type": "subslide"
    }
   },
   "source": [
    "As the simple example above demonstrates, one way of solving omitted variable bias is to include the omitted explanatory variable(s)!"
   ]
  },
  {
   "cell_type": "markdown",
   "metadata": {
    "slideshow": {
     "slide_type": "fragment"
    }
   },
   "source": [
    "This can be difficult to achieve in practice, as many of these variables may not be captured by the data set, or even possible to record at all (Mehmetoglu & Jakobsen, 2016)."
   ]
  },
  {
   "cell_type": "markdown",
   "metadata": {
    "slideshow": {
     "slide_type": "subslide"
    }
   },
   "source": [
    "If certain assumptions hold, the use of panel data allow us to control for the influence of any omitted variables on the coefficients of the explanatory variables."
   ]
  },
  {
   "cell_type": "markdown",
   "metadata": {
    "slideshow": {
     "slide_type": "fragment"
    }
   },
   "source": [
    "**Key assumption:** the omitted variables are *time-invariant*."
   ]
  },
  {
   "cell_type": "markdown",
   "metadata": {
    "slideshow": {
     "slide_type": "fragment"
    }
   },
   "source": [
    "> As long as we make the assumption that (at least some of) these effects are enduring there are techniques for accounting for omitted explanatory variables if we have data at more than one time point. (Gayle, 2018)"
   ]
  },
  {
   "cell_type": "markdown",
   "metadata": {
    "slideshow": {
     "slide_type": "notes"
    }
   },
   "source": [
    "Panel data won't completely address this problem, but suitable models can improve control for, and even estimate the effects of, omitted explanatory variables."
   ]
  },
  {
   "cell_type": "markdown",
   "metadata": {
    "slideshow": {
     "slide_type": "slide"
    }
   },
   "source": [
    "## Substantive benefits of panel data"
   ]
  },
  {
   "cell_type": "markdown",
   "metadata": {
    "slideshow": {
     "slide_type": "subslide"
    }
   },
   "source": [
    "It would be unwise to focus exclusively on the methodological implications of panel data."
   ]
  },
  {
   "cell_type": "markdown",
   "metadata": {
    "slideshow": {
     "slide_type": "fragment"
    }
   },
   "source": [
    "A major advantage of such data sets is their ability to capture social processes as they evolve over time (*micro-level change*)."
   ]
  },
  {
   "cell_type": "code",
   "execution_count": 5,
   "metadata": {
    "slideshow": {
     "slide_type": "subslide"
    }
   },
   "outputs": [
    {
     "name": "stdout",
     "output_type": "stream",
     "text": [
      "\n",
      "(3 vars, 20 obs)\n",
      "\n",
      "\n",
      "           |       employed\n",
      "       pid |         0          1 |     Total\n",
      "-----------+----------------------+----------\n",
      "     10001 |         5          5 |        10 \n",
      "     10025 |         5          5 |        10 \n",
      "-----------+----------------------+----------\n",
      "     Total |        10         10 |        20 \n",
      "\n"
     ]
    }
   ],
   "source": [
    "import delimited using \"../data/lda-employed-example-2020-08-28.csv\", clear varn(1)\n",
    "tab pid employed"
   ]
  },
  {
   "cell_type": "markdown",
   "metadata": {
    "slideshow": {
     "slide_type": "notes"
    }
   },
   "source": [
    "In this fictional example we see that the two individuals have the same overall employment history: five periods of employment, five of unemployment.\n",
    "\n",
    "However this summary masks the stark difference in their employment trajectories:"
   ]
  },
  {
   "cell_type": "code",
   "execution_count": 6,
   "metadata": {
    "slideshow": {
     "slide_type": "subslide"
    }
   },
   "outputs": [
    {
     "name": "stdout",
     "output_type": "stream",
     "text": [
      "\n",
      "     +-------------------------+\n",
      "     |   pid   year   employed |\n",
      "     |-------------------------|\n",
      "  1. | 10001   2000          1 |\n",
      "  2. | 10001   2001          1 |\n",
      "  3. | 10001   2002          0 |\n",
      "  4. | 10001   2003          1 |\n",
      "  5. | 10001   2004          0 |\n",
      "     |-------------------------|\n",
      "  6. | 10001   2005          1 |\n",
      "  7. | 10001   2006          1 |\n",
      "  8. | 10001   2007          0 |\n",
      "  9. | 10001   2008          0 |\n",
      " 10. | 10001   2009          0 |\n",
      "     |-------------------------|\n",
      " 11. | 10025   2000          1 |\n",
      " 12. | 10025   2001          1 |\n",
      " 13. | 10025   2002          1 |\n",
      " 14. | 10025   2003          1 |\n",
      " 15. | 10025   2004          1 |\n",
      "     |-------------------------|\n",
      " 16. | 10025   2005          0 |\n",
      " 17. | 10025   2006          0 |\n",
      " 18. | 10025   2007          0 |\n",
      " 19. | 10025   2008          0 |\n",
      " 20. | 10025   2009          0 |\n",
      "     +-------------------------+\n"
     ]
    }
   ],
   "source": [
    "l"
   ]
  },
  {
   "cell_type": "markdown",
   "metadata": {
    "slideshow": {
     "slide_type": "notes"
    }
   },
   "source": [
    "Individual `10001` drifts in and out of employment, while `10025` only changes employment status once (in 2005).\n",
    "\n",
    "Therefore we can decide to focus on analysing change over time, in addition to traditional analyses of differences between groups: "
   ]
  },
  {
   "cell_type": "code",
   "execution_count": 7,
   "metadata": {
    "slideshow": {
     "slide_type": "subslide"
    }
   },
   "outputs": [
    {
     "name": "stdout",
     "output_type": "stream",
     "text": [
      "\n",
      "       panel variable:  pid (strongly balanced)\n",
      "        time variable:  year, 2000 to 2009\n",
      "                delta:  1 unit\n",
      "\n",
      "\n",
      "--------------------------------------------------------------------------------\n",
      "-> pid = 10001\n",
      "\n",
      "           |       employed\n",
      "  employed |         0          1 |     Total\n",
      "-----------+----------------------+----------\n",
      "         0 |     50.00      50.00 |    100.00 \n",
      "         1 |     60.00      40.00 |    100.00 \n",
      "-----------+----------------------+----------\n",
      "     Total |     55.56      44.44 |    100.00 \n",
      "\n",
      "\n",
      "--------------------------------------------------------------------------------\n",
      "-> pid = 10025\n",
      "\n",
      "           |       employed\n",
      "  employed |         0          1 |     Total\n",
      "-----------+----------------------+----------\n",
      "         0 |    100.00       0.00 |    100.00 \n",
      "         1 |     20.00      80.00 |    100.00 \n",
      "-----------+----------------------+----------\n",
      "     Total |     55.56      44.44 |    100.00 \n",
      "\n"
     ]
    }
   ],
   "source": [
    "xtset pid year\n",
    "bys pid: xttrans employed"
   ]
  },
  {
   "cell_type": "markdown",
   "metadata": {
    "slideshow": {
     "slide_type": "slide"
    }
   },
   "source": [
    "## Panel data analysis: key considerations"
   ]
  },
  {
   "cell_type": "markdown",
   "metadata": {
    "slideshow": {
     "slide_type": "subslide"
    }
   },
   "source": [
    "How can we use our understanding of these two advantages of panel data &mdash; **examining micro-level change** and **improved control for residual heterogeneity** &mdash; when estimating statistical models? "
   ]
  },
  {
   "cell_type": "markdown",
   "metadata": {
    "slideshow": {
     "slide_type": "fragment"
    }
   },
   "source": [
    "A good approach is to pose two overarching questions:"
   ]
  },
  {
   "cell_type": "markdown",
   "metadata": {
    "slideshow": {
     "slide_type": "subslide"
    }
   },
   "source": [
    "### How do your explanatory variables influence the outcome?"
   ]
  },
  {
   "cell_type": "markdown",
   "metadata": {
    "slideshow": {
     "slide_type": "fragment"
    }
   },
   "source": [
    "Are you interested in how *changes within units* are associated with variation in the outcome?"
   ]
  },
  {
   "cell_type": "markdown",
   "metadata": {
    "slideshow": {
     "slide_type": "fragment"
    }
   },
   "source": [
    "Are you interested in how *differences between units* are associated with variation in the outcome?"
   ]
  },
  {
   "cell_type": "markdown",
   "metadata": {
    "slideshow": {
     "slide_type": "fragment"
    }
   },
   "source": [
    "Or both?"
   ]
  },
  {
   "cell_type": "markdown",
   "metadata": {
    "slideshow": {
     "slide_type": "subslide"
    }
   },
   "source": [
    "Consider this simple example:"
   ]
  },
  {
   "cell_type": "markdown",
   "metadata": {
    "slideshow": {
     "slide_type": "fragment"
    }
   },
   "source": [
    "Would you expect the effect of retirement on income to differ whether: \n",
    "* we were comparing two individuals (one retired, one not), or \n",
    "* we were comparing one individual who changes retirement status between two time periods?"
   ]
  },
  {
   "cell_type": "markdown",
   "metadata": {
    "slideshow": {
     "slide_type": "subslide"
    }
   },
   "source": [
    "![Outer Hebrides](./images/oh-map.jpg)\n",
    "\n",
    "Credit: [Wikipedia](https://en.wikipedia.org/wiki/Outer_Hebrides)"
   ]
  },
  {
   "cell_type": "markdown",
   "metadata": {
    "slideshow": {
     "slide_type": "notes"
    }
   },
   "source": [
    "For example, average earnings in the Outer Hebrides of Scotland are lower than average for London. But would we expect earnings to drop on average if someone moves from London to the Outer Hebrides?"
   ]
  },
  {
   "cell_type": "markdown",
   "metadata": {
    "slideshow": {
     "slide_type": "notes"
    }
   },
   "source": [
    "Cross-sectional data only allow us to examine differences between units and how said difference are associated with variation in an outcome."
   ]
  },
  {
   "cell_type": "markdown",
   "metadata": {
    "slideshow": {
     "slide_type": "notes"
    }
   },
   "source": [
    "This is not a technical issue and requires theoretical insight on the nature of the relationships between your explanatory factors and outcome of interest.\n",
    "\n",
    "The decision you make influences which type of panel data model you ultimately select as being most appropriate for your research question."
   ]
  },
  {
   "cell_type": "markdown",
   "metadata": {
    "slideshow": {
     "slide_type": "subslide"
    }
   },
   "source": [
    "### Is your statistical model specified correctly?"
   ]
  },
  {
   "cell_type": "markdown",
   "metadata": {
    "slideshow": {
     "slide_type": "fragment"
    }
   },
   "source": [
    "Do you have all and only relevant explanatory variables in your model (Gelman and Hill, 2007)?"
   ]
  },
  {
   "cell_type": "markdown",
   "metadata": {
    "slideshow": {
     "slide_type": "fragment"
    }
   },
   "source": [
    "How worried are you that some (especially important) explanatory variables have not been included in your model?"
   ]
  },
  {
   "cell_type": "markdown",
   "metadata": {
    "slideshow": {
     "slide_type": "fragment"
    }
   },
   "source": [
    "Do you think the omission of these explanatory variables is leading to bias in the variables included in the model?"
   ]
  },
  {
   "cell_type": "markdown",
   "metadata": {
    "slideshow": {
     "slide_type": "notes"
    }
   },
   "source": [
    "This is a technical issue and thus a number of statistical tests and techniques can help guide us to select the most appropriate panel data model."
   ]
  },
  {
   "cell_type": "markdown",
   "metadata": {
    "slideshow": {
     "slide_type": "slide"
    }
   },
   "source": [
    "## Task"
   ]
  },
  {
   "cell_type": "markdown",
   "metadata": {
    "slideshow": {
     "slide_type": "fragment"
    }
   },
   "source": [
    "Think of a piece of quantitative analysis you have done (or would like to do)."
   ]
  },
  {
   "cell_type": "markdown",
   "metadata": {
    "slideshow": {
     "slide_type": "fragment"
    }
   },
   "source": [
    "Clearly state the analysis in terms of an outcome and a set of explanatory variables (a statistical model)."
   ]
  },
  {
   "cell_type": "markdown",
   "metadata": {
    "slideshow": {
     "slide_type": "fragment"
    }
   },
   "source": [
    "Consider the two main questions:\n",
    "* *How does each of your explanatory variables influence the outcome?*\n",
    "* *Is your statistical model specified correctly?*"
   ]
  },
  {
   "cell_type": "markdown",
   "metadata": {
    "slideshow": {
     "slide_type": "fragment"
    }
   },
   "source": [
    "Finally, consider whether and how panel data would support the estimation of your statistical model."
   ]
  }
 ],
 "metadata": {
  "kernelspec": {
   "display_name": "Stata",
   "language": "stata",
   "name": "stata"
  },
  "language_info": {
   "codemirror_mode": "stata",
   "file_extension": ".do",
   "mimetype": "text/x-stata",
   "name": "stata",
   "version": "15.1"
  },
  "toc": {
   "base_numbering": 1,
   "nav_menu": {},
   "number_sections": true,
   "sideBar": false,
   "skip_h1_title": true,
   "title_cell": "Table of Contents",
   "title_sidebar": "Contents",
   "toc_cell": true,
   "toc_position": {},
   "toc_section_display": true,
   "toc_window_display": false
  }
 },
 "nbformat": 4,
 "nbformat_minor": 4
}
