{
 "cells": [
  {
   "cell_type": "markdown",
   "metadata": {
    "slideshow": {
     "slide_type": "notes"
    }
   },
   "source": [
    "# Longitudinal Data Analysis"
   ]
  },
  {
   "cell_type": "markdown",
   "metadata": {
    "slideshow": {
     "slide_type": "slide"
    }
   },
   "source": [
    "# Extensions"
   ]
  },
  {
   "cell_type": "markdown",
   "metadata": {
    "slideshow": {
     "slide_type": "notes"
    },
    "toc": true
   },
   "source": [
    "<h1>Table of Contents<span class=\"tocSkip\"></span></h1>\n",
    "<div class=\"toc\"><ul class=\"toc-item\"><li><span><a href=\"#Nonlinear-outcomes\" data-toc-modified-id=\"Nonlinear-outcomes-1\"><span class=\"toc-item-num\">1&nbsp;&nbsp;</span>Nonlinear outcomes</a></span></li><li><span><a href=\"#Hybrid-panel-data-models\" data-toc-modified-id=\"Hybrid-panel-data-models-2\"><span class=\"toc-item-num\">2&nbsp;&nbsp;</span>Hybrid panel data models</a></span></li><li><span><a href=\"#Mundlak-approach\" data-toc-modified-id=\"Mundlak-approach-3\"><span class=\"toc-item-num\">3&nbsp;&nbsp;</span>Mundlak approach</a></span></li><li><span><a href=\"#Dynamic-panel-models\" data-toc-modified-id=\"Dynamic-panel-models-4\"><span class=\"toc-item-num\">4&nbsp;&nbsp;</span>Dynamic panel models</a></span></li><li><span><a href=\"#Latent-growth-curve-models\" data-toc-modified-id=\"Latent-growth-curve-models-5\"><span class=\"toc-item-num\">5&nbsp;&nbsp;</span>Latent growth curve models</a></span></li></ul></div>"
   ]
  },
  {
   "cell_type": "markdown",
   "metadata": {
    "slideshow": {
     "slide_type": "subslide"
    }
   },
   "source": [
    "In this section we provide a whistle-stop tour of some additional techniques and approaches for panel data and longitudinal data more broadly."
   ]
  },
  {
   "cell_type": "markdown",
   "metadata": {
    "slideshow": {
     "slide_type": "slide"
    }
   },
   "source": [
    "## Nonlinear outcomes"
   ]
  },
  {
   "cell_type": "markdown",
   "metadata": {
    "slideshow": {
     "slide_type": "subslide"
    }
   },
   "source": [
    "Fixed Effects and Random Effects models can be applied to nonlinear outcomes (e.g., binary and count dependent variables) also."
   ]
  },
  {
   "cell_type": "markdown",
   "metadata": {
    "slideshow": {
     "slide_type": "fragment"
    }
   },
   "source": [
    "Here is a published example from McDonnell (2017): [https://doi.org/10.1177/0899764017692039](https://doi.org/10.1177/0899764017692039)"
   ]
  },
  {
   "cell_type": "code",
   "execution_count": 1,
   "metadata": {
    "slideshow": {
     "slide_type": "subslide"
    }
   },
   "outputs": [
    {
     "name": "stdout",
     "output_type": "stream",
     "text": [
      "\n",
      "(Scottish Charity Financial Exceptions Data: 2007-2013)\n",
      "\n",
      "\n",
      "(1,323 missing values generated)\n"
     ]
    }
   ],
   "source": [
    "use \"../data/improvingcharityaccountability_20170411.dta\", clear\n",
    "\n",
    "gen localc = (geographicalspread==2)\n",
    "gen linc = ln(totalfunds) if totalfunds > 0 & totalfunds!=."
   ]
  },
  {
   "cell_type": "code",
   "execution_count": 2,
   "metadata": {
    "slideshow": {
     "slide_type": "subslide"
    }
   },
   "outputs": [
    {
     "name": "stdout",
     "output_type": "stream",
     "text": [
      "\n",
      "      Year |  Possible failure to\n",
      "    annual |    apply funds for\n",
      "    return |  charitable purposes\n",
      " submitted |         0          1 |     Total\n",
      "-----------+----------------------+----------\n",
      "      2007 |       754        196 |       950 \n",
      "      2008 |     2,752        881 |     3,633 \n",
      "      2009 |     2,964        818 |     3,782 \n",
      "      2010 |     2,946        736 |     3,682 \n",
      "      2011 |     2,659        702 |     3,361 \n",
      "      2012 |     2,450        645 |     3,095 \n",
      "      2013 |     1,555        457 |     2,012 \n",
      "      2014 |       585        222 |       807 \n",
      "-----------+----------------------+----------\n",
      "     Total |    16,665      4,657 |    21,322 \n",
      "\n"
     ]
    }
   ],
   "source": [
    "tab yearsubmitted excgroup_3 "
   ]
  },
  {
   "cell_type": "code",
   "execution_count": 3,
   "metadata": {
    "slideshow": {
     "slide_type": "subslide"
    }
   },
   "outputs": [
    {
     "name": "stdout",
     "output_type": "stream",
     "text": [
      "\n",
      "Fitting comparison model:\n",
      "\n",
      "Iteration 0:   log likelihood = -10687.029  \n",
      "Iteration 1:   log likelihood = -10488.084  \n",
      "Iteration 2:   log likelihood = -10486.442  \n",
      "Iteration 3:   log likelihood = -10486.442  \n",
      "\n",
      "Fitting full model:\n",
      "\n",
      "tau =  0.0     log likelihood = -10486.442\n",
      "tau =  0.1     log likelihood = -10257.949\n",
      "tau =  0.2     log likelihood =  -10048.82\n",
      "tau =  0.3     log likelihood = -9859.3094\n",
      "tau =  0.4     log likelihood =  -9689.005\n",
      "tau =  0.5     log likelihood = -9538.3489\n",
      "tau =  0.6     log likelihood = -9410.3167\n",
      "tau =  0.7     log likelihood = -9314.0716\n",
      "tau =  0.8     log likelihood =  -9277.005\n",
      "\n",
      "Iteration 0:   log likelihood = -9313.6924  \n",
      "Iteration 1:   log likelihood = -9178.5858  \n",
      "Iteration 2:   log likelihood = -9173.5625  \n",
      "Iteration 3:   log likelihood = -9173.5365  \n",
      "Iteration 4:   log likelihood = -9173.5365  (backed up)\n",
      "Iteration 5:   log likelihood = -9173.5362  \n",
      "\n",
      "Random-effects logistic regression              Number of obs     =     19,982\n",
      "Group variable: org_id                          Number of groups  =      4,714\n",
      "\n",
      "Random effects u_i ~ Gaussian                   Obs per group:\n",
      "                                                              min =          1\n",
      "                                                              avg =        4.2\n",
      "                                                              max =          7\n",
      "\n",
      "Integration method: mvaghermite                 Integration pts.  =         12\n",
      "\n",
      "                                                Wald chi2(4)      =     232.05\n",
      "Log likelihood  = -9173.5362                    Prob > chi2       =     0.0000\n",
      "\n",
      "-------------------------------------------------------------------------------\n",
      "   excgroup_3 |         OR   Std. Err.      z    P>|z|     [95% Conf. Interval]\n",
      "--------------+----------------------------------------------------------------\n",
      "concentration |   .8526391    .128419    -1.06   0.290     .6346916    1.145428\n",
      "   charityage |   .9911255   .0015465    -5.71   0.000     .9880991    .9941612\n",
      "       localc |    2.33282   .2335039     8.46   0.000     1.917256    2.838458\n",
      "         linc |   1.333225   .0276658    13.86   0.000     1.280089    1.388567\n",
      "        _cons |   .0050338   .0013577   -19.62   0.000      .002967    .0085406\n",
      "--------------+----------------------------------------------------------------\n",
      "     /lnsig2u |   1.518384   .0552301                      1.410135    1.626633\n",
      "--------------+----------------------------------------------------------------\n",
      "      sigma_u |   2.136549   .0590009                      2.023984    2.255376\n",
      "          rho |   .5811599   .0134437                      .5546033    .6072544\n",
      "-------------------------------------------------------------------------------\n",
      "LR test of rho=0: chibar2(01) = 2625.81                Prob >= chibar2 = 0.000\n"
     ]
    }
   ],
   "source": [
    "xtlogit excgroup_3 concentration charityage localc linc, or re"
   ]
  },
  {
   "cell_type": "code",
   "execution_count": 4,
   "metadata": {
    "slideshow": {
     "slide_type": "subslide"
    }
   },
   "outputs": [
    {
     "name": "stdout",
     "output_type": "stream",
     "text": [
      "\n",
      "(Contains annual accounts of charities in E&W for financial years 2006-2017)\n",
      "\n",
      "\n",
      "Fitting Poisson model:\n",
      "\n",
      "Iteration 0:   log likelihood =  -42473.77  \n",
      "Iteration 1:   log likelihood =  -42473.77  \n",
      "\n",
      "Fitting full model:\n",
      "\n",
      "Iteration 0:   log likelihood = -43378.386  \n",
      "Iteration 1:   log likelihood = -41912.848  (not concave)\n",
      "Iteration 2:   log likelihood = -41494.954  \n",
      "Iteration 3:   log likelihood = -41471.918  \n",
      "Iteration 4:   log likelihood = -41471.687  \n",
      "Iteration 5:   log likelihood = -41471.687  \n",
      "\n",
      "Random-effects Poisson regression               Number of obs     =     23,826\n",
      "Group variable: regno                           Number of groups  =      2,166\n",
      "\n",
      "Random effects u_i ~ Gamma                      Obs per group:\n",
      "                                                              min =         11\n",
      "                                                              avg =       11.0\n",
      "                                                              max =         11\n",
      "\n",
      "                                                Wald chi2(6)      =     231.78\n",
      "Log likelihood  = -41471.687                    Prob > chi2       =     0.0000\n",
      "\n",
      "------------------------------------------------------------------------------\n",
      "    nsources |      Coef.   Std. Err.      z    P>|z|     [95% Conf. Interval]\n",
      "-------------+----------------------------------------------------------------\n",
      "        linc |   .0439247   .0057484     7.64   0.000     .0326581    .0551913\n",
      "      orgage |   .0002729    .000149     1.83   0.067    -.0000192    .0005649\n",
      "      localc |   .0063181   .0127513     0.50   0.620    -.0186741    .0313103\n",
      "        west |  -.0484527   .0247255    -1.96   0.050    -.0969138    8.46e-06\n",
      "     genchar |   .0671619   .0134216     5.00   0.000     .0408561    .0934677\n",
      "govern_share |   .0016258   .0001569    10.36   0.000     .0013183    .0019333\n",
      "       _cons |   .5776679   .0894589     6.46   0.000     .4023317    .7530042\n",
      "-------------+----------------------------------------------------------------\n",
      "    /lnalpha |  -2.928772   .0456227                      -3.01819   -2.839353\n",
      "-------------+----------------------------------------------------------------\n",
      "       alpha |   .0534627   .0024391                      .0488896    .0584635\n",
      "------------------------------------------------------------------------------\n",
      "LR test of alpha=0: chibar2(01) = 2004.16              Prob >= chibar2 = 0.000\n"
     ]
    }
   ],
   "source": [
    "use \"../data/charity-panel-analysis-2020-09-10.dta\", clear\n",
    "\n",
    "xtpoisson nsources linc orgage localc west genchar govern_share, re"
   ]
  },
  {
   "cell_type": "markdown",
   "metadata": {
    "slideshow": {
     "slide_type": "slide"
    }
   },
   "source": [
    "## Hybrid panel data models"
   ]
  },
  {
   "cell_type": "markdown",
   "metadata": {
    "slideshow": {
     "slide_type": "subslide"
    }
   },
   "source": [
    "A hybrid panel model allows you to decompose the observed explanatory variables into their within and between effects using the Random Effects estimator."
   ]
  },
  {
   "cell_type": "markdown",
   "metadata": {
    "slideshow": {
     "slide_type": "fragment"
    }
   },
   "source": [
    "Let's return to our charity data example and see if we can decompose the effect of `nsources` into its within and between effects."
   ]
  },
  {
   "cell_type": "code",
   "execution_count": 5,
   "metadata": {
    "slideshow": {
     "slide_type": "subslide"
    }
   },
   "outputs": [
    {
     "name": "stdout",
     "output_type": "stream",
     "text": [
      "(Contains annual accounts of charities in E&W for financial years 2006-2017)\n"
     ]
    }
   ],
   "source": [
    "use \"../data/charity-panel-analysis-2020-09-10.dta\", clear"
   ]
  },
  {
   "cell_type": "code",
   "execution_count": 6,
   "metadata": {
    "slideshow": {
     "slide_type": "subslide"
    }
   },
   "outputs": [],
   "source": [
    "bys regno: egen nsources_mn = mean(nsources)\n",
    "gen nsources_delta = nsources - nsources_mn"
   ]
  },
  {
   "cell_type": "code",
   "execution_count": 7,
   "metadata": {
    "slideshow": {
     "slide_type": "subslide"
    }
   },
   "outputs": [
    {
     "name": "stdout",
     "output_type": "stream",
     "text": [
      "\n",
      "Random-effects GLS regression                   Number of obs     =     23,826\n",
      "Group variable: regno                           Number of groups  =      2,166\n",
      "\n",
      "R-sq:                                           Obs per group:\n",
      "     within  = 0.0136                                         min =         11\n",
      "     between = 0.1017                                         avg =       11.0\n",
      "     overall = 0.0952                                         max =         11\n",
      "\n",
      "                                                Wald chi2(7)      =     536.49\n",
      "corr(u_i, X)   = 0 (assumed)                    Prob > chi2       =     0.0000\n",
      "\n",
      "-------------------------------------------------------------------------------\n",
      "         linc |      Coef.   Std. Err.      z    P>|z|     [95% Conf. Interval]\n",
      "--------------+----------------------------------------------------------------\n",
      "       orgage |   .0048981   .0003692    13.27   0.000     .0041745    .0056216\n",
      "       localc |  -.3320839   .0412748    -8.05   0.000     -.412981   -.2511868\n",
      "         west |   .1011212   .0802314     1.26   0.208    -.0561294    .2583718\n",
      "      genchar |  -.3070555   .0418617    -7.34   0.000    -.3891029   -.2250082\n",
      "  nsources_mn |   .1298578   .0187345     6.93   0.000     .0931388    .1665767\n",
      "nsources_de~a |    .028249   .0027888    10.13   0.000      .022783    .0337149\n",
      " govern_share |   .0010022    .000121     8.29   0.000     .0007652    .0012393\n",
      "        _cons |   14.80668   .0817325   181.16   0.000     14.64648    14.96687\n",
      "--------------+----------------------------------------------------------------\n",
      "      sigma_u |  .90698522\n",
      "      sigma_e |   .2821005\n",
      "          rho |  .91179291   (fraction of variance due to u_i)\n",
      "-------------------------------------------------------------------------------\n"
     ]
    }
   ],
   "source": [
    "xtreg linc orgage localc west genchar nsources_mn nsources_delta govern_share, re"
   ]
  },
  {
   "cell_type": "markdown",
   "metadata": {
    "slideshow": {
     "slide_type": "notes"
    }
   },
   "source": [
    "The coefficients for `nsources_mn` and `nsources_delta` are equal to those estimated in the Between Effects and Fixed Effects models respectively."
   ]
  },
  {
   "cell_type": "markdown",
   "metadata": {
    "slideshow": {
     "slide_type": "subslide"
    }
   },
   "source": [
    "Furthermore we can test whether the between and within effects are equal:"
   ]
  },
  {
   "cell_type": "code",
   "execution_count": 8,
   "metadata": {
    "slideshow": {
     "slide_type": "subslide"
    }
   },
   "outputs": [
    {
     "name": "stdout",
     "output_type": "stream",
     "text": [
      "\n",
      " ( 1)  nsources_mn - nsources_delta = 0\n",
      "\n",
      "           chi2(  1) =   28.78\n",
      "         Prob > chi2 =    0.0000\n"
     ]
    }
   ],
   "source": [
    "test nsources_mn = nsources_delta"
   ]
  },
  {
   "cell_type": "markdown",
   "metadata": {
    "slideshow": {
     "slide_type": "subslide"
    }
   },
   "source": [
    "An equivalent approach is to use the `mundlak` command:"
   ]
  },
  {
   "cell_type": "code",
   "execution_count": 9,
   "metadata": {
    "slideshow": {
     "slide_type": "subslide"
    }
   },
   "outputs": [
    {
     "name": "stdout",
     "output_type": "stream",
     "text": [
      "\n",
      "The variable orgage does not vary sufficiently within groups and will not be use\n",
      "> d to create additional regressors.\n",
      "0% of the total variance in orgage is within groups.\n",
      "\n",
      "The variable localc does not vary sufficiently within groups and will not be use\n",
      "> d to create additional regressors.\n",
      "0% of the total variance in localc is within groups.\n",
      "\n",
      "The variable west does not vary sufficiently within groups and will not be used \n",
      "> to create additional regressors.\n",
      "0% of the total variance in west is within groups.\n",
      "\n",
      "The variable genchar does not vary sufficiently within groups and will not be us\n",
      "> ed to create additional regressors.\n",
      "0% of the total variance in genchar is within groups.\n",
      "\n",
      "+------------------------------------------------+\n",
      "|             Variable |     RE     |   Hybrid   |\n",
      "|----------------------+------------+------------|\n",
      "|               orgage |      0.005 |      0.005 |\n",
      "|               localc |     -0.332 |     -0.329 |\n",
      "|                 west |      0.080 |      0.097 |\n",
      "|              genchar |     -0.273 |     -0.295 |\n",
      "|             nsources |      0.030 |            |\n",
      "|         govern_share |      0.001 |            |\n",
      "|       diff__nsources |            |      0.028 |\n",
      "|   diff__govern_share |            |      0.001 |\n",
      "|       mean__nsources |            |      0.134 |\n",
      "|   mean__govern_share |            |      0.000 |\n",
      "|                _cons |     15.160 |     14.797 |\n",
      "|----------------------+------------+------------|\n",
      "|                    N |      23826 |      23826 |\n",
      "|                  N_g |   2166.000 |   2166.000 |\n",
      "|                g_min |     11.000 |     11.000 |\n",
      "|                g_avg |     11.000 |     11.000 |\n",
      "|                g_max |     11.000 |     11.000 |\n",
      "|                  rho |      0.912 |      0.912 |\n",
      "|                 rmse |      0.282 |      0.282 |\n",
      "|                 chi2 |    507.117 |    537.048 |\n",
      "|                    p |      0.000 |      0.000 |\n",
      "|                 df_m |      6.000 |      8.000 |\n",
      "|                sigma |      0.950 |      0.950 |\n",
      "|              sigma_u |      0.907 |      0.907 |\n",
      "|              sigma_e |      0.282 |      0.282 |\n",
      "|                 r2_w |      0.014 |      0.014 |\n",
      "|                 r2_o |      0.083 |      0.095 |\n",
      "|                 r2_b |      0.089 |      0.102 |\n",
      "+------------------------------------------------+\n"
     ]
    }
   ],
   "source": [
    "mundlak linc orgage localc west genchar nsources govern_share, hybrid"
   ]
  },
  {
   "cell_type": "markdown",
   "metadata": {
    "slideshow": {
     "slide_type": "slide"
    }
   },
   "source": [
    "## Mundlak approach"
   ]
  },
  {
   "cell_type": "markdown",
   "metadata": {
    "slideshow": {
     "slide_type": "fragment"
    }
   },
   "source": [
    "Random Effects model assumes that observed and unobserved effects are uncorrelated - an often unrealistic assumption (Gayle and Lambert, 2018)."
   ]
  },
  {
   "cell_type": "markdown",
   "metadata": {
    "slideshow": {
     "slide_type": "fragment"
    }
   },
   "source": [
    "We can relax this assumption using the *Mundlak approach*, which works by including unit-level means for the time-varying explanatory variables in the Random Effects model."
   ]
  },
  {
   "cell_type": "code",
   "execution_count": 10,
   "metadata": {
    "slideshow": {
     "slide_type": "subslide"
    }
   },
   "outputs": [],
   "source": [
    "bys regno: egen orgage_mn = mean(orgage)\n",
    "bys regno: egen govern_share_mn = mean(govern_share)"
   ]
  },
  {
   "cell_type": "code",
   "execution_count": 11,
   "metadata": {
    "slideshow": {
     "slide_type": "notes"
    }
   },
   "outputs": [
    {
     "name": "stdout",
     "output_type": "stream",
     "text": [
      "\n",
      "\n",
      "Random-effects GLS regression                   Number of obs     =     23,826\n",
      "Group variable: regno                           Number of groups  =      2,166\n",
      "\n",
      "R-sq:                                           Obs per group:\n",
      "     within  = 0.0140                                         min =         11\n",
      "     between = 0.1042                                         avg =       11.0\n",
      "     overall = 0.0976                                         max =         11\n",
      "\n",
      "                                                Wald chi2(9)      =     557.99\n",
      "corr(u_i, X)   = 0 (assumed)                    Prob > chi2       =     0.0000\n",
      "\n",
      "-------------------------------------------------------------------------------\n",
      "         linc |      Coef.   Std. Err.      z    P>|z|     [95% Conf. Interval]\n",
      "--------------+----------------------------------------------------------------\n",
      "       orgage |   .0069072   .0005802    11.90   0.000       .00577    .0080444\n",
      "       localc |  -.3282906   .0414364    -7.92   0.000    -.4095044   -.2470768\n",
      "         west |   .1167392   .0805284     1.45   0.147    -.0410935    .2745719\n",
      "      genchar |  -.3210918   .0449127    -7.15   0.000    -.4091191   -.2330644\n",
      "     nsources |   .0289886   .0027931    10.38   0.000     .0235142     .034463\n",
      " govern_share |   .0010325   .0001225     8.43   0.000     .0007923    .0012726\n",
      "govern_shar~n |  -.0007575   .0007578    -1.00   0.317    -.0022428    .0007277\n",
      "  nsources_mn |    .109471   .0195752     5.59   0.000     .0711044    .1478376\n",
      "    orgage_mn |  -.0034024   .0007524    -4.52   0.000    -.0048772   -.0019277\n",
      "        _cons |   14.85058   .0835091   177.83   0.000     14.68691    15.01426\n",
      "--------------+----------------------------------------------------------------\n",
      "      sigma_u |  .90700183\n",
      "      sigma_e |   .2821005\n",
      "          rho |  .91179586   (fraction of variance due to u_i)\n",
      "-------------------------------------------------------------------------------\n",
      "\n"
     ]
    }
   ],
   "source": [
    "xtreg linc orgage localc west genchar nsources govern_share ///\n",
    "    govern_share_mn nsources_mn orgage_mn, re\n",
    "est store mund"
   ]
  },
  {
   "cell_type": "code",
   "execution_count": 12,
   "metadata": {
    "slideshow": {
     "slide_type": "subslide"
    }
   },
   "outputs": [],
   "source": [
    "quietly xtreg linc orgage localc west genchar nsources govern_share, fe\n",
    "est store fixed"
   ]
  },
  {
   "cell_type": "code",
   "execution_count": 13,
   "metadata": {
    "slideshow": {
     "slide_type": "subslide"
    }
   },
   "outputs": [
    {
     "name": "stdout",
     "output_type": "stream",
     "text": [
      "\n",
      "----------------------------------------\n",
      "    Variable |   fixed         mund     \n",
      "-------------+--------------------------\n",
      "      orgage |   .0069072     .0069072  \n",
      "      localc |  (omitted)    -.3282906  \n",
      "        west |  (omitted)    .11673923  \n",
      "     genchar |  (omitted)   -.32109178  \n",
      "    nsources |  .02898861    .02898861  \n",
      "govern_share |  .00103247    .00103247  \n",
      "govern_sha~n |              -.00075753  \n",
      " nsources_mn |               .10947099  \n",
      "   orgage_mn |              -.00340245  \n",
      "       _cons |  14.715042    14.850581  \n",
      "----------------------------------------\n"
     ]
    }
   ],
   "source": [
    "est table fixed mund"
   ]
  },
  {
   "cell_type": "code",
   "execution_count": 14,
   "metadata": {
    "slideshow": {
     "slide_type": "subslide"
    }
   },
   "outputs": [
    {
     "name": "stdout",
     "output_type": "stream",
     "text": [
      "\n",
      "\n",
      "\n",
      " ( 1)  govern_share_mn - nsources_mn = 0\n",
      " ( 2)  govern_share_mn - orgage_mn = 0\n",
      "\n",
      "           chi2(  2) =   43.79\n",
      "         Prob > chi2 =    0.0000\n"
     ]
    }
   ],
   "source": [
    "quietly xtreg linc orgage localc west genchar nsources govern_share ///\n",
    "    govern_share_mn nsources_mn orgage_mn, re\n",
    "\n",
    "test govern_share_mn = nsources_mn = orgage_mn"
   ]
  },
  {
   "cell_type": "markdown",
   "metadata": {
    "slideshow": {
     "slide_type": "subslide"
    }
   },
   "source": [
    "The *Mundlak approach* is an alternative to the *Hausman test*."
   ]
  },
  {
   "cell_type": "markdown",
   "metadata": {
    "slideshow": {
     "slide_type": "slide"
    }
   },
   "source": [
    "## Dynamic panel models"
   ]
  },
  {
   "cell_type": "markdown",
   "metadata": {
    "slideshow": {
     "slide_type": "fragment"
    }
   },
   "source": [
    "The models are suitable for when you have repeated contacts data and your (lagged) outcome variable serves also serves as one of your explanatory variables."
   ]
  },
  {
   "cell_type": "markdown",
   "metadata": {
    "slideshow": {
     "slide_type": "fragment"
    }
   },
   "source": [
    "The inclusion of lagged outcome variables poses as an issue as the lagged variables are possibly correlated with the unobserved effects (Gayle and Lambert, 2018)."
   ]
  },
  {
   "cell_type": "code",
   "execution_count": 15,
   "metadata": {
    "slideshow": {
     "slide_type": "subslide"
    }
   },
   "outputs": [
    {
     "name": "stdout",
     "output_type": "stream",
     "text": [
      "\n",
      "(Contains annual accounts of charities in E&W for financial years 2006-2017)\n",
      "\n",
      "       panel variable:  regno (strongly balanced)\n",
      "        time variable:  fin_year, 1 to 11\n",
      "                delta:  1 unit\n"
     ]
    }
   ],
   "source": [
    "use \"../data/charity-panel-analysis-2020-09-10.dta\", clear\n",
    "xtset regno fin_year"
   ]
  },
  {
   "cell_type": "code",
   "execution_count": 16,
   "metadata": {
    "slideshow": {
     "slide_type": "subslide"
    }
   },
   "outputs": [
    {
     "name": "stdout",
     "output_type": "stream",
     "text": [
      "\n",
      "\n",
      "\n",
      "        regno   fin_year       linc   linc_lag  \n",
      "  1.   200048    2006-07   14.00189          .  \n",
      "  2.   200048    2007-08   14.17788   14.00189  \n",
      "  3.   200048    2008-09    14.1851   14.17788  \n",
      "  4.   200048    2009-10    14.2326    14.1851  \n",
      "  5.   200048    2010-11    14.1709    14.2326  \n",
      "  6.   200048    2011-12   14.14801    14.1709  \n",
      "  7.   200048    2012-13     14.376   14.14801  \n",
      "  8.   200048    2013-14   14.29996     14.376  \n",
      "  9.   200048    2014-15   14.26031   14.29996  \n",
      " 10.   200048    2015-16   14.30113   14.26031  \n",
      " 11.   200048    2016-17   14.37021   14.30113  \n",
      " 12.   200051    2006-07     17.664          .  \n",
      " 13.   200051    2007-08   17.60568     17.664  \n",
      " 14.   200051    2008-09   17.44065   17.60568  \n",
      " 15.   200051    2009-10   16.46766   17.44065  \n",
      " 16.   200051    2010-11   16.32526   16.46766  \n",
      " 17.   200051    2011-12    16.4079   16.32526  \n",
      " 18.   200051    2012-13   16.35779    16.4079  \n",
      " 19.   200051    2013-14   16.04346   16.35779  \n",
      " 20.   200051    2014-15   15.71779   16.04346  \n",
      " 21.   200051    2015-16   15.42241   15.71779  \n",
      " 22.   200051    2016-17   15.51123   15.42241  \n"
     ]
    }
   ],
   "source": [
    "capture gen linc_lag = L.linc\n",
    "l regno fin_year linc linc_lag in 1/22, clean"
   ]
  },
  {
   "cell_type": "code",
   "execution_count": 17,
   "metadata": {
    "slideshow": {
     "slide_type": "subslide"
    }
   },
   "outputs": [
    {
     "name": "stdout",
     "output_type": "stream",
     "text": [
      "\n",
      "Random-effects GLS regression                   Number of obs     =     21,660\n",
      "Group variable: regno                           Number of groups  =      2,166\n",
      "\n",
      "R-sq:                                           Obs per group:\n",
      "     within  = 0.2673                                         min =         10\n",
      "     between = 0.9963                                         avg =       10.0\n",
      "     overall = 0.9320                                         max =         10\n",
      "\n",
      "                                                Wald chi2(7)      =  296585.19\n",
      "corr(u_i, X)   = 0 (assumed)                    Prob > chi2       =     0.0000\n",
      "\n",
      "------------------------------------------------------------------------------\n",
      "        linc |      Coef.   Std. Err.      z    P>|z|     [95% Conf. Interval]\n",
      "-------------+----------------------------------------------------------------\n",
      "      orgage |  -.0000262   .0000438    -0.60   0.549     -.000112    .0000596\n",
      "      localc |  -.0065562   .0038027    -1.72   0.085    -.0140093    .0008968\n",
      "        west |   .0009973    .007296     0.14   0.891    -.0133026    .0152973\n",
      "     genchar |   -.005033   .0040519    -1.24   0.214    -.0129746    .0029087\n",
      "    nsources |   .0102149   .0014779     6.91   0.000     .0073183    .0131116\n",
      "govern_share |  -.0001568   .0000584    -2.69   0.007    -.0002712   -.0000424\n",
      "    linc_lag |   .9719555    .001881   516.72   0.000     .9682687    .9756422\n",
      "       _cons |   .4086979    .028964    14.11   0.000     .3519294    .4654663\n",
      "-------------+----------------------------------------------------------------\n",
      "     sigma_u |          0\n",
      "     sigma_e |  .23554516\n",
      "         rho |          0   (fraction of variance due to u_i)\n",
      "------------------------------------------------------------------------------\n"
     ]
    }
   ],
   "source": [
    "xtreg linc orgage localc west genchar nsources govern_share linc_lag, re"
   ]
  },
  {
   "cell_type": "markdown",
   "metadata": {
    "slideshow": {
     "slide_type": "subslide"
    }
   },
   "source": [
    "Note how large the coefficient is for the lagged variable (and how much smaller the others have become). This is a common issue when including lagged outcome variables as one of the explanatory variables i.e., the lagged variable soaks up all of the variation accounted for by the unobserved unit-specific effects. "
   ]
  },
  {
   "cell_type": "code",
   "execution_count": 18,
   "metadata": {
    "slideshow": {
     "slide_type": "subslide"
    }
   },
   "outputs": [
    {
     "name": "stdout",
     "output_type": "stream",
     "text": [
      "note: localc omitted because of collinearity\n",
      "note: west omitted because of collinearity\n",
      "note: genchar omitted because of collinearity\n",
      "\n",
      "Fixed-effects (within) regression               Number of obs     =     21,660\n",
      "Group variable: regno                           Number of groups  =      2,166\n",
      "\n",
      "R-sq:                                           Obs per group:\n",
      "     within  = 0.2705                                         min =         10\n",
      "     between = 0.9695                                         avg =       10.0\n",
      "     overall = 0.9098                                         max =         10\n",
      "\n",
      "                                                F(4,19490)        =    1807.17\n",
      "corr(u_i, Xb)  = 0.9009                         Prob > F          =     0.0000\n",
      "\n",
      "------------------------------------------------------------------------------\n",
      "        linc |      Coef.   Std. Err.      t    P>|t|     [95% Conf. Interval]\n",
      "-------------+----------------------------------------------------------------\n",
      "      orgage |   .0018829   .0005609     3.36   0.001     .0007836    .0029822\n",
      "      localc |          0  (omitted)\n",
      "        west |          0  (omitted)\n",
      "     genchar |          0  (omitted)\n",
      "    nsources |   .0211613   .0024664     8.58   0.000     .0163271    .0259956\n",
      "govern_share |   .0005565   .0001088     5.12   0.000     .0003433    .0007698\n",
      "    linc_lag |   .5167688   .0062088    83.23   0.000     .5045989    .5289386\n",
      "       _cons |   7.147677   .0953486    74.96   0.000     6.960786    7.334568\n",
      "-------------+----------------------------------------------------------------\n",
      "     sigma_u |  .46351877\n",
      "     sigma_e |  .23554516\n",
      "         rho |  .79476462   (fraction of variance due to u_i)\n",
      "------------------------------------------------------------------------------\n",
      "F test that all u_i=0: F(2165, 19490) = 3.29                 Prob > F = 0.0000\n"
     ]
    }
   ],
   "source": [
    "xtreg linc orgage localc west genchar nsources govern_share linc_lag, fe"
   ]
  },
  {
   "cell_type": "markdown",
   "metadata": {
    "slideshow": {
     "slide_type": "subslide"
    }
   },
   "source": [
    "A set of dynamic panel models &mdash; commonly known as *Arrelano-Bond* models &mdash; have been developed to address the inclusion of a lagged outcome as an explanatory variable."
   ]
  },
  {
   "cell_type": "markdown",
   "metadata": {
    "slideshow": {
     "slide_type": "fragment"
    }
   },
   "source": [
    "They also have the advantage of controlling for \"initial conditions\"."
   ]
  },
  {
   "cell_type": "markdown",
   "metadata": {
    "slideshow": {
     "slide_type": "notes"
    }
   },
   "source": [
    "That is, data collection sometimes interrupts an ongoing social process, and thus the outcome observed at the first time point is partially accounted for factors not measured at first time point (Gayle and Lambert, 2018)."
   ]
  },
  {
   "cell_type": "markdown",
   "metadata": {
    "slideshow": {
     "slide_type": "slide"
    }
   },
   "source": [
    "## Latent growth curve models"
   ]
  },
  {
   "cell_type": "markdown",
   "metadata": {
    "slideshow": {
     "slide_type": "fragment"
    }
   },
   "source": [
    "Statistical modelling of repeated contacts data."
   ]
  },
  {
   "cell_type": "markdown",
   "metadata": {
    "slideshow": {
     "slide_type": "fragment"
    }
   },
   "source": [
    "Focuses on trajectory, trend or growth in an outcome over time **within** units."
   ]
  },
  {
   "cell_type": "markdown",
   "metadata": {
    "slideshow": {
     "slide_type": "fragment"
    }
   },
   "source": [
    "And how these trajectories are linked to observed and unobserved differences **between** units."
   ]
  },
  {
   "cell_type": "markdown",
   "metadata": {
    "slideshow": {
     "slide_type": "subslide"
    }
   },
   "source": [
    "Latent growth curve models can be estimated using a *Multilevel modelling* framework &mdash; random intercepts, random slopes."
   ]
  },
  {
   "cell_type": "markdown",
   "metadata": {
    "slideshow": {
     "slide_type": "fragment"
    }
   },
   "source": [
    "They can also be estimated using a *Structural Equation Modelling (SEM)* framework &mdash;  there exists underlying continuous trajectory of change that is not directly observed."
   ]
  },
  {
   "cell_type": "markdown",
   "metadata": {
    "slideshow": {
     "slide_type": "subslide"
    }
   },
   "source": [
    "**Honesty time**\n",
    "\n",
    "[Not an area I know a great deal about - see the reading list for suggested resources]"
   ]
  }
 ],
 "metadata": {
  "kernelspec": {
   "display_name": "Stata",
   "language": "stata",
   "name": "stata"
  },
  "language_info": {
   "codemirror_mode": "stata",
   "file_extension": ".do",
   "mimetype": "text/x-stata",
   "name": "stata",
   "version": "15.1"
  },
  "toc": {
   "base_numbering": 1,
   "nav_menu": {},
   "number_sections": true,
   "sideBar": false,
   "skip_h1_title": true,
   "title_cell": "Table of Contents",
   "title_sidebar": "Contents",
   "toc_cell": true,
   "toc_position": {},
   "toc_section_display": true,
   "toc_window_display": false
  }
 },
 "nbformat": 4,
 "nbformat_minor": 4
}
