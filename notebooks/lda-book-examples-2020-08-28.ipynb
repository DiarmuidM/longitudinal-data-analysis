{
 "cells": [
  {
   "cell_type": "markdown",
   "metadata": {
    "toc": true
   },
   "source": [
    "<h1>Table of Contents<span class=\"tocSkip\"></span></h1>\n",
    "<div class=\"toc\"><ul class=\"toc-item\"><li><span><a href=\"#Examples-from-Mehmetoglu-&amp;-Jakobsen-(2016)\" data-toc-modified-id=\"Examples-from-Mehmetoglu-&amp;-Jakobsen-(2016)-1\"><span class=\"toc-item-num\">1&nbsp;&nbsp;</span>Examples from Mehmetoglu &amp; Jakobsen (2016)</a></span><ul class=\"toc-item\"><li><span><a href=\"#Defining-a-data-set-as-panel-data\" data-toc-modified-id=\"Defining-a-data-set-as-panel-data-1.1\"><span class=\"toc-item-num\">1.1&nbsp;&nbsp;</span>Defining a data set as panel data</a></span></li></ul></li><li><span><a href=\"#Estimating-panel-data-models\" data-toc-modified-id=\"Estimating-panel-data-models-2\"><span class=\"toc-item-num\">2&nbsp;&nbsp;</span>Estimating panel data models</a></span><ul class=\"toc-item\"><li><span><a href=\"#Pooled-OLS\" data-toc-modified-id=\"Pooled-OLS-2.1\"><span class=\"toc-item-num\">2.1&nbsp;&nbsp;</span>Pooled OLS</a></span></li><li><span><a href=\"#Between-Effects\" data-toc-modified-id=\"Between-Effects-2.2\"><span class=\"toc-item-num\">2.2&nbsp;&nbsp;</span>Between Effects</a></span></li></ul></li><li><span><a href=\"#Fixed-Effects\" data-toc-modified-id=\"Fixed-Effects-3\"><span class=\"toc-item-num\">3&nbsp;&nbsp;</span>Fixed Effects</a></span><ul class=\"toc-item\"><li><span><a href=\"#Interpreting-the-results-of-Fixed-Effects-model\" data-toc-modified-id=\"Interpreting-the-results-of-Fixed-Effects-model-3.1\"><span class=\"toc-item-num\">3.1&nbsp;&nbsp;</span>Interpreting the results of Fixed Effects model</a></span></li><li><span><a href=\"#Postestimation\" data-toc-modified-id=\"Postestimation-3.2\"><span class=\"toc-item-num\">3.2&nbsp;&nbsp;</span>Postestimation</a></span></li></ul></li><li><span><a href=\"#Random-Effects\" data-toc-modified-id=\"Random-Effects-4\"><span class=\"toc-item-num\">4&nbsp;&nbsp;</span>Random Effects</a></span></li><li><span><a href=\"#Selecting-between-models\" data-toc-modified-id=\"Selecting-between-models-5\"><span class=\"toc-item-num\">5&nbsp;&nbsp;</span>Selecting between models</a></span><ul class=\"toc-item\"><li><span><a href=\"#Pooled-OLS-vs-Panel-Model?\" data-toc-modified-id=\"Pooled-OLS-vs-Panel-Model?-5.1\"><span class=\"toc-item-num\">5.1&nbsp;&nbsp;</span>Pooled OLS vs Panel Model?</a></span></li><li><span><a href=\"#Fixed-vs-Random-Effects?\" data-toc-modified-id=\"Fixed-vs-Random-Effects?-5.2\"><span class=\"toc-item-num\">5.2&nbsp;&nbsp;</span>Fixed vs Random Effects?</a></span></li></ul></li><li><span><a href=\"#Tips-and-tricks\" data-toc-modified-id=\"Tips-and-tricks-6\"><span class=\"toc-item-num\">6&nbsp;&nbsp;</span>Tips and tricks</a></span><ul class=\"toc-item\"><li><span><a href=\"#Decomposing-variables-into-between-and-within-effects\" data-toc-modified-id=\"Decomposing-variables-into-between-and-within-effects-6.1\"><span class=\"toc-item-num\">6.1&nbsp;&nbsp;</span>Decomposing variables into between and within effects</a></span></li><li><span><a href=\"#Time-dummies\" data-toc-modified-id=\"Time-dummies-6.2\"><span class=\"toc-item-num\">6.2&nbsp;&nbsp;</span>Time dummies</a></span></li></ul></li></ul></div>"
   ]
  },
  {
   "cell_type": "markdown",
   "metadata": {},
   "source": [
    "# Panel Data Analysis"
   ]
  },
  {
   "cell_type": "markdown",
   "metadata": {},
   "source": [
    "## Examples from Mehmetoglu & Jakobsen (2016)"
   ]
  },
  {
   "cell_type": "markdown",
   "metadata": {},
   "source": [
    "Let's get some panel data, using the British Household Panel Survey (1991–2005) teaching data set.[^1]\n",
    "\n",
    "[*Add brief description of the BHPS and how it is now Understanding Society*]\n",
    "\n",
    "[^1]: The British Household Panel Survey is made available by the Institute for Social and Economic Research, University of Essex. See British Household Panel Survey: Waves 1–11, 1991–2002: Teaching Dataset (Work, Family and Health) [computer file], 2nd edition, http://dx. doi.org/10.5255/UKDA-SN-4901-2. The data has been prepared for use by Morten Blekesaune, University of Agder."
   ]
  },
  {
   "cell_type": "code",
   "execution_count": null,
   "metadata": {},
   "outputs": [],
   "source": [
    "use \"../data/BritishHouseholdPanel.dta\", clear\n",
    "desc, f"
   ]
  },
  {
   "cell_type": "markdown",
   "metadata": {},
   "source": [
    "`xtreg` estimates a random effects model by default."
   ]
  },
  {
   "cell_type": "markdown",
   "metadata": {},
   "source": [
    "### Defining a data set as panel data"
   ]
  },
  {
   "cell_type": "markdown",
   "metadata": {},
   "source": [
    "First, we need to tell Stata we are dealing with panel data, as this allows us to access some time-series operators that are useful:"
   ]
  },
  {
   "cell_type": "code",
   "execution_count": 10,
   "metadata": {},
   "outputs": [
    {
     "name": "stdout",
     "output_type": "stream",
     "text": [
      "       panel variable:  id (unbalanced)\n",
      "        time variable:  year, 1991 to 2005, but with gaps\n",
      "                delta:  1 unit\n"
     ]
    }
   ],
   "source": [
    "xtset id year"
   ]
  },
  {
   "cell_type": "markdown",
   "metadata": {},
   "source": [
    "The `xtset` command takes two arguments: a variable representing the unique identifer of the panel members (*id*) and a variable capturing the unique identifier for the time period (*year*). This combination of variables must uniquely identify every observation (row) in the data: we can check whether this is the case using the `isid` command - if no error message is returned, then those variables uniquely identify an every observation:"
   ]
  },
  {
   "cell_type": "code",
   "execution_count": null,
   "metadata": {},
   "outputs": [],
   "source": [
    "isid id year"
   ]
  },
  {
   "cell_type": "markdown",
   "metadata": {},
   "source": [
    "We can confirm that *id* and *age* do not uniquely identify observations:"
   ]
  },
  {
   "cell_type": "code",
   "execution_count": null,
   "metadata": {},
   "outputs": [],
   "source": [
    "isid id age"
   ]
  },
  {
   "cell_type": "markdown",
   "metadata": {},
   "source": [
    "Then we can use `xtdescribe` to learn more about the patterns of observations in our panel:"
   ]
  },
  {
   "cell_type": "code",
   "execution_count": 11,
   "metadata": {},
   "outputs": [
    {
     "name": "stdout",
     "output_type": "stream",
     "text": [
      "\n",
      "      id:  10014578, 10014608, ..., 1.596e+08                n =       7602\n",
      "    year:  1991, 1992, ..., 2005                             T =         15\n",
      "           Delta(year) = 1 unit\n",
      "           Span(year)  = 15 periods\n",
      "           (id*year uniquely identifies each observation)\n",
      "\n",
      "Distribution of T_i:   min      5%     25%       50%       75%     95%     max\n",
      "                         1       1       4         8        13      15      15\n",
      "\n",
      "     Freq.  Percent    Cum. |  Pattern\n",
      " ---------------------------+-----------------\n",
      "     1190     15.65   15.65 |  111111111111111\n",
      "      169      2.22   17.88 |  1111...........\n",
      "      167      2.20   20.07 |  .............11\n",
      "      146      1.92   21.99 |  ..........11111\n",
      "      136      1.79   23.78 |  .......11111111\n",
      "      134      1.76   25.55 |  1..............\n",
      "      123      1.62   27.16 |  ...........1111\n",
      "      122      1.60   28.77 |  11.............\n",
      "      115      1.51   30.28 |  ............111\n",
      "     5300     69.72  100.00 | (other patterns)\n",
      " ---------------------------+-----------------\n",
      "     7602    100.00         |  XXXXXXXXXXXXXXX\n"
     ]
    }
   ],
   "source": [
    "xtdescribe"
   ]
  },
  {
   "cell_type": "markdown",
   "metadata": {},
   "source": [
    "Let's unpack these results:\n",
    "* There are 7602 panel members (*n*) and 15 time periods (*T*).\n",
    "* The time period variable (*year*) changes by 1 unit (*Delta(year)*).\n",
    "* 50% of panel members are observed at least 8 times (*Distribution of T_i*).\n",
    "* 1190 panel members are observed in every time period, 169 are observed only in the first 4 periods etc (see frequency table)."
   ]
  },
  {
   "cell_type": "code",
   "execution_count": null,
   "metadata": {},
   "outputs": [],
   "source": [
    "tab year"
   ]
  },
  {
   "cell_type": "code",
   "execution_count": 7,
   "metadata": {},
   "outputs": [],
   "source": [
    "by id: gen numobs = _N"
   ]
  },
  {
   "cell_type": "code",
   "execution_count": 9,
   "metadata": {},
   "outputs": [
    {
     "name": "stdout",
     "output_type": "stream",
     "text": [
      "\n",
      "                  Overall             Between            Within\n",
      "   numobs |    Freq.  Percent      Freq.  Percent        Percent\n",
      "----------+-----------------------------------------------------\n",
      "        1 |     554      0.88       554      7.29         100.00\n",
      "        2 |    1264      2.00       632      8.31         100.00\n",
      "        3 |    1497      2.37       499      6.56         100.00\n",
      "        4 |    2084      3.29       521      6.85         100.00\n",
      "        5 |    2240      3.54       448      5.89         100.00\n",
      "        6 |    2586      4.09       431      5.67         100.00\n",
      "        7 |    2905      4.59       415      5.46         100.00\n",
      "        8 |    3528      5.57       441      5.80         100.00\n",
      "        9 |    3150      4.98       350      4.60         100.00\n",
      "       10 |    3810      6.02       381      5.01         100.00\n",
      "       11 |    4532      7.16       412      5.42         100.00\n",
      "       12 |    4776      7.55       398      5.24         100.00\n",
      "       13 |    6643     10.50       511      6.72         100.00\n",
      "       14 |    5866      9.27       419      5.51         100.00\n",
      "       15 |   17850     28.21      1190     15.65         100.00\n",
      "----------+-----------------------------------------------------\n",
      "    Total |   63285    100.00      7602    100.00         100.00\n",
      "                              (n = 7602)\n"
     ]
    }
   ],
   "source": [
    "xttab numobs"
   ]
  },
  {
   "cell_type": "markdown",
   "metadata": {},
   "source": [
    "## Estimating panel data models"
   ]
  },
  {
   "cell_type": "markdown",
   "metadata": {},
   "source": [
    "Using our BHPS data set, let's specify a statistical model for predicting mental distress as a function of four factors: age, sex and marital status (eq. 1.1):\n",
    "\n",
    "\\begin{equation} \\text{Y}_{it} = \\beta_0 + \\beta_1X_{1it} + \\beta_2X_{2i} + \\beta_3X_{3it} + \\beta_4X_{4it} + \\beta_5X_{5it} + \\beta_6X_{6it} + \\text{e}_{it} \\tag{1.1} \\end{equation}\n",
    "\n",
    "Where:\n",
    "\n",
    "$\\text{Y}$ is our outcome variable for individual *i* at time *t*;\n",
    "\n",
    "$\\beta_0$ is the constant term, which is our prediction for the outcome when the values of all other variables in the model are set to 0.\n",
    "\n",
    "$\\text{X}_{1it}$ captures the age of individual *i* at time *t*, and $\\beta_1$ is the effect of this variable on the outcome.\n",
    "\n",
    "We note that $\\text{X}_{2i}$ (*woman*) is time-invariant - that is, it's value is constant over time within an individual - and thus does not have the subscript *t*."
   ]
  },
  {
   "cell_type": "markdown",
   "metadata": {},
   "source": [
    "### Pooled OLS\n",
    "\n",
    "The starting point for any statistical modelling of panel data is to estimate a *Pooled OLS* model. All of the observations for each unit in the panel are pooled together and they are analysed using the standard statistical model for cross-sectional data (Gayle & Lambert, 2018). Remember that Pooled OLS can produce consistent estimates of the regression coefficients [*AND STANDARD ERRORS?*] \"if model is correctly specified and the explanatory (X) variables are uncorrelated with the error term. However, in panel data the error term will in most cases be correlated over time for a given unit (Cameron and Trivedi, 2010).\" [Can I think of an example, even hypothetical? Yes, respondent diaries capturing data on non-consecutive time periods.]\n",
    "\n",
    "Fundamental problem of pooling observations (Gayle & Lambert, 2018, p. 58):\n",
    "> The model does not recognise that there are multiple contributions of data from the same individuals, and therefore, it estimates results as if there are many individuals who shared the same characteristics. This impacts upon the estimate of measures such as variances and standard errors."
   ]
  },
  {
   "cell_type": "code",
   "execution_count": null,
   "metadata": {},
   "outputs": [],
   "source": [
    "regress mental age woman couple separated divorced never_married"
   ]
  },
  {
   "cell_type": "markdown",
   "metadata": {},
   "source": [
    "The results of the test show we can reject the null hypothesis that there is no autocorrelation present. Therefore, the "
   ]
  },
  {
   "cell_type": "markdown",
   "metadata": {},
   "source": [
    "### Between Effects"
   ]
  },
  {
   "cell_type": "code",
   "execution_count": null,
   "metadata": {},
   "outputs": [],
   "source": [
    "xtreg mental age woman couple separated divorced never_married, be"
   ]
  },
  {
   "cell_type": "markdown",
   "metadata": {},
   "source": [
    "Is the same as collapsing the data set to mean values of the independent and dependent variables, and running a regular linear regression. Note how the results are exactly the same as `xtreg , be` command, and how the R-squared calculations match (*between = 0.0364*)."
   ]
  },
  {
   "cell_type": "code",
   "execution_count": null,
   "metadata": {},
   "outputs": [],
   "source": [
    "preserve\n",
    "    quietly regress mental age woman couple separated divorced never_married\n",
    "    collapse (mean) mental age woman couple separated divorced never_married if e(sample), by(id)\n",
    "    regress mental age woman couple separated divorced never_married\n",
    "restore"
   ]
  },
  {
   "cell_type": "markdown",
   "metadata": {},
   "source": [
    "An advantage of Between Effects:\n",
    "By collapsing the data set to mean values, we now have one row per unit, which means we've sidestepped the issue of non-independence of observations (Gayle & Lambert, 2018)."
   ]
  },
  {
   "cell_type": "markdown",
   "metadata": {},
   "source": [
    "There are two major disadvantages to selecting a *Between Effects* model for longitudinal data:\n",
    "1. You cannot include independent variables that are constant across units in a given time period, but do vary over these periods.\n",
    "2. The model throws away a lot of information, resulting in an inability to address certain questions.\n",
    "\n",
    "On the former, let's try and include a variable capturing changing macroeconomic conditions across the time period."
   ]
  },
  {
   "cell_type": "code",
   "execution_count": null,
   "metadata": {},
   "outputs": [],
   "source": [
    "/* If year is odd, then bad economic year , else it's good */\n",
    "\n",
    "gen macecon = cond(mod(year, 2)==0, 1, 0)\n",
    "label define macecon_lab 1 \"Good\" 0 \"Bad\"\n",
    "label values macecon macecon_lab\n",
    "tab year macecon "
   ]
  },
  {
   "cell_type": "code",
   "execution_count": null,
   "metadata": {},
   "outputs": [],
   "source": [
    "xtreg mental macecon age woman couple separated divorced never_married, be"
   ]
  },
  {
   "cell_type": "code",
   "execution_count": null,
   "metadata": {},
   "outputs": [],
   "source": [
    "preserve\n",
    "    quietly regress mental age woman couple separated divorced never_married\n",
    "    collapse (mean) mental macecon age woman couple separated divorced never_married if e(sample), by(id)\n",
    "    sum macecon, detail\n",
    "    regress mental age woman couple separated divorced never_married\n",
    "restore"
   ]
  },
  {
   "cell_type": "code",
   "execution_count": null,
   "metadata": {},
   "outputs": [],
   "source": []
  },
  {
   "cell_type": "markdown",
   "metadata": {},
   "source": [
    "Panel regression models take into account the multiple contributions"
   ]
  },
  {
   "cell_type": "markdown",
   "metadata": {},
   "source": [
    "## Fixed Effects"
   ]
  },
  {
   "cell_type": "markdown",
   "metadata": {},
   "source": [
    "Conceptualising FE:\n",
    "> ...consider it a standard cross-sectional regression model with the addition of a dummy variable being included for every respondent in the dataset except for one (i.e., *n - 1* dummy variables are added to the model).\n",
    "\n",
    "This results in each unit having their own intercept, to which we add the effects of the explanatory variables."
   ]
  },
  {
   "cell_type": "markdown",
   "metadata": {},
   "source": [
    "Mehmetoglu & Jakobsen (2016: 239):\n",
    "> One of the main worries when it comes to panel data is whether or not the error term is correlated with one or more of our X-variables. Suppose, for example, we were investigating wage (Y) as a function of education (X1) and experience (X2), but we had a suspicion that an unmeasured variable called ability (C) was influencing our model.\n",
    "\n",
    "\\begin{equation} \\text{Y}_{it} = \\beta_0 + \\beta_1X_{1it} + \\beta_2X_{2it} + \\text{(c}_{i} + {e}_{it}) \\tag{1.1} \\end{equation}\n",
    "\n",
    "Where:\n",
    "\n",
    "$\\text{Y}$ is our outcome variable for individual *i* at time *t*;\n",
    "\n",
    "$\\beta_0$ is the constant term, which is our prediction for the outcome when the values of all other variables in the model are set to 0.\n",
    "\n",
    "$\\text{X}_{1it}$ captures the age of individual *i* at time *t*, and $\\beta_1$ is the effect of this variable on the outcome.\n",
    "\n",
    "$\\text{c}_{i} + {e}_{it}$ is the combined error term (unexplained variance), which has two components:\n",
    "* $\\text{c}_{i}$ is the unit-level variance accounted for by the omitted variable *C*.\n",
    "* $\\text{e}_{it}$ is the observation-level variance that is unaccounted for (unsystematic variation in the outcome).\n",
    "\n",
    "The problem with omitting variable *C* is that one or more of X1 and X2 will 'soak up' the unexplained variation produced by C's absence from the model, and hence return biased estimates of X1 and/or X2 (depends which one of these is correlated with *C*.\n",
    "\n",
    "The solution FE provides is that if C is constant within an individual (e.g., ability varies between but not within individuals), the FE estimator estimates unbiased betas for the observed variables that are correlated with C."
   ]
  },
  {
   "cell_type": "markdown",
   "metadata": {},
   "source": [
    "By including unit-specific dummies, the regression formula now looks like this:\n",
    "\n",
    "\\begin{equation} \\text{Y}_{it} = \\beta_1X_{1it} + \\beta_2X_{2it} + \\alpha_{i} + \\text{e}_{it}) \\tag{1.1} \\end{equation}\n",
    "\n",
    "Where:\n",
    "\n",
    "$\\alpha_{i}$ captures the effect of the unit-specfic unobserved effect ($\\lambda_{i}$) and the constant ($\\beta_0$). In essence the unit-specific effect shifts the overall intercept up or down the Y axis by the value of $\\lambda$."
   ]
  },
  {
   "cell_type": "markdown",
   "metadata": {},
   "source": [
    "What this translates to is every unit having their own constant term i.e., intercept. $\\alpha$ varies across but not within units. Basically, every unit in the panel has a unique starting point before adding the effect of the independent variables.\n",
    "\n",
    "Why is the unobserved effect incorporated into the constant? Because it doens't vary within an individual: remember we are only modelling within-unit variation and the dummy variable does not vary within a unit, therefore it does not make sense to interpret the unit-specific term like an explanatory variable (e.g., a one-unit increase in being a particular unit?)"
   ]
  },
  {
   "cell_type": "markdown",
   "metadata": {},
   "source": [
    "[*Show a LSDV approach and compare to `xtreg, fe`*]"
   ]
  },
  {
   "cell_type": "code",
   "execution_count": 1,
   "metadata": {},
   "outputs": [
    {
     "name": "stdout",
     "output_type": "stream",
     "text": [
      "\n",
      "\n",
      "\n",
      "Contains data from ../data/Happiness.dta\n",
      "  obs:            16                          \n",
      " vars:             7                          16 Feb 2015 09:31\n",
      " size:           448                          \n",
      "--------------------------------------------------------------------------------\n",
      "              storage   display    value\n",
      "variable name   type    format     label      variable label\n",
      "--------------------------------------------------------------------------------\n",
      "id              float   %9.0g      id         \n",
      "income          float   %9.0g                 \n",
      "happiness       float   %9.0g                 \n",
      "income1000      float   %9.0g                 \n",
      "income1000DM    float   %9.0g                 \n",
      "happinessDM     float   %9.0g                 \n",
      "car_ownership   float   %9.0g                 \n",
      "--------------------------------------------------------------------------------\n",
      "Sorted by: \n"
     ]
    }
   ],
   "source": [
    "use \"../data/Happiness.dta\", clear\n",
    "desc, f"
   ]
  },
  {
   "cell_type": "markdown",
   "metadata": {},
   "source": [
    "Let's say we're interested in predicting a person's happiness based on their income:"
   ]
  },
  {
   "cell_type": "code",
   "execution_count": null,
   "metadata": {},
   "outputs": [],
   "source": [
    "regress happiness income1000"
   ]
  },
  {
   "cell_type": "markdown",
   "metadata": {},
   "source": [
    "There appears to be a negative association between happiness and income: that is, for every one-unit increase in income (measured in 000s), we predict happiness to decline by *-.0946145*. However such a simple model ignores other important explanatory factors of happiness, such as mental health , which is also correlated with income. Therefore there is an *unobserved time-invariant variable* that is biasing the coefficient for income.\n",
    "\n",
    "In this fictional example Nicole, who has the highest income, also has a mental health issues; because income and mental health are negatively correlated (more income, poorer mental health), the coefficient for `income1000` soaks up some of the variation in happiness that is explained by mental health."
   ]
  },
  {
   "cell_type": "code",
   "execution_count": null,
   "metadata": {},
   "outputs": [],
   "source": [
    "generate Dbob=id==1 if !missing(id)\n",
    "generate Dsarah=id==2 if !missing(id)\n",
    "generate Dpeter=id==3 if !missing(id)\n",
    "generate Dnicole=id==4 if !missing(id)"
   ]
  },
  {
   "cell_type": "code",
   "execution_count": null,
   "metadata": {},
   "outputs": [],
   "source": [
    "regress happiness Dsarah Dpeter Dnicole income1000"
   ]
  },
  {
   "cell_type": "markdown",
   "metadata": {},
   "source": [
    "We can sum these coefficients to produce a predicted happiness score for each person:"
   ]
  },
  {
   "cell_type": "code",
   "execution_count": null,
   "metadata": {},
   "outputs": [],
   "source": [
    "gen Bob = -4.107029 + (0.0824934 * income1000)\n",
    "gen Sarah = -4.107029 + 5.111141 + (0.0824934 * income1000)\n",
    "gen Peter = -4.107029 + 4.226857 + (0.0824934 * income1000)\n",
    "gen Nicole = -4.107029 + 9.410411 + (0.0824934 * income1000)"
   ]
  },
  {
   "cell_type": "markdown",
   "metadata": {},
   "source": [
    "Now we can graph these regression lines as follows:"
   ]
  },
  {
   "cell_type": "code",
   "execution_count": null,
   "metadata": {},
   "outputs": [],
   "source": [
    "*twoway (line Bob income1000) (line Sarah income1000) (line Peter income1000) (line Nicole income1000)"
   ]
  },
  {
   "cell_type": "code",
   "execution_count": 4,
   "metadata": {},
   "outputs": [
    {
     "name": "stdout",
     "output_type": "stream",
     "text": [
      "       panel variable:  id (balanced)\n"
     ]
    }
   ],
   "source": [
    "xtset id"
   ]
  },
  {
   "cell_type": "code",
   "execution_count": 5,
   "metadata": {},
   "outputs": [
    {
     "name": "stdout",
     "output_type": "stream",
     "text": [
      "\n",
      "Fixed-effects (within) regression               Number of obs     =         16\n",
      "Group variable: id                              Number of groups  =          4\n",
      "\n",
      "R-sq:                                           Obs per group:\n",
      "     within  = 0.3665                                         min =          4\n",
      "     between = 0.7123                                         avg =        4.0\n",
      "     overall = 0.2912                                         max =          4\n",
      "\n",
      "                                                F(1,11)           =       6.36\n",
      "corr(u_i, Xb)  = -0.7916                        Prob > F          =     0.0283\n",
      "\n",
      "------------------------------------------------------------------------------\n",
      "   happiness |      Coef.   Std. Err.      t    P>|t|     [95% Conf. Interval]\n",
      "-------------+----------------------------------------------------------------\n",
      "  income1000 |   .0824934   .0327004     2.52   0.028     .0105203    .1544665\n",
      "       _cons |   .5800729    1.91721     0.30   0.768    -3.639677    4.799823\n",
      "-------------+----------------------------------------------------------------\n",
      "     sigma_u |  3.8587653\n",
      "     sigma_e |  1.0039078\n",
      "         rho |  .93660603   (fraction of variance due to u_i)\n",
      "------------------------------------------------------------------------------\n",
      "F test that all u_i=0: F(3, 11) = 22.06                      Prob > F = 0.0001\n"
     ]
    }
   ],
   "source": [
    "xtreg happiness income1000, fe"
   ]
  },
  {
   "cell_type": "code",
   "execution_count": 6,
   "metadata": {},
   "outputs": [
    {
     "name": "stdout",
     "output_type": "stream",
     "text": [
      "\n",
      "\n",
      "\n",
      "                            u[id]\n",
      "-------------------------------------------------------------\n",
      "      Percentiles      Smallest\n",
      " 1%    -4.687102      -4.687102\n",
      " 5%    -4.687102      -4.687102\n",
      "10%    -4.687102      -4.687102       Obs                  16\n",
      "25%    -2.573674      -4.687102       Sum of Wgt.          16\n",
      "\n",
      "50%    -.0181035                      Mean          -4.47e-08\n",
      "                        Largest       Std. Dev.      3.451385\n",
      "75%     2.573674       4.723309\n",
      "90%     4.723309       4.723309       Variance       11.91206\n",
      "95%     4.723309       4.723309       Skewness       .0159669\n",
      "99%     4.723309       4.723309       Kurtosis       1.965356\n"
     ]
    }
   ],
   "source": [
    "predict fixed, u\n",
    "sum fixed, detail"
   ]
  },
  {
   "cell_type": "code",
   "execution_count": 8,
   "metadata": {},
   "outputs": [
    {
     "name": "stdout",
     "output_type": "stream",
     "text": [
      "\n",
      "\n",
      "Random-effects GLS regression                   Number of obs     =         16\n",
      "Group variable: id                              Number of groups  =          4\n",
      "\n",
      "R-sq:                                           Obs per group:\n",
      "     within  = 0.3665                                         min =          4\n",
      "     between = 0.7123                                         avg =        4.0\n",
      "     overall = 0.2912                                         max =          4\n",
      "\n",
      "                                                Wald chi2(1)      =       1.16\n",
      "corr(u_i, X)   = 0 (assumed)                    Prob > chi2       =     0.2824\n",
      "\n",
      "------------------------------------------------------------------------------\n",
      "   happiness |      Coef.   Std. Err.      z    P>|z|     [95% Conf. Interval]\n",
      "-------------+----------------------------------------------------------------\n",
      "  income1000 |   .0404467   .0376284     1.07   0.282    -.0333037     .114197\n",
      "       _cons |   3.024037   2.472703     1.22   0.221    -1.822371    7.870445\n",
      "-------------+----------------------------------------------------------------\n",
      "     sigma_u |  1.7508194\n",
      "     sigma_e |  1.0039078\n",
      "         rho |  .75257019   (fraction of variance due to u_i)\n",
      "------------------------------------------------------------------------------\n",
      "\n",
      "\n",
      "\n",
      "                            u[id]\n",
      "-------------------------------------------------------------\n",
      "      Percentiles      Smallest\n",
      " 1%    -3.830873      -3.830873\n",
      " 5%    -3.830873      -3.830873\n",
      "10%    -3.830873      -3.830873       Obs                  16\n",
      "25%    -1.931387      -3.830873       Sum of Wgt.          16\n",
      "\n",
      "50%     .1095443                      Mean           2.14e-08\n",
      "                        Largest       Std. Dev.      2.721989\n",
      "75%     1.931387       3.611784\n",
      "90%     3.611784       3.611784       Variance       7.409222\n",
      "95%     3.611784       3.611784       Skewness      -.1241176\n",
      "99%     3.611784       3.611784       Kurtosis       1.997704\n"
     ]
    }
   ],
   "source": [
    "xtreg happiness income1000, re\n",
    "predict random, u\n",
    "sum random, detail"
   ]
  },
  {
   "cell_type": "markdown",
   "metadata": {},
   "source": [
    "### Interpreting the results of Fixed Effects model\n",
    "\n",
    "* $\\text{_cons}$ is the intercept and represents the average value of the fixed effects.\n",
    "* $\\beta_1$ is the predicted change in the outcome for a one-unit increase in $\\text{X}_{1}$, net of the influence of unobserved time-invariant factors.\n",
    "* $\\text{rho}$ (also represented as $\\rho$) is the proportion of variance in the outcome explained by differences between individuals (the fixed effects), rather than changes over time. It is also known as the *intraclass correlation* which is a measure of how similar observations are within a unit. If $\\text{rho}$ > .5 then most of the variance in the outcome is due to differences between units, if $\\text{rho}$ < .5 then most of the variance is accounted for by differences within units (i.e., the effects of the explanatory variables).\n",
    "* $\\text{sigma_u}$ (or $\\sigma_u$) is the standard deviation of residuals within units.\n",
    "* $\\text{sigma_e}$ (or $\\sigma_e$) is the standard deviation of residuals ei.\n",
    "* $\\text{corr(u_i, Xb)}$ is the correlation between the unit-level errors and the independent variables in the model.\n",
    "* $\\text{R-sq: within}$ is the proportion of variance explained by the independent variables (excluding the unit-specific term)."
   ]
  },
  {
   "cell_type": "markdown",
   "metadata": {},
   "source": [
    "Let's go back to BHPS data and our model for predicting mental distress."
   ]
  },
  {
   "cell_type": "code",
   "execution_count": 1,
   "metadata": {},
   "outputs": [
    {
     "name": "stdout",
     "output_type": "stream",
     "text": [
      "\n",
      "\n",
      "\n",
      "Contains data from ../data/BritishHouseholdPanel.dta\n",
      "  obs:        63,285                          \n",
      " vars:            11                          1 Oct 2014 10:04\n",
      " size:     2,594,685                          \n",
      "--------------------------------------------------------------------------------\n",
      "              storage   display    value\n",
      "variable name   type    format     label      variable label\n",
      "--------------------------------------------------------------------------------\n",
      "id              double  %12.0g                Person identifier\n",
      "age             int     %8.0g      oage       age at date of interview\n",
      "mastat          byte    %8.0g      omastat    marital status\n",
      "year            int     %8.0g      odoiy4     Year of interview\n",
      "mental          float   %9.0g                 Mental Distress\n",
      "woman           float   %9.0g                 \n",
      "married         float   %9.0g                 \n",
      "couple          float   %9.0g                 \n",
      "separated       float   %9.0g                 \n",
      "divorced        float   %9.0g                 \n",
      "never_married   float   %9.0g                 \n",
      "--------------------------------------------------------------------------------\n",
      "Sorted by: id  year\n",
      "\n",
      "       panel variable:  id (unbalanced)\n",
      "        time variable:  year, 1991 to 2005, but with gaps\n",
      "                delta:  1 unit\n"
     ]
    }
   ],
   "source": [
    "use \"../data/BritishHouseholdPanel.dta\", clear\n",
    "desc, f\n",
    "\n",
    "xtset id year"
   ]
  },
  {
   "cell_type": "code",
   "execution_count": 2,
   "metadata": {},
   "outputs": [
    {
     "name": "stdout",
     "output_type": "stream",
     "text": [
      "\n",
      "      Source |       SS           df       MS      Number of obs   =    62,549\n",
      "-------------+----------------------------------   F(6, 62542)     =    208.54\n",
      "       Model |  1067.66694         6  177.944491   Prob > F        =    0.0000\n",
      "    Residual |  53366.0332    62,542  .853283125   R-squared       =    0.0196\n",
      "-------------+----------------------------------   Adj R-squared   =    0.0195\n",
      "       Total |  54433.7002    62,548  .870270835   Root MSE        =    .92373\n",
      "\n",
      "-------------------------------------------------------------------------------\n",
      "       mental |      Coef.   Std. Err.      t    P>|t|     [95% Conf. Interval]\n",
      "--------------+----------------------------------------------------------------\n",
      "          age |   .0024708   .0003504     7.05   0.000      .001784    .0031576\n",
      "        woman |   .2023694   .0074189    27.28   0.000     .1878285    .2169104\n",
      "       couple |   .0075139   .0105725     0.71   0.477    -.0132083    .0282361\n",
      "    separated |   .5583078   .0312398    17.87   0.000     .4970777    .6195378\n",
      "     divorced |   .2241774   .0239372     9.37   0.000     .1772605    .2710943\n",
      "never_married |   .2236556   .0315205     7.10   0.000     .1618755    .2854358\n",
      "        _cons |  -.2346901     .01642   -14.29   0.000    -.2668732    -.202507\n",
      "-------------------------------------------------------------------------------\n"
     ]
    }
   ],
   "source": [
    "regress mental age woman couple separated divorced never_married"
   ]
  },
  {
   "cell_type": "code",
   "execution_count": 3,
   "metadata": {},
   "outputs": [
    {
     "name": "stdout",
     "output_type": "stream",
     "text": [
      "note: woman omitted because of collinearity\n",
      "\n",
      "Fixed-effects (within) regression               Number of obs     =     62,549\n",
      "Group variable: id                              Number of groups  =      7,584\n",
      "\n",
      "R-sq:                                           Obs per group:\n",
      "     within  = 0.0051                                         min =          1\n",
      "     between = 0.0014                                         avg =        8.2\n",
      "     overall = 0.0032                                         max =         15\n",
      "\n",
      "                                                F(5,54960)        =      56.33\n",
      "corr(u_i, Xb)  = -0.0459                        Prob > F          =     0.0000\n",
      "\n",
      "-------------------------------------------------------------------------------\n",
      "       mental |      Coef.   Std. Err.      t    P>|t|     [95% Conf. Interval]\n",
      "--------------+----------------------------------------------------------------\n",
      "          age |   .0045017   .0008475     5.31   0.000     .0028406    .0061628\n",
      "        woman |          0  (omitted)\n",
      "       couple |  -.0756434   .0159661    -4.74   0.000    -.1069371   -.0443497\n",
      "    separated |   .3951068   .0293305    13.47   0.000     .3376188    .4525947\n",
      "     divorced |  -.0378425   .0263161    -1.44   0.150    -.0894224    .0137373\n",
      "never_married |   .0160869   .0378081     0.43   0.670    -.0580171     .090191\n",
      "        _cons |  -.1891764    .035558    -5.32   0.000    -.2588704   -.1194825\n",
      "--------------+----------------------------------------------------------------\n",
      "      sigma_u |   .6746844\n",
      "      sigma_e |  .74201635\n",
      "          rho |  .45257982   (fraction of variance due to u_i)\n",
      "-------------------------------------------------------------------------------\n",
      "F test that all u_i=0: F(7583, 54960) = 5.69                 Prob > F = 0.0000\n"
     ]
    }
   ],
   "source": [
    "xtreg mental age woman couple separated divorced never_married, fe"
   ]
  },
  {
   "cell_type": "markdown",
   "metadata": {},
   "source": [
    "Firstly, notice how the coefficient for *woman* has been excluded from the model: this is because this measure does not vary within our units and thus cannot contribute to explaining variation in mental distress for a given person.\n",
    "\n",
    "Secondly, there are substantive differences between the results of the Pooled OLS and Fixed Effects models. Mehmetoglu and Jakobsen (2016, p. 248):\n",
    "> ...mental distress is higher for those who are separated, but actually a bit lower for divorcees than for those who are married. This is calculated by looking at the within variation (changes in persons going through different categories) and tells us that the end of a marriage (usually in the form of separation) is stressful, but that people get over the distress (later, when divorced)."
   ]
  },
  {
   "cell_type": "markdown",
   "metadata": {},
   "source": [
    "### Postestimation\n",
    "\n",
    "We can use some of Stata's postestimation commands to learn more about the results of our Fixed Effects model. For example, what if we wanted to know"
   ]
  },
  {
   "cell_type": "code",
   "execution_count": 4,
   "metadata": {},
   "outputs": [
    {
     "name": "stdout",
     "output_type": "stream",
     "text": [
      "\n",
      "(2 missing values generated)\n",
      "\n",
      "(736 missing values generated)\n"
     ]
    }
   ],
   "source": [
    "predict pr_mental, xb\n",
    "predict fixed, u"
   ]
  },
  {
   "cell_type": "code",
   "execution_count": 5,
   "metadata": {},
   "outputs": [
    {
     "name": "stdout",
     "output_type": "stream",
     "text": [
      "\n",
      "     +-----------------------------+\n",
      "     |       id   year       fixed |\n",
      "     |-----------------------------|\n",
      "  1. | 10014578   1991   -.2738157 |\n",
      "  2. | 10014578   1992   -.2738157 |\n",
      "  3. | 10014578   1993   -.2738157 |\n",
      "  4. | 10014578   1996   -.2738157 |\n",
      "  5. | 10014578   1998   -.2738157 |\n",
      "     |-----------------------------|\n",
      "  6. | 10014578   1999   -.2738157 |\n",
      "  7. | 10014578   2000   -.2738157 |\n",
      "  8. | 10014608   1991    -1.23806 |\n",
      "  9. | 10014608   1992    -1.23806 |\n",
      " 10. | 10014608   1993    -1.23806 |\n",
      "     |-----------------------------|\n",
      " 11. | 10014608   1996    -1.23806 |\n",
      " 12. | 10014608   1998    -1.23806 |\n",
      " 13. | 10016813   1992    .5171139 |\n",
      " 14. | 10016813   1994    .5171139 |\n",
      " 15. | 10016813   1999    .5171139 |\n",
      "     |-----------------------------|\n",
      " 16. | 10016848   1992    .3650586 |\n",
      " 17. | 10016848   1994    .3650586 |\n",
      " 18. | 10016848   1999    .3650586 |\n",
      " 19. | 10016848   2000    .3650586 |\n",
      " 20. | 10016848   2001    .3650586 |\n",
      "     |-----------------------------|\n",
      " 21. | 10016848   2002    .3650586 |\n",
      " 22. | 10016848   2003    .3650586 |\n",
      " 23. | 10016848   2004    .3650586 |\n",
      " 24. | 10016848   2005    .3650586 |\n",
      " 25. | 10017933   1991   -.8633803 |\n",
      "     |-----------------------------|\n",
      " 26. | 10017933   1992   -.8633803 |\n",
      " 27. | 10017933   1993   -.8633803 |\n",
      " 28. | 10017933   1994   -.8633803 |\n",
      " 29. | 10017933   1996   -.8633803 |\n",
      " 30. | 10017933   1997   -.8633803 |\n",
      "     |-----------------------------|\n",
      " 31. | 10017933   1998   -.8633803 |\n",
      " 32. | 10017933   2000   -.8633803 |\n",
      " 33. | 10017933   2001   -.8633803 |\n",
      " 34. | 10017933   2002   -.8633803 |\n",
      " 35. | 10017933   2004   -.8633803 |\n",
      "     |-----------------------------|\n",
      " 36. | 10017968   1991    .4996601 |\n",
      " 37. | 10017968   1992    .4996601 |\n",
      " 38. | 10017968   1993    .4996601 |\n",
      " 39. | 10017968   1994    .4996601 |\n",
      " 40. | 10025804   1997   -.3261203 |\n",
      "     |-----------------------------|\n",
      " 41. | 10025804   1998   -.3261203 |\n",
      " 42. | 10025804   1999   -.3261203 |\n",
      " 43. | 10025804   2001   -.3261203 |\n",
      " 44. | 10025804   2003   -.3261203 |\n",
      " 45. | 10047069   1991    .8197473 |\n",
      "     |-----------------------------|\n",
      " 46. | 10047069   1992    .8197473 |\n",
      " 47. | 10047069   1993    .8197473 |\n",
      " 48. | 10047069   1994    .8197473 |\n",
      " 49. | 10047069   1995    .8197473 |\n",
      " 50. | 10047069   1996    .8197473 |\n",
      "     |-----------------------------|\n",
      " 51. | 10047069   1999    .8197473 |\n",
      " 52. | 10047069   2000    .8197473 |\n",
      " 53. | 10047093   1991    1.810366 |\n",
      " 54. | 10047093   1992    1.810366 |\n",
      " 55. | 10047093   1993    1.810366 |\n",
      "     |-----------------------------|\n",
      " 56. | 10047093   1994    1.810366 |\n",
      " 57. | 10047093   1995    1.810366 |\n",
      " 58. | 10047093   1996    1.810366 |\n",
      " 59. | 10047093   1999    1.810366 |\n",
      " 60. | 10047093   2000    1.810366 |\n",
      "     |-----------------------------|\n",
      " 61. | 10047093   2001    1.810366 |\n",
      " 62. | 10047093   2002    1.810366 |\n",
      " 63. | 10047093   2003    1.810366 |\n",
      " 64. | 10047093   2004    1.810366 |\n",
      " 65. | 10047093   2005    1.810366 |\n",
      "     |-----------------------------|\n",
      " 66. | 10049304   1991   -.1403431 |\n",
      " 67. | 10049304   1992   -.1403431 |\n",
      " 68. | 10049304   1993   -.1403431 |\n",
      " 69. | 10049304   1994   -.1403431 |\n",
      " 70. | 10049304   1995   -.1403431 |\n",
      "     |-----------------------------|\n",
      " 71. | 10049304   1996   -.1403431 |\n",
      " 72. | 10049304   1997           . |\n",
      " 73. | 10049304   1998   -.1403431 |\n",
      " 74. | 10049304   1999   -.1403431 |\n",
      " 75. | 10049304   2000   -.1403431 |\n",
      "     |-----------------------------|\n",
      " 76. | 10049304   2001   -.1403431 |\n",
      " 77. | 10049304   2003   -.1403431 |\n",
      " 78. | 10049304   2004           . |\n",
      " 79. | 10049304   2005   -.1403431 |\n",
      " 80. | 10049339   1991   -.1296016 |\n",
      "     |-----------------------------|\n",
      " 81. | 10049339   1992   -.1296016 |\n",
      " 82. | 10049339   1993   -.1296016 |\n",
      " 83. | 10049339   1994   -.1296016 |\n",
      " 84. | 10049339   1995   -.1296016 |\n",
      " 85. | 10049339   1996   -.1296016 |\n",
      "     |-----------------------------|\n",
      " 86. | 10049339   1997   -.1296016 |\n",
      " 87. | 10049339   1998   -.1296016 |\n",
      " 88. | 10049339   1999   -.1296016 |\n",
      " 89. | 10049339   2000   -.1296016 |\n",
      " 90. | 10049339   2001   -.1296016 |\n",
      "     |-----------------------------|\n",
      " 91. | 10049339   2003   -.1296016 |\n",
      " 92. | 10049339   2004   -.1296016 |\n",
      " 93. | 10049339   2005   -.1296016 |\n",
      " 94. | 10051538   1996   -.2858189 |\n",
      " 95. | 10051538   1997   -.2858189 |\n",
      "     |-----------------------------|\n",
      " 96. | 10055266   1996   -.3215941 |\n",
      " 97. | 10055266   1997   -.3215941 |\n",
      " 98. | 10055266   1998   -.3215941 |\n",
      " 99. | 10055266   1999   -.3215941 |\n",
      "100. | 10055266   2000   -.3215941 |\n",
      "     +-----------------------------+\n"
     ]
    }
   ],
   "source": [
    "l id year fixed in 1/100"
   ]
  },
  {
   "cell_type": "markdown",
   "metadata": {},
   "source": [
    "## Random Effects"
   ]
  },
  {
   "cell_type": "markdown",
   "metadata": {},
   "source": [
    "Random Effects can be used when there is no or little association between the error term and explanatory variables, that is $\\text{cov(x}_{I}{,c}_{i}) = 0$.\n",
    "\n",
    "> We can perform a Hausman test, as described on p. 240, which tests if both the fixed and random effects are consistent estimators. If this holds, the random effects model is more efficient, and its standard errors should be smaller than those of the fixed effects model.\n",
    "\n",
    "It's standard errors should be smaller because it takes account of more variation in the outcome &mdash; that is, it takes observed variation between individuals into account.\n",
    "\n",
    "RE is a matrix-weighted average of the FE and BE estimators. Units that are only observed at one data point are included, but they only contribute through the between effects estimator.\n",
    "\n",
    "Using RE allows us to say speak of our explanatory variables in two ways:\n",
    "* Average change in Y for a one-unit change in X between units.\n",
    "* Average change in Y for a one-unit change in X within units."
   ]
  },
  {
   "cell_type": "markdown",
   "metadata": {},
   "source": [
    "y i t = β 0 R E + β 1 R E x 1 i t + β 2 R E x 2 i + v i + e i t \n",
    "\n",
    "Note the inclusion of a unit-specific error term (instead of unit-specific intercept in FE)."
   ]
  },
  {
   "cell_type": "markdown",
   "metadata": {},
   "source": [
    "Advantages:\n",
    "* Can include units who appear only once in the data set (contribute to BE part of model).\n",
    "* Can include observed time-invariant variables i.e., important factors that do not vary within units. These are disregarded by FE model for obvious reasons.\n",
    "* Allow you to speak about the effects of variables within and across units.\n",
    "* More efficient estimates of coefficients i.e., less uncertainty around the coefficient for a variable."
   ]
  },
  {
   "cell_type": "markdown",
   "metadata": {},
   "source": [
    "Technical aspect of RE: The unit-specific effect is considered to be drawn from a probability distribution (Cameron & Trivedi, 2005).\n",
    "\n",
    "Gayle and Lambert (2018, p. 63).\n",
    "> This means that the random effects model does not estimate a parameter for each individual respondent, but it does include a parameter that summarizes the overall distribution of individual respondent's differences (e.g., a variance estimate for this distribution). \n",
    "\n",
    "Because RE assumes the residuals and explanatory variables are uncorrelated, the coefficients of the latter are considered unbiased. Therefore the aim is to soak up as much remaining variation as possible, resulting in more efficient estimates. Unlike FE, where the aim is to estimate the coefficients more accurately (net of the unit-specific effect) - [*Can I show examples of this?*]"
   ]
  },
  {
   "cell_type": "markdown",
   "metadata": {},
   "source": [
    "Random Effects is also known as random intercepts or variance components model and it commonly employed as part of Multilevel modelling approaches for panel and non-panel data alike."
   ]
  },
  {
   "cell_type": "markdown",
   "metadata": {},
   "source": [
    "## Selecting between models"
   ]
  },
  {
   "cell_type": "markdown",
   "metadata": {},
   "source": [
    "### Pooled OLS vs Panel Model?\n",
    "\n",
    "Can we ignore the panel component of the data? More formally, is it correct to assume that the error terms are independent across observations? We can perform an *autocorrelation* test to check whether this assumption is met:"
   ]
  },
  {
   "cell_type": "code",
   "execution_count": null,
   "metadata": {},
   "outputs": [],
   "source": [
    "*net sj 3-2 st0039\n",
    "*net install st0039\n",
    "\n",
    "xtserial mental age woman couple separated divorced never_married"
   ]
  },
  {
   "cell_type": "markdown",
   "metadata": {},
   "source": [
    "The results of the Wooldridge strongly suggest the error terms are correlated across observations. In practice this means that the values of these variables typically vary less *within* than across units. An obvious example would be the `age` variable - observe how the standard deviation within a unit is smaller than between units. This is unsurprising when you consider this is an unbalanced panel where most individuals only appear a handful of times in the sample, and usually in consecutive years."
   ]
  },
  {
   "cell_type": "code",
   "execution_count": 4,
   "metadata": {},
   "outputs": [
    {
     "name": "stdout",
     "output_type": "stream",
     "text": [
      "\n",
      "Variable         |      Mean   Std. Dev.       Min        Max |    Observations\n",
      "-----------------+--------------------------------------------+----------------\n",
      "age      overall |  41.28089   11.30308         20         64 |     N =   63285\n",
      "         between |             11.93296         20         64 |     n =    7602\n",
      "         within  |             3.609779   31.90589   56.58089 | T-bar = 8.32478\n"
     ]
    }
   ],
   "source": [
    "xtsum age"
   ]
  },
  {
   "cell_type": "markdown",
   "metadata": {},
   "source": [
    "[*Explain `xtsum` results using a more intuitive example*]\n",
    "\n",
    "* Overall results is obvious.\n",
    "* Between results collapse data set down to one row per unit, hence slightly different figures to overall results. Min and Max now refer to average values.\n",
    "* Within results calculate differences between observed value for a unit in a given period and the unit's mean value across all periods (and the global mean also, hence why results are counter-intuitive)."
   ]
  },
  {
   "cell_type": "code",
   "execution_count": 5,
   "metadata": {},
   "outputs": [
    {
     "name": "stdout",
     "output_type": "stream",
     "text": [
      "\n",
      "     +----------------+\n",
      "     |       id   age |\n",
      "     |----------------|\n",
      "  1. | 10014578    54 |\n",
      "  2. | 10014578    55 |\n",
      "  3. | 10014578    56 |\n",
      "  4. | 10014578    59 |\n",
      "  5. | 10014578    61 |\n",
      "     |----------------|\n",
      "  6. | 10014578    62 |\n",
      "  7. | 10014578    63 |\n",
      "  8. | 10014608    57 |\n",
      "  9. | 10014608    58 |\n",
      " 10. | 10014608    59 |\n",
      "     |----------------|\n",
      " 11. | 10014608    62 |\n",
      " 12. | 10014608    64 |\n",
      " 13. | 10016813    37 |\n",
      " 14. | 10016813    39 |\n",
      " 15. | 10016813    44 |\n",
      "     |----------------|\n",
      " 16. | 10016848    33 |\n",
      " 17. | 10016848    35 |\n",
      " 18. | 10016848    40 |\n",
      " 19. | 10016848    41 |\n",
      " 20. | 10016848    42 |\n",
      "     |----------------|\n",
      " 21. | 10016848    43 |\n",
      " 22. | 10016848    44 |\n",
      " 23. | 10016848    45 |\n",
      " 24. | 10016848    46 |\n",
      " 25. | 10017933    49 |\n",
      "     |----------------|\n",
      " 26. | 10017933    49 |\n",
      " 27. | 10017933    51 |\n",
      " 28. | 10017933    52 |\n",
      " 29. | 10017933    54 |\n",
      " 30. | 10017933    55 |\n",
      "     |----------------|\n",
      " 31. | 10017933    56 |\n",
      " 32. | 10017933    58 |\n",
      " 33. | 10017933    59 |\n",
      " 34. | 10017933    60 |\n",
      " 35. | 10017933    62 |\n",
      "     |----------------|\n",
      " 36. | 10017968    46 |\n",
      " 37. | 10017968    46 |\n",
      " 38. | 10017968    48 |\n",
      " 39. | 10017968    49 |\n",
      " 40. | 10025804    34 |\n",
      "     |----------------|\n",
      " 41. | 10025804    35 |\n",
      " 42. | 10025804    36 |\n",
      " 43. | 10025804    38 |\n",
      " 44. | 10025804    40 |\n",
      " 45. | 10047069    30 |\n",
      "     |----------------|\n",
      " 46. | 10047069    31 |\n",
      " 47. | 10047069    32 |\n",
      " 48. | 10047069    33 |\n",
      " 49. | 10047069    34 |\n",
      " 50. | 10047069    35 |\n",
      "     +----------------+\n"
     ]
    }
   ],
   "source": [
    "l id age in 1/50"
   ]
  },
  {
   "cell_type": "markdown",
   "metadata": {},
   "source": [
    "The presence of serial (auto) correlation suggests we cannot ignore the panel component of the data. However, that does not mean we need to estimate a panel model. We could use the `regress, cluster()` option to relax the assumption that the error terms are independent. Let's remind ourselves of the results from the Pooled OLS model:"
   ]
  },
  {
   "cell_type": "code",
   "execution_count": null,
   "metadata": {},
   "outputs": [],
   "source": [
    "regress mental age woman couple separated divorced never_married"
   ]
  },
  {
   "cell_type": "markdown",
   "metadata": {},
   "source": [
    "Now let's control for the presence of serial correlation in the data &mdash; notice how the standard errors of the coefficients are larger than those in the model without the `cluster(id)` option:"
   ]
  },
  {
   "cell_type": "code",
   "execution_count": null,
   "metadata": {},
   "outputs": [],
   "source": [
    "regress mental age woman couple separated divorced never_married, cluster(id)"
   ]
  },
  {
   "cell_type": "markdown",
   "metadata": {},
   "source": [
    "We no longer have underestimated standard errors, resulting in more more accurate t tests of the coefficients (though in the above example there were no shifts from statistically significant to insignificant). However we may still want to control for unit-specific differences in the outcome &mdash; that is, is some of the variation in the outcome explained by unobserved heterogeneity? "
   ]
  },
  {
   "cell_type": "code",
   "execution_count": null,
   "metadata": {},
   "outputs": [],
   "source": [
    "xtreg mental age woman couple separated divorced never_married, re\n",
    "xttest0"
   ]
  },
  {
   "cell_type": "markdown",
   "metadata": {},
   "source": [
    "Rejection of the null hypothesis suggests that there is a panel effect on the outcome, and that a Random Effects model is preferred over Pooled OLS."
   ]
  },
  {
   "cell_type": "markdown",
   "metadata": {},
   "source": [
    "### Fixed vs Random Effects?\n",
    "\n",
    "For most repeated contacts data sets, it would be erroneous to ignore the panel component of the data, even after controlling for autocorrelation of the error terms. We then have a choice between Fixed Effects and Random Effects. The *Hausman* test checks whether the coefficients. The null hypothesis of this statistical test is that the coefficients from the Random Effects model are consistent; put another way, it checks whether the estimates from the Random and Fixed Effects model are sufficiently similar. Failure to reject the null hypothesis provides evidence in favour of the Random Effects model, otherwise the Fixed Effects model is more appropriate."
   ]
  },
  {
   "cell_type": "code",
   "execution_count": null,
   "metadata": {},
   "outputs": [],
   "source": [
    "quietly xtreg mental age woman couple separated divorced never_married, fe\n",
    "estimates store fixed\n",
    "\n",
    "quietly xtreg mental age woman couple separated divorced never_married, re\n",
    "estimates store random\n",
    "\n",
    "hausman fixed random"
   ]
  },
  {
   "cell_type": "markdown",
   "metadata": {},
   "source": [
    "In our example, it appears that the coefficients from the Random Effects model are inconsistent and thus the Fixed Effects model should be preferred. Often you'll find that the Hausman test favours the FE model but this isn't definitive proof that the FE model is more appropriate."
   ]
  },
  {
   "cell_type": "markdown",
   "metadata": {},
   "source": [
    "\n",
    "Pieces of information relevant to your decision:\n",
    "* Is your dependent variable influenced by changes within units or between units? If the former is the main analytical consideration then the FE model will be most appropriate, if the latter then the BE model might suffice. If both, then the RE model is most appropriate.\n",
    "* Are you concerned with omitted variable bias? That is, are you worried your explanatory variables are biased due to the exclusion of unobserved time-invariant covariates in the model? If yes, the the FE model is preferred, if not then RE. Look for the `corr(u_i, Xb)` statistic in the FE model results to check if the residuals are correlated with the explanatory variables (an indicator that OVB is an issue)."
   ]
  },
  {
   "cell_type": "markdown",
   "metadata": {},
   "source": [
    "## Tips and tricks\n",
    "\n",
    "### Decomposing variables into between and within effects\n",
    "\n",
    "Show example based on Gould (n.d.)."
   ]
  },
  {
   "cell_type": "markdown",
   "metadata": {},
   "source": [
    "### Time dummies\n",
    "\n",
    "\"Control for time effects whenever unexpected variation or special events my affect the outcome variable\" (Torres-Reyna, 2007). We can control for time effects by including dummy variables for *n - 1* time periods in the data:"
   ]
  },
  {
   "cell_type": "code",
   "execution_count": null,
   "metadata": {},
   "outputs": [],
   "source": [
    "xtreg mental age woman couple separated divorced never_married i.year, fe"
   ]
  },
  {
   "cell_type": "markdown",
   "metadata": {},
   "source": [
    "We can test whether the dummy variables for time periods are equal to 0: if so we can conclude that the effect of time on the outcome is globally statisticall insignificant. We reject the null hypothesis that all of the coefficients for time are equal to 0 and thus we should control for the effect of time in our model."
   ]
  },
  {
   "cell_type": "code",
   "execution_count": null,
   "metadata": {},
   "outputs": [],
   "source": [
    "testparm i.year"
   ]
  }
 ],
 "metadata": {
  "kernelspec": {
   "display_name": "Stata",
   "language": "stata",
   "name": "stata"
  },
  "language_info": {
   "codemirror_mode": "stata",
   "file_extension": ".do",
   "mimetype": "text/x-stata",
   "name": "stata",
   "version": "15.1"
  },
  "toc": {
   "base_numbering": 1,
   "nav_menu": {},
   "number_sections": true,
   "sideBar": false,
   "skip_h1_title": true,
   "title_cell": "Table of Contents",
   "title_sidebar": "Contents",
   "toc_cell": true,
   "toc_position": {},
   "toc_section_display": true,
   "toc_window_display": false
  }
 },
 "nbformat": 4,
 "nbformat_minor": 4
}
