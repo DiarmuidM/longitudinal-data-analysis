{
 "cells": [
  {
   "cell_type": "markdown",
   "metadata": {
    "slideshow": {
     "slide_type": "slide"
    }
   },
   "source": [
    "# Longitudinal Data Analysis: Introduction to Longitudinal Data"
   ]
  },
  {
   "cell_type": "markdown",
   "metadata": {
    "slideshow": {
     "slide_type": "slide"
    },
    "toc": true
   },
   "source": [
    "<h1>Table of Contents<span class=\"tocSkip\"></span></h1>\n",
    "<div class=\"toc\"><ul class=\"toc-item\"><li><span><a href=\"#What-is-longitudinal-data?\" data-toc-modified-id=\"What-is-longitudinal-data?-1\"><span class=\"toc-item-num\">1&nbsp;&nbsp;</span>What is longitudinal data?</a></span><ul class=\"toc-item\"><li><span><a href=\"#Types-of-longitudinal-study-designs\" data-toc-modified-id=\"Types-of-longitudinal-study-designs-1.1\"><span class=\"toc-item-num\">1.1&nbsp;&nbsp;</span>Types of longitudinal study designs</a></span></li></ul></li><li><span><a href=\"#Why-use-longitudinal-data?\" data-toc-modified-id=\"Why-use-longitudinal-data?-2\"><span class=\"toc-item-num\">2&nbsp;&nbsp;</span>Why use longitudinal data?</a></span><ul class=\"toc-item\"><li><span><a href=\"#Research-questions\" data-toc-modified-id=\"Research-questions-2.1\"><span class=\"toc-item-num\">2.1&nbsp;&nbsp;</span>Research questions</a></span></li><li><span><a href=\"#Methodological-benefits\" data-toc-modified-id=\"Methodological-benefits-2.2\"><span class=\"toc-item-num\">2.2&nbsp;&nbsp;</span>Methodological benefits</a></span></li><li><span><a href=\"#A-note-of-caution\" data-toc-modified-id=\"A-note-of-caution-2.3\"><span class=\"toc-item-num\">2.3&nbsp;&nbsp;</span>A note of caution</a></span></li><li><span><a href=\"#In-summary\" data-toc-modified-id=\"In-summary-2.4\"><span class=\"toc-item-num\">2.4&nbsp;&nbsp;</span>In summary</a></span></li></ul></li><li><span><a href=\"#What-does-longitudinal-data-look-like?\" data-toc-modified-id=\"What-does-longitudinal-data-look-like?-3\"><span class=\"toc-item-num\">3&nbsp;&nbsp;</span>What does longitudinal data look like?</a></span></li></ul></div>"
   ]
  },
  {
   "cell_type": "markdown",
   "metadata": {
    "slideshow": {
     "slide_type": "notes"
    }
   },
   "source": [
    "This section draws heavily on the work of Professor Vernon Gayle: [Longitudinal Data Analysis for Social Scientists](https://github.com/vernongayle/aqmen_longitudinal)"
   ]
  },
  {
   "cell_type": "markdown",
   "metadata": {
    "slideshow": {
     "slide_type": "slide"
    }
   },
   "source": [
    "## What is longitudinal data?"
   ]
  },
  {
   "cell_type": "markdown",
   "metadata": {
    "slideshow": {
     "slide_type": "subslide"
    }
   },
   "source": [
    "At its simplest, data that possesses a temporal dimension."
   ]
  },
  {
   "cell_type": "markdown",
   "metadata": {
    "slideshow": {
     "slide_type": "subslide"
    }
   },
   "source": [
    "### Types of longitudinal study designs"
   ]
  },
  {
   "cell_type": "markdown",
   "metadata": {
    "slideshow": {
     "slide_type": "subslide"
    }
   },
   "source": [
    "**Repeated cross-sectional studies** - repeat samples of the same populaiton over time:\n",
    "* National Surveys of Sexual Attitudes and Lifestyles (NATSAL)\n",
    "* British Social Attitudes Survey"
   ]
  },
  {
   "cell_type": "markdown",
   "metadata": {
    "slideshow": {
     "slide_type": "notes"
    }
   },
   "source": [
    "Repeated cross-sectional studies allow analysis of change over time at the aggregate / macro level. For example, the mean number of opposite-sex sexual partners has increased over time in the UK for both men and women:"
   ]
  },
  {
   "cell_type": "markdown",
   "metadata": {
    "slideshow": {
     "slide_type": "subslide"
    }
   },
   "source": [
    "*Figure 3.1.*\n",
    "\n",
    "![NATSAL Sexual Partners](./images/natsal-change-in-partners.jpg)\n",
    "\n",
    "Credit: Wellcome Trust/Paulo Estriga"
   ]
  },
  {
   "cell_type": "markdown",
   "metadata": {
    "slideshow": {
     "slide_type": "subslide"
    }
   },
   "source": [
    "\n",
    "**Panel study** - groups of entities are repeatedly studied over time:\n",
    "* UK Household Longitudinal Study (UKHLS)\n",
    "* Panel Study of Income Dynamics (PSID)\n",
    "* English Longitudinal Study of Aging (ELSA)"
   ]
  },
  {
   "cell_type": "markdown",
   "metadata": {
    "slideshow": {
     "slide_type": "notes"
    }
   },
   "source": [
    "Panel studies collect data on the **same respondents** over time, and thus are known as *repeated contacts* data. For example, PSID has a module examining charitable giving of US households since 2000; this information is collected biennially and allows us to understand how the same households alter their giving behaviour over time (see figure 3.2 below)."
   ]
  },
  {
   "cell_type": "markdown",
   "metadata": {
    "slideshow": {
     "slide_type": "subslide"
    }
   },
   "source": [
    "*Figure 3.2*\n",
    "\n",
    "![PSID Charitable Giving](./images/psid-charitable-giving.png)\n",
    "\n",
    "Credit: [Changes to the Giving Landscape](http://hdl.handle.net/1805/21217)"
   ]
  },
  {
   "cell_type": "markdown",
   "metadata": {
    "slideshow": {
     "slide_type": "subslide"
    }
   },
   "source": [
    "**Cohort study** - following a particular group of entities over time:\n",
    "* Millennium Cohort Study\n",
    "* Growing Up in Scotland \n",
    "* Whitehall Study II"
   ]
  },
  {
   "cell_type": "markdown",
   "metadata": {
    "slideshow": {
     "slide_type": "notes"
    }
   },
   "source": [
    "The Millennium Cohort Study is a multi-wave survey of almost 20,000 children born in the UK during 2000/01, and is a representative sample of all children born during this period (Rafferty et al., 2015). It collects data at different periods (waves) of the children's lives, thus providing longitudinal information on the development and life histories of these children."
   ]
  },
  {
   "cell_type": "markdown",
   "metadata": {
    "slideshow": {
     "slide_type": "subslide"
    }
   },
   "source": [
    "*Figure 3.3.*\n",
    "\n",
    "![MCS ](./images/mcs-weight-transitions.png)\n",
    "\n",
    "Credit: [Child overweight and obesity: Initial findings from the Millennium Cohort Study Age 14 Survey](https://cls.ucl.ac.uk/wp-content/uploads/2017/12/MCS6-Briefing-02-Overweight-and-obesity.pdf)"
   ]
  },
  {
   "cell_type": "markdown",
   "metadata": {
    "slideshow": {
     "slide_type": "slide"
    }
   },
   "source": [
    "## Why use longitudinal data?"
   ]
  },
  {
   "cell_type": "markdown",
   "metadata": {
    "slideshow": {
     "slide_type": "fragment"
    }
   },
   "source": [
    "UK has an unparalleled collection of longitudinal data resources."
   ]
  },
  {
   "cell_type": "markdown",
   "metadata": {
    "slideshow": {
     "slide_type": "fragment"
    }
   },
   "source": [
    "These resources are critical for analysing social change (and social stability)."
   ]
  },
  {
   "cell_type": "markdown",
   "metadata": {
    "slideshow": {
     "slide_type": "fragment"
    }
   },
   "source": [
    "However they are costly to collect, clean and share, therefore strong justification needed."
   ]
  },
  {
   "cell_type": "markdown",
   "metadata": {
    "slideshow": {
     "slide_type": "subslide"
    }
   },
   "source": [
    "### Research questions"
   ]
  },
  {
   "cell_type": "markdown",
   "metadata": {
    "slideshow": {
     "slide_type": "subslide"
    }
   },
   "source": [
    "For many social science research projects cross-sectional data will be sufficient."
   ]
  },
  {
   "cell_type": "markdown",
   "metadata": {
    "slideshow": {
     "slide_type": "notes"
    }
   },
   "source": [
    "For example, if we are interested in understanding regional inequalities, it is sufficient to take a cross-section of data for these regions (e.g., a single census year) and describe variation in some measure of inequality. One of my recent research projects examined the distribution of charities across local authorities in England and Wales:"
   ]
  },
  {
   "cell_type": "markdown",
   "metadata": {
    "slideshow": {
     "slide_type": "fragment"
    }
   },
   "source": [
    "*Figure 3.4.*\n",
    "\n",
    "![Charity Density Map](./images/charity-density-map.png)"
   ]
  },
  {
   "cell_type": "markdown",
   "metadata": {
    "slideshow": {
     "slide_type": "notes"
    }
   },
   "source": [
    "The map displays the mean number of charities per 5000 residents across 326 local authorities in England and Wales. In essence I combined five census years to produce a cross-section of charity density between 1971 and 2011; that is I ignored the longitudinal component of my data and focused instead on making comparisons *between* local authorities."
   ]
  },
  {
   "cell_type": "markdown",
   "metadata": {
    "slideshow": {
     "slide_type": "subslide"
    }
   },
   "source": [
    "Most social research projects can be improved by the analysis of longitudinal data."
   ]
  },
  {
   "cell_type": "markdown",
   "metadata": {
    "slideshow": {
     "slide_type": "fragment"
    }
   },
   "source": [
    "*Figure 3.5.*\n",
    "\n",
    "![Charity Density and Deprivation](./images/charity-density-deprivation.png)"
   ]
  },
  {
   "cell_type": "markdown",
   "metadata": {
    "slideshow": {
     "slide_type": "notes"
    }
   },
   "source": [
    "Figure 3.5 presents the temporal variation in the association between charity density and the level of deprivation in a local authority. Not only can we make comparisons between local authorities in a given year, we can now examine change *over time*, adding much more detail to our understanding of the relationship between density and deprivation."
   ]
  },
  {
   "cell_type": "markdown",
   "metadata": {
    "slideshow": {
     "slide_type": "subslide"
    }
   },
   "source": [
    "Some research questions require longitudinal data."
   ]
  },
  {
   "cell_type": "markdown",
   "metadata": {
    "slideshow": {
     "slide_type": "fragment"
    }
   },
   "source": [
    "*Figure 3.6.*\n",
    "\n",
    "![Charity Density Change Score Model](./images/charity-density-changes.png)"
   ]
  },
  {
   "cell_type": "markdown",
   "metadata": {
    "slideshow": {
     "slide_type": "notes"
    }
   },
   "source": [
    "Figure 3.3 displays the results of a change score model that links changes in the values of a set of explanatory variables to changes in the values of the outcome. For example, a local authority becoming more deprived between census years is associated with a small increase in charity density. Such an analysis is not possible if we did not have data on the same local authorities at multiple time periods."
   ]
  },
  {
   "cell_type": "markdown",
   "metadata": {
    "slideshow": {
     "slide_type": "subslide"
    }
   },
   "source": [
    "Research questions that require longitudinal data:"
   ]
  },
  {
   "cell_type": "markdown",
   "metadata": {
    "slideshow": {
     "slide_type": "fragment"
    }
   },
   "source": [
    "Flows into and out of poverty."
   ]
  },
  {
   "cell_type": "markdown",
   "metadata": {
    "slideshow": {
     "slide_type": "fragment"
    }
   },
   "source": [
    "The effects of family migration on the woman's subsequent employment activities."
   ]
  },
  {
   "cell_type": "markdown",
   "metadata": {
    "slideshow": {
     "slide_type": "fragment"
    }
   },
   "source": [
    "The impact of Covid-19 on long-term health outcomes of individuals."
   ]
  },
  {
   "cell_type": "markdown",
   "metadata": {
    "slideshow": {
     "slide_type": "fragment"
    }
   },
   "source": [
    "Evaluating policy, health, educational interventions."
   ]
  },
  {
   "cell_type": "markdown",
   "metadata": {
    "slideshow": {
     "slide_type": "subslide"
    }
   },
   "source": [
    "### Methodological benefits"
   ]
  },
  {
   "cell_type": "markdown",
   "metadata": {
    "slideshow": {
     "slide_type": "fragment"
    }
   },
   "source": [
    "Micro-level social processes"
   ]
  },
  {
   "cell_type": "markdown",
   "metadata": {
    "slideshow": {
     "slide_type": "notes"
    }
   },
   "source": [
    "Repeated cross-sectional data can reveal macro-level trends and patterns of substantive interest but mask micro-level change. For example, repeated cross-sectional analysis of the British Household Panel Survey (precursor to Understanding Society) showed that poverty rates stabilised in the 1990s. However longitudinal analysis uncovered substantial turnover / churn in terms of which individuals remained in or exited poverty (the poor are not always poor!).\n",
    "\n",
    "In my own research area, cross-sectional analysis of the Scottish Household Survey reveals the proportion of individuals volunteering has remained stable between 2007-2017 (Volunteer Scotland, 2019). However this pattern masks the substantial micro-level variation in volunteering behaviour: that is, it is not the same individuals volunteering every year, with people dipping in and out of this activity throughout the lifecourse."
   ]
  },
  {
   "cell_type": "markdown",
   "metadata": {
    "slideshow": {
     "slide_type": "fragment"
    }
   },
   "source": [
    "Temporal ordering of events"
   ]
  },
  {
   "cell_type": "markdown",
   "metadata": {
    "slideshow": {
     "slide_type": "notes"
    }
   },
   "source": [
    "Longitudinal data give us a better sense of the timing of events and hence the direction of influence. Remember that a necessary (but insufficient) condition for causal analysis is the appropriate temporal ordering of the cause and effect: *X* cannot cause *Y* if it does not occur before *Y*.\n",
    "\n",
    "Understanding &mdash; and having the ability to identify &mdash; the temporal ordering of events helps to address a pervading issue in quantitative social science analysis: *simultaneity bias*. For example, it is difficult to untangle whether poor health causes unemployment, unemployment causes poor health (or both) without some form of longitudinal data."
   ]
  },
  {
   "cell_type": "markdown",
   "metadata": {
    "slideshow": {
     "slide_type": "fragment"
    }
   },
   "source": [
    "Improving control for residual heterogeneity"
   ]
  },
  {
   "cell_type": "markdown",
   "metadata": {
    "slideshow": {
     "slide_type": "notes"
    }
   },
   "source": [
    "Now we arrive at one of the major methodological appeals of longitudinal data: the ability to control for *residual heterogeneity*. As Gayle (2018) concisely states:\n",
    "> The possibility of substantial variation between similar individuals due to unmeasured, and possibly immeasurable, variables is known as 'residual heterogeneity'.\n",
    "\n",
    "You may have heard residual heterogeneity referred to as *omitted variable bias* or *unobserved hetereogeneity*. We'll spend much more time on this benefit in the next session."
   ]
  },
  {
   "cell_type": "markdown",
   "metadata": {
    "slideshow": {
     "slide_type": "fragment"
    }
   },
   "source": [
    "Improving control for state dependence"
   ]
  },
  {
   "cell_type": "markdown",
   "metadata": {
    "slideshow": {
     "slide_type": "notes"
    }
   },
   "source": [
    "Longitudinal data provide important information on the initial or current state an entity is in, and the trajectory of said entity across different or the same states over time. As Nobel Prize winner J.J. Heckman summarises:\n",
    "> A frequently notes empirical regularity in the analysis of employment data is that those who were unemployed in the past or have worked in the past are more likely to be unemployed (or working) in the future.\n",
    "\n",
    "In essence, much of human behaviour is influenced by previous behaviour and outcomes. Think back to the example we showed from the Millennium Cohort Study: both boys and girls were most likely to remain at the same weight (whether normal or excess) at age 14 as they were at age 11."
   ]
  },
  {
   "cell_type": "markdown",
   "metadata": {
    "slideshow": {
     "slide_type": "subslide"
    }
   },
   "source": [
    "### A note of caution"
   ]
  },
  {
   "cell_type": "markdown",
   "metadata": {
    "slideshow": {
     "slide_type": "fragment"
    }
   },
   "source": [
    "Longitudinal data are not a panacea:\n",
    "* For missing data\n",
    "* For measurement error\n",
    "* For lack of sample representativeness\n",
    "* For poorly specified statistical models\n",
    "* Etc"
   ]
  },
  {
   "cell_type": "markdown",
   "metadata": {
    "slideshow": {
     "slide_type": "subslide"
    }
   },
   "source": [
    "### In summary"
   ]
  },
  {
   "cell_type": "markdown",
   "metadata": {
    "slideshow": {
     "slide_type": "fragment"
    }
   },
   "source": [
    "Longitudinal data enhance our ability to investigate complicated processes in the social world!"
   ]
  },
  {
   "cell_type": "markdown",
   "metadata": {
    "slideshow": {
     "slide_type": "slide"
    }
   },
   "source": [
    "## What does longitudinal data look like?"
   ]
  }
 ],
 "metadata": {
  "celltoolbar": "Slideshow",
  "kernelspec": {
   "display_name": "Stata",
   "language": "stata",
   "name": "stata"
  },
  "language_info": {
   "codemirror_mode": "stata",
   "file_extension": ".do",
   "mimetype": "text/x-stata",
   "name": "stata",
   "version": "15.1"
  },
  "toc": {
   "base_numbering": 1,
   "nav_menu": {},
   "number_sections": true,
   "sideBar": false,
   "skip_h1_title": true,
   "title_cell": "Table of Contents",
   "title_sidebar": "Contents",
   "toc_cell": true,
   "toc_position": {},
   "toc_section_display": true,
   "toc_window_display": false
  }
 },
 "nbformat": 4,
 "nbformat_minor": 4
}
