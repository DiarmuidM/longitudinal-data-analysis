{
 "cells": [
  {
   "cell_type": "markdown",
   "metadata": {
    "slideshow": {
     "slide_type": "notes"
    }
   },
   "source": [
    "# Longitudinal Data Analysis"
   ]
  },
  {
   "cell_type": "markdown",
   "metadata": {
    "slideshow": {
     "slide_type": "slide"
    }
   },
   "source": [
    "# Panel Data Analysis IV"
   ]
  },
  {
   "cell_type": "markdown",
   "metadata": {
    "slideshow": {
     "slide_type": "notes"
    },
    "toc": true
   },
   "source": [
    "<h1>Table of Contents<span class=\"tocSkip\"></span></h1>\n",
    "<div class=\"toc\"><ul class=\"toc-item\"><li><span><a href=\"#Quick-reminder\" data-toc-modified-id=\"Quick-reminder-1\"><span class=\"toc-item-num\">1&nbsp;&nbsp;</span>Quick reminder</a></span></li><li><span><a href=\"#Defining-our-statistical-model\" data-toc-modified-id=\"Defining-our-statistical-model-2\"><span class=\"toc-item-num\">2&nbsp;&nbsp;</span>Defining our statistical model</a></span><ul class=\"toc-item\"><li><span><a href=\"#A-word-of-caution\" data-toc-modified-id=\"A-word-of-caution-2.1\"><span class=\"toc-item-num\">2.1&nbsp;&nbsp;</span>A word of caution</a></span></li></ul></li><li><span><a href=\"#Random-Effects-Model\" data-toc-modified-id=\"Random-Effects-Model-3\"><span class=\"toc-item-num\">3&nbsp;&nbsp;</span>Random Effects Model</a></span><ul class=\"toc-item\"><li><span><a href=\"#Conceptualising-the-Random-Effects-model\" data-toc-modified-id=\"Conceptualising-the-Random-Effects-model-3.1\"><span class=\"toc-item-num\">3.1&nbsp;&nbsp;</span>Conceptualising the Random Effects model</a></span></li><li><span><a href=\"#Estimation\" data-toc-modified-id=\"Estimation-3.2\"><span class=\"toc-item-num\">3.2&nbsp;&nbsp;</span>Estimation</a></span></li><li><span><a href=\"#Interpretation\" data-toc-modified-id=\"Interpretation-3.3\"><span class=\"toc-item-num\">3.3&nbsp;&nbsp;</span>Interpretation</a></span></li><li><span><a href=\"#Post-estimation\" data-toc-modified-id=\"Post-estimation-3.4\"><span class=\"toc-item-num\">3.4&nbsp;&nbsp;</span>Post-estimation</a></span></li><li><span><a href=\"#Benefits-of-Random-Effects\" data-toc-modified-id=\"Benefits-of-Random-Effects-3.5\"><span class=\"toc-item-num\">3.5&nbsp;&nbsp;</span>Benefits of Random Effects</a></span></li><li><span><a href=\"#Limitations-of-Random-Effects\" data-toc-modified-id=\"Limitations-of-Random-Effects-3.6\"><span class=\"toc-item-num\">3.6&nbsp;&nbsp;</span>Limitations of Random Effects</a></span></li><li><span><a href=\"#Summarising-the-Random-Effects-model\" data-toc-modified-id=\"Summarising-the-Random-Effects-model-3.7\"><span class=\"toc-item-num\">3.7&nbsp;&nbsp;</span>Summarising the Random Effects model</a></span></li></ul></li><li><span><a href=\"#Summary\" data-toc-modified-id=\"Summary-4\"><span class=\"toc-item-num\">4&nbsp;&nbsp;</span>Summary</a></span></li></ul></div>"
   ]
  },
  {
   "cell_type": "markdown",
   "metadata": {
    "slideshow": {
     "slide_type": "subslide"
    }
   },
   "source": [
    "In this section we estimate a statistical model that leverages some of the main advantages of using panel data: **Random Effects**. We show some examples of how to estimate and interpret this model, and reflect on the conditions under which the model is appropriate."
   ]
  },
  {
   "cell_type": "markdown",
   "metadata": {
    "slideshow": {
     "slide_type": "slide"
    }
   },
   "source": [
    "## Quick reminder"
   ]
  },
  {
   "cell_type": "markdown",
   "metadata": {
    "slideshow": {
     "slide_type": "subslide"
    }
   },
   "source": [
    "Let's briefly recap some essential concepts regarding panel data:"
   ]
  },
  {
   "cell_type": "markdown",
   "metadata": {
    "slideshow": {
     "slide_type": "fragment"
    }
   },
   "source": [
    "Two sources of variation ([Gould, n.d.](https://www.stata.com/support/faqs/statistics/between-estimator/)): \n",
    "1. Cross-section information on differences between units\n",
    "2. Time series information on differences over time within units"
   ]
  },
  {
   "cell_type": "markdown",
   "metadata": {
    "slideshow": {
     "slide_type": "fragment"
    }
   },
   "source": [
    "Pooled OLS and Between Effects models only allow us to examine differences between units."
   ]
  },
  {
   "cell_type": "markdown",
   "metadata": {
    "slideshow": {
     "slide_type": "fragment"
    }
   },
   "source": [
    "Fixed Effects only allow us to examine differences within units."
   ]
  },
  {
   "cell_type": "markdown",
   "metadata": {
    "slideshow": {
     "slide_type": "subslide"
    }
   },
   "source": [
    "What if we wanted a model that leveraged aspects of the Between Effects and Fixed Effects estimators?"
   ]
  },
  {
   "cell_type": "markdown",
   "metadata": {
    "slideshow": {
     "slide_type": "notes"
    }
   },
   "source": [
    "Such a model would give us:"
   ]
  },
  {
   "cell_type": "markdown",
   "metadata": {
    "slideshow": {
     "slide_type": "fragment"
    }
   },
   "source": [
    "* More variation with which to explain the outcome."
   ]
  },
  {
   "cell_type": "markdown",
   "metadata": {
    "slideshow": {
     "slide_type": "fragment"
    }
   },
   "source": [
    "* More flexibilty (e.g., include observed time-invariant explanatory variables)"
   ]
  },
  {
   "cell_type": "markdown",
   "metadata": {
    "slideshow": {
     "slide_type": "fragment"
    }
   },
   "source": [
    "* Other methodological and modelling benefits (e.g., decomposing explanatory variables into within and between effects)"
   ]
  },
  {
   "cell_type": "markdown",
   "metadata": {
    "slideshow": {
     "slide_type": "slide"
    }
   },
   "source": [
    "## Defining our statistical model"
   ]
  },
  {
   "cell_type": "markdown",
   "metadata": {
    "slideshow": {
     "slide_type": "subslide"
    }
   },
   "source": [
    "Recall the general form of Fixed Effects and Random Effects model:"
   ]
  },
  {
   "cell_type": "markdown",
   "metadata": {
    "slideshow": {
     "slide_type": "fragment"
    }
   },
   "source": [
    "\\begin{equation} \\text{y}_{it} = \\beta_0 + \\beta_1x_{1it} + \\mu_{i} + \\text{e}_{it} \\tag{1.3} \\end{equation}"
   ]
  },
  {
   "cell_type": "markdown",
   "metadata": {
    "slideshow": {
     "slide_type": "fragment"
    }
   },
   "source": [
    "In equation 1.3. we have introduced a **unit-specific** term to represent some of the residual variation in the outcome that is unexplained by the explanatory variables."
   ]
  },
  {
   "cell_type": "markdown",
   "metadata": {
    "slideshow": {
     "slide_type": "subslide"
    }
   },
   "source": [
    "This term ($\\mu_{i}$) captures the effect of *residual heterogeneity* on the outcome i.e., unobserved or immeasurable characteristics of the units that are associated with the outcome (and possibly the explanatory variables), and vary across units."
   ]
  },
  {
   "cell_type": "markdown",
   "metadata": {
    "slideshow": {
     "slide_type": "slide"
    }
   },
   "source": [
    "### A word of caution"
   ]
  },
  {
   "cell_type": "markdown",
   "metadata": {
    "slideshow": {
     "slide_type": "fragment"
    }
   },
   "source": [
    "Note the lack of a time subscript *t* in the new term $\\mu_{i}$."
   ]
  },
  {
   "cell_type": "markdown",
   "metadata": {
    "slideshow": {
     "slide_type": "fragment"
    }
   },
   "source": [
    "The implication is that the unobserved unit-specific effect is **constant** over time (i.e., within units)."
   ]
  },
  {
   "cell_type": "markdown",
   "metadata": {
    "slideshow": {
     "slide_type": "fragment"
    }
   },
   "source": [
    "Therefore Fixed Effects and Random Effects models only control for omitted variables that do not change within units (e.g., race, sex at birth, natural ability)."
   ]
  },
  {
   "cell_type": "markdown",
   "metadata": {
    "slideshow": {
     "slide_type": "slide"
    }
   },
   "source": [
    "## Random Effects Model"
   ]
  },
  {
   "cell_type": "markdown",
   "metadata": {
    "slideshow": {
     "slide_type": "subslide"
    }
   },
   "source": [
    "### Conceptualising the Random Effects model"
   ]
  },
  {
   "cell_type": "markdown",
   "metadata": {
    "slideshow": {
     "slide_type": "fragment"
    }
   },
   "source": [
    "1. The Random Effects model focuses on how changes in explanatory variables are associated with changes in the outcome **within and between units**."
   ]
  },
  {
   "cell_type": "markdown",
   "metadata": {
    "slideshow": {
     "slide_type": "fragment"
    }
   },
   "source": [
    "Gayle and Lambert (2018, p. 68):\n",
    "> ...the random effects panel model is a matrix weighted average of the within-effects (fixed effects) and the between effects."
   ]
  },
  {
   "cell_type": "markdown",
   "metadata": {
    "slideshow": {
     "slide_type": "notes"
    }
   },
   "source": [
    "In essence the Random Effects model borrows some information from the Between Effects model and some from the Fixed Effects model.\n",
    "\n",
    "Therefore the coefficients in a Random Effects model allow you to speak in terms of the effect of an explanatory variable on an outcome, whether we are comparing different individuals or different observations for the same individual - we'll what this means when we estimate our first Random Effects model."
   ]
  },
  {
   "cell_type": "markdown",
   "metadata": {
    "slideshow": {
     "slide_type": "subslide"
    }
   },
   "source": [
    "2. It assumes the observed explanatory variables and unobserved unit-specific effects are **not** correlated (i.e., omitted variable bias is not an issue)."
   ]
  },
  {
   "cell_type": "markdown",
   "metadata": {
    "slideshow": {
     "slide_type": "fragment"
    }
   },
   "source": [
    "In essence: the unobserved unit-specific effect explains some of the variation in the outcome, but is not associated with any of the observed explanatory variables."
   ]
  },
  {
   "cell_type": "markdown",
   "metadata": {
    "slideshow": {
     "slide_type": "subslide"
    }
   },
   "source": [
    "The Random Effects model is specified as follows:"
   ]
  },
  {
   "cell_type": "markdown",
   "metadata": {
    "slideshow": {
     "slide_type": "fragment"
    }
   },
   "source": [
    "\\begin{equation} \\text{y}_{it} = \\beta_0 + \\beta_1x_{1it} +...+ \\beta_kx_{kit} + \\upsilon_{i} + \\text{e}_{it} \\tag{1.6} \\end{equation}"
   ]
  },
  {
   "cell_type": "markdown",
   "metadata": {
    "slideshow": {
     "slide_type": "fragment"
    }
   },
   "source": [
    "Where:\n",
    "\n",
    "$\\upsilon_{i}$ represents the unit-specific effect on the outcome."
   ]
  },
  {
   "cell_type": "markdown",
   "metadata": {
    "slideshow": {
     "slide_type": "subslide"
    }
   },
   "source": [
    "As we assume the observed explanatory variables and unobserved unit-specific effects are **not** correlated, there is no need to estimate $\\upsilon_{i}$ as if it were an explanatory variable and hence why it is part of the error component of the model."
   ]
  },
  {
   "cell_type": "markdown",
   "metadata": {
    "slideshow": {
     "slide_type": "notes"
    }
   },
   "source": [
    "Remember, it would only need to be estimated in the model if it would alter the coefficients for the observed explanatory variables: we assume it wouldn't it. Therefore instead of estimating the value of $\\upsilon_{i}$ using the data (as we would for the observed explanatory variables), we assume the unit-specific effects are drawn from a known probability distribution (Gayle and Lambert, 2018)."
   ]
  },
  {
   "cell_type": "markdown",
   "metadata": {
    "slideshow": {
     "slide_type": "fragment"
    }
   },
   "source": [
    "As a result, we are only interested in the variance of $\\upsilon_{i}$ and the extent to which it accounts for variation in the outcome."
   ]
  },
  {
   "cell_type": "markdown",
   "metadata": {
    "slideshow": {
     "slide_type": "subslide"
    }
   },
   "source": [
    "#### Final thoughts on conceptualisation"
   ]
  },
  {
   "cell_type": "markdown",
   "metadata": {
    "slideshow": {
     "slide_type": "fragment"
    }
   },
   "source": [
    "In a Random Effects model we are unconcerned with the actual value of the unit-specific effect."
   ]
  },
  {
   "cell_type": "markdown",
   "metadata": {
    "slideshow": {
     "slide_type": "fragment"
    }
   },
   "source": [
    "We simply want to know to what degree variation in these unit-specific effects is associated with variation in the outcome."
   ]
  },
  {
   "cell_type": "markdown",
   "metadata": {
    "slideshow": {
     "slide_type": "slide"
    }
   },
   "source": [
    "### Estimation"
   ]
  },
  {
   "cell_type": "code",
   "execution_count": 1,
   "metadata": {
    "slideshow": {
     "slide_type": "subslide"
    }
   },
   "outputs": [
    {
     "name": "stdout",
     "output_type": "stream",
     "text": [
      "(Contains annual accounts of charities in E&W for financial years 2006-2017)\n"
     ]
    }
   ],
   "source": [
    "use \"../data/charity-panel-analysis-2020-09-10.dta\", clear"
   ]
  },
  {
   "cell_type": "code",
   "execution_count": 4,
   "metadata": {
    "slideshow": {
     "slide_type": "subslide"
    }
   },
   "outputs": [
    {
     "name": "stdout",
     "output_type": "stream",
     "text": [
      "\n",
      "Random-effects GLS regression                   Number of obs     =     23,826\n",
      "Group variable: regno                           Number of groups  =      2,166\n",
      "\n",
      "R-sq:                                           Obs per group:\n",
      "     within  = 0.0135                                         min =         11\n",
      "     between = 0.0888                                         avg =       11.0\n",
      "     overall = 0.0832                                         max =         11\n",
      "\n",
      "                                                Wald chi2(6)      =     507.12\n",
      "corr(u_i, X)   = 0 (assumed)                    Prob > chi2       =     0.0000\n",
      "\n",
      "------------------------------------------------------------------------------\n",
      "        linc |      Coef.   Std. Err.      z    P>|z|     [95% Conf. Interval]\n",
      "-------------+----------------------------------------------------------------\n",
      "      orgage |    .005022   .0003686    13.62   0.000     .0042995    .0057446\n",
      "      localc |  -.3323159   .0412995    -8.05   0.000    -.4132615   -.2513704\n",
      "        west |   .0797179   .0801801     0.99   0.320    -.0774323    .2368681\n",
      "     genchar |  -.2729578   .0414011    -6.59   0.000    -.3541025   -.1918131\n",
      "    nsources |    .030451     .00276    11.03   0.000     .0250415    .0358605\n",
      "govern_share |    .001024    .000121     8.47   0.000      .000787    .0012611\n",
      "       _cons |   15.15988    .048456   312.86   0.000     15.06491    15.25485\n",
      "-------------+----------------------------------------------------------------\n",
      "     sigma_u |  .90700183\n",
      "     sigma_e |   .2821005\n",
      "         rho |  .91179586   (fraction of variance due to u_i)\n",
      "------------------------------------------------------------------------------\n"
     ]
    }
   ],
   "source": [
    "xtreg linc orgage localc west genchar nsources govern_share, re"
   ]
  },
  {
   "cell_type": "markdown",
   "metadata": {
    "slideshow": {
     "slide_type": "subslide"
    }
   },
   "source": [
    "**QUESTION TIME**\n",
    "\n",
    "1. How much of the variation in the outcome is accounted for by the model? Is this a lot?\n",
    "2. Why are `localc`, `west` and `genchar` included in the estimation of the model (when they weren't in the Fixed Effects model)?\n",
    "3. What does the $\\text{rho}$ statistic tell us?\n",
    "4. Is there evidence of correlation between the unit-specific effects and observed explanatory variables?"
   ]
  },
  {
   "cell_type": "markdown",
   "metadata": {
    "slideshow": {
     "slide_type": "subslide"
    }
   },
   "source": [
    "### Interpretation"
   ]
  },
  {
   "cell_type": "markdown",
   "metadata": {
    "slideshow": {
     "slide_type": "fragment"
    }
   },
   "source": [
    "The effect of the observed explanatory variables is **not** net of the unit-specific effects. That is, we haven't controlled away any correlation between *X* and $\\mu_{i}$ (because we assume they are not correlated)."
   ]
  },
  {
   "cell_type": "markdown",
   "metadata": {
    "slideshow": {
     "slide_type": "notes"
    }
   },
   "source": [
    "$\\text{_cons}$ is the intercept."
   ]
  },
  {
   "cell_type": "markdown",
   "metadata": {
    "slideshow": {
     "slide_type": "fragment"
    }
   },
   "source": [
    "$\\text{orgage}$ is the predicted change in the outcome for a one-unit increase in organisational age, **whether age changes within or between units**."
   ]
  },
  {
   "cell_type": "markdown",
   "metadata": {
    "slideshow": {
     "slide_type": "fragment"
    }
   },
   "source": [
    "$\\text{rho}$ is the proportion of unexplained variance in the outcome explained by unobserved differences between charities (the unit-specific effects), rather than changes within them."
   ]
  },
  {
   "cell_type": "markdown",
   "metadata": {
    "slideshow": {
     "slide_type": "notes"
    }
   },
   "source": [
    "If $\\text{rho}$ > .5 then most of the residual variation in the outcome is due to differences between units, if $\\text{rho}$ < .5 then most of the residual variation is accounted for by differences within units (i.e., the effects of the explanatory variables)."
   ]
  },
  {
   "cell_type": "markdown",
   "metadata": {
    "slideshow": {
     "slide_type": "notes"
    }
   },
   "source": [
    "$\\text{corr(u_i, X) = 0}$ is the formal statement of the (untested) assumption that there is no correlation between the unit-specific effect and the observed explanatory variables in the model."
   ]
  },
  {
   "cell_type": "markdown",
   "metadata": {
    "slideshow": {
     "slide_type": "notes"
    }
   },
   "source": [
    "\n",
    "* $\\text{sigma_u}$ (or $\\sigma_u$) is the standard deviation of residuals within units.\n",
    "* $\\text{sigma_e}$ (or $\\sigma_e$) is the standard deviation of residuals ei.\n",
    "* $\\text{R-sq: overall}$ is the proportion of variance explained by the observed explanatory variables (i.e., excluding the unit-specific effect)."
   ]
  },
  {
   "cell_type": "markdown",
   "metadata": {
    "slideshow": {
     "slide_type": "subslide"
    }
   },
   "source": [
    "### Post-estimation"
   ]
  },
  {
   "cell_type": "markdown",
   "metadata": {
    "slideshow": {
     "slide_type": "fragment"
    }
   },
   "source": [
    "Though it's very rarely of substantive interest, we can recover the unit-specific effects (and other parameter estimates) after estimating a Random Effects model:"
   ]
  },
  {
   "cell_type": "code",
   "execution_count": 5,
   "metadata": {
    "slideshow": {
     "slide_type": "subslide"
    }
   },
   "outputs": [],
   "source": [
    "capture predict random, u\n",
    "capture predict y_hat, xb\n",
    "capture predict ei, e\n",
    "capture predict residuals, ue\n",
    "capture egen pickone = tag(regno)"
   ]
  },
  {
   "cell_type": "code",
   "execution_count": 6,
   "metadata": {
    "slideshow": {
     "slide_type": "subslide"
    }
   },
   "outputs": [
    {
     "name": "stdout",
     "output_type": "stream",
     "text": [
      "\n",
      "        regno   fin_year      random  \n",
      "  1.   200048    2006-07   -1.144261  \n",
      " 12.   200051    2006-07    1.582299  \n",
      " 23.   200069    2006-07     -.21995  \n",
      " 34.   200222    2006-07    -.199622  \n",
      " 45.   200424    2006-07   -.1241415  \n",
      " 56.   200431    2006-07   -.2140733  \n",
      " 67.   200500    2006-07    .2228235  \n",
      " 78.   201081    2006-07    .2918403  \n",
      " 89.   201321    2006-07    -1.13723  \n",
      "100.   201911    2006-07   -.6447842  \n"
     ]
    }
   ],
   "source": [
    "l regno fin_year random if pickone in 1/100, clean"
   ]
  },
  {
   "cell_type": "code",
   "execution_count": 5,
   "metadata": {
    "slideshow": {
     "slide_type": "subslide"
    }
   },
   "outputs": [
    {
     "name": "stdout",
     "output_type": "stream",
     "text": [
      "\n",
      "        regno   fin_year      y_hat   residuals      random          ei  \n",
      "  1.   200048    2006-07   15.34991   -1.348024   -1.144261   -.2037623  \n",
      "  2.   200048    2007-08   15.35493   -1.177057   -1.144261   -.0327961  \n",
      "  3.   200048    2008-09   15.39064   -1.205535   -1.144261   -.0612741  \n",
      "  4.   200048    2009-10   15.36498   -1.132381   -1.144261    .0118806  \n",
      "  5.   200048    2010-11    15.3716   -1.200694   -1.144261   -.0564324  \n",
      "  6.   200048    2011-12   15.37502    -1.22701   -1.144261   -.0827486  \n",
      "  7.   200048    2012-13   15.41329   -1.037294   -1.144261    .1069672  \n",
      "  8.   200048    2013-14   15.38507   -1.085107   -1.144261    .0591543  \n",
      "  9.   200048    2014-15   15.42087   -1.160563   -1.144261   -.0163015  \n",
      " 10.   200048    2015-16   15.39511    -1.09398   -1.144261    .0502813  \n",
      " 11.   200048    2016-17   15.40013   -1.029922   -1.144261    .1143396  \n"
     ]
    }
   ],
   "source": [
    "l regno fin_year y_hat residuals random ei in 1/11, clean"
   ]
  },
  {
   "cell_type": "code",
   "execution_count": 6,
   "metadata": {
    "slideshow": {
     "slide_type": "subslide"
    }
   },
   "outputs": [
    {
     "name": "stdout",
     "output_type": "stream",
     "text": [
      "-1.3480233\n"
     ]
    }
   ],
   "source": [
    "di -1.144261 + -.2037623"
   ]
  },
  {
   "cell_type": "code",
   "execution_count": 7,
   "metadata": {
    "slideshow": {
     "slide_type": "subslide"
    }
   },
   "outputs": [
    {
     "name": "stdout",
     "output_type": "stream",
     "text": [
      "\n",
      "   stats |    random        ei\n",
      "---------+--------------------\n",
      "    mean |    0.0000    0.0000\n",
      "      sd |    0.9096    0.2691\n",
      "------------------------------\n"
     ]
    }
   ],
   "source": [
    "tabstat random ei, s(mean sd) format(%5.4f)"
   ]
  },
  {
   "cell_type": "markdown",
   "metadata": {
    "slideshow": {
     "slide_type": "subslide"
    }
   },
   "source": [
    "### Benefits of Random Effects"
   ]
  },
  {
   "cell_type": "markdown",
   "metadata": {
    "slideshow": {
     "slide_type": "fragment"
    }
   },
   "source": [
    "Analyse both change over time and differences between units [Substantive]"
   ]
  },
  {
   "cell_type": "markdown",
   "metadata": {
    "slideshow": {
     "slide_type": "fragment"
    }
   },
   "source": [
    "Control for residual heterogeneity [Methodological]\n",
    "\n",
    "(Mehmetoglu and Jakobsen, 2016)"
   ]
  },
  {
   "cell_type": "markdown",
   "metadata": {
    "slideshow": {
     "slide_type": "fragment"
    }
   },
   "source": [
    "Estimate observed time-invariant explanatory variables in the model [Substantive and Methodological]"
   ]
  },
  {
   "cell_type": "markdown",
   "metadata": {
    "slideshow": {
     "slide_type": "fragment"
    }
   },
   "source": [
    "Coefficient estimates are **efficient**, especially when compared to those from a Fixed Effects model. As a result, standard errors tend to be smaller."
   ]
  },
  {
   "cell_type": "markdown",
   "metadata": {
    "slideshow": {
     "slide_type": "notes"
    }
   },
   "source": [
    "Put simply, the estimates of the coefficients are based on more information than those in the Fixed Effects model, which bases its estimates on only one source of variation (within)."
   ]
  },
  {
   "cell_type": "markdown",
   "metadata": {
    "slideshow": {
     "slide_type": "subslide"
    }
   },
   "source": [
    "### Limitations of Random Effects"
   ]
  },
  {
   "cell_type": "markdown",
   "metadata": {
    "slideshow": {
     "slide_type": "fragment"
    }
   },
   "source": [
    "Key assumption is often unrealistic [Methdological]"
   ]
  },
  {
   "cell_type": "markdown",
   "metadata": {
    "slideshow": {
     "slide_type": "fragment"
    }
   },
   "source": [
    "Coefficient estimates are **inconsistent** if the key assumption is violated."
   ]
  },
  {
   "cell_type": "markdown",
   "metadata": {
    "slideshow": {
     "slide_type": "notes"
    }
   },
   "source": [
    "That is, if the coefficients for the observed explanatory variables are biased, then increasing the sample size does not necessarily mean we are getting closer to the true value of the parameter."
   ]
  },
  {
   "cell_type": "markdown",
   "metadata": {
    "slideshow": {
     "slide_type": "fragment"
    }
   },
   "source": [
    "Difficult to infer whether the value of a coefficient is mainly determined by within or between variation [Methodological]"
   ]
  },
  {
   "cell_type": "markdown",
   "metadata": {
    "slideshow": {
     "slide_type": "fragment"
    }
   },
   "source": [
    "Cannot control for unobserved residual heterogeneity that varies over time [Methodological]\n",
    "\n",
    "Educational ability? Natural resilience?"
   ]
  },
  {
   "cell_type": "markdown",
   "metadata": {
    "slideshow": {
     "slide_type": "notes"
    }
   },
   "source": [
    "The last point is worth expanding on: if units differ in an unobserved way that varies over time, this will not be controlled for in the Random Effects model."
   ]
  },
  {
   "cell_type": "markdown",
   "metadata": {
    "slideshow": {
     "slide_type": "subslide"
    }
   },
   "source": [
    "### Summarising the Random Effects model"
   ]
  },
  {
   "cell_type": "markdown",
   "metadata": {
    "slideshow": {
     "slide_type": "fragment"
    }
   },
   "source": [
    "Analyses both change within a unit's outcomes, and differences between units' outcomes."
   ]
  },
  {
   "cell_type": "markdown",
   "metadata": {
    "slideshow": {
     "slide_type": "fragment"
    }
   },
   "source": [
    "Can control for the effect of unobserved time-invariant explanatory variables (residual heterogeneity)."
   ]
  },
  {
   "cell_type": "markdown",
   "metadata": {
    "slideshow": {
     "slide_type": "fragment"
    }
   },
   "source": [
    "Can include observed explanatory variables that do not vary within units (e.g., race, sex at birth)."
   ]
  },
  {
   "cell_type": "markdown",
   "metadata": {
    "slideshow": {
     "slide_type": "fragment"
    }
   },
   "source": [
    "Does not provide robust estimates of observed explanatory variables when said variables are correlated with unobserved unit-specific effects."
   ]
  },
  {
   "cell_type": "markdown",
   "metadata": {
    "slideshow": {
     "slide_type": "slide"
    }
   },
   "source": [
    "## Summary"
   ]
  },
  {
   "cell_type": "markdown",
   "metadata": {
    "slideshow": {
     "slide_type": "fragment"
    }
   },
   "source": [
    "Both the Pooled OLS and Between Effects models provide useful information on the association between an outcome *Y* and a set of explanatory variables *X*."
   ]
  },
  {
   "cell_type": "markdown",
   "metadata": {
    "slideshow": {
     "slide_type": "fragment"
    }
   },
   "source": [
    "Fixed Effects provide potentially different information on the association between an outcome *Y* and a set of explanatory variables *X."
   ]
  },
  {
   "cell_type": "markdown",
   "metadata": {
    "slideshow": {
     "slide_type": "fragment"
    }
   },
   "source": [
    "Random Effects combines the *within* and *between* perspectives - methodological and substantive benefits."
   ]
  }
 ],
 "metadata": {
  "kernelspec": {
   "display_name": "Stata",
   "language": "stata",
   "name": "stata"
  },
  "language_info": {
   "codemirror_mode": "stata",
   "file_extension": ".do",
   "mimetype": "text/x-stata",
   "name": "stata",
   "version": "15.1"
  },
  "toc": {
   "base_numbering": 1,
   "nav_menu": {},
   "number_sections": true,
   "sideBar": false,
   "skip_h1_title": true,
   "title_cell": "Table of Contents",
   "title_sidebar": "Contents",
   "toc_cell": true,
   "toc_position": {},
   "toc_section_display": true,
   "toc_window_display": false
  }
 },
 "nbformat": 4,
 "nbformat_minor": 4
}
